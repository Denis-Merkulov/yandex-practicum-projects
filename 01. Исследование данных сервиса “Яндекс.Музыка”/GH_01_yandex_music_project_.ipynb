{
 "cells": [
  {
   "cell_type": "markdown",
   "metadata": {
    "deletable": false,
    "editable": false,
    "id": "E0vqbgi9ay0H"
   },
   "source": [
    "# Яндекс.Музыка"
   ]
  },
  {
   "cell_type": "markdown",
   "metadata": {
    "deletable": false,
    "editable": false,
    "id": "VUC88oWjTJw2"
   },
   "source": [
    "Сравнение Москвы и Петербурга окружено мифами. Например:\n",
    " * Москва — мегаполис, подчинённый жёсткому ритму рабочей недели;\n",
    " * Петербург — культурная столица, со своими вкусами.\n",
    "\n",
    "На данных Яндекс Музыки вы сравните поведение пользователей двух столиц.\n",
    "\n",
    "**Цель исследования** — проверьте три гипотезы:\n",
    "1. Активность пользователей зависит от дня недели. Причём в Москве и Петербурге это проявляется по-разному.\n",
    "2. В понедельник утром в Москве преобладают одни жанры, а в Петербурге — другие. Так же и вечером пятницы преобладают разные жанры — в зависимости от города. \n",
    "3. Москва и Петербург предпочитают разные жанры музыки. В Москве чаще слушают поп-музыку, в Петербурге — русский рэп.\n",
    "\n",
    "**Ход исследования**\n",
    "\n",
    "Данные о поведении пользователей вы получите из файла `yandex_music_project.csv`. О качестве данных ничего не известно. Поэтому перед проверкой гипотез понадобится обзор данных. \n",
    "\n",
    "Вы проверите данные на ошибки и оцените их влияние на исследование. Затем, на этапе предобработки вы поищете возможность исправить самые критичные ошибки данных.\n",
    " \n",
    "Таким образом, исследование пройдёт в три этапа:\n",
    " 1. Обзор данных.\n",
    " 2. Предобработка данных.\n",
    " 3. Проверка гипотез.\n",
    "\n"
   ]
  },
  {
   "cell_type": "markdown",
   "metadata": {
    "deletable": false,
    "editable": false,
    "id": "Ml1hmfXC_Zcs"
   },
   "source": [
    "## Обзор данных\n",
    "\n",
    "Составьте первое представление о данных Яндекс Музыки.\n",
    "\n",
    "\n"
   ]
  },
  {
   "cell_type": "markdown",
   "metadata": {
    "deletable": false,
    "editable": false,
    "id": "57eAOGIz_Zcs",
    "tags": [
     "start_task"
    ]
   },
   "source": [
    "**Задание 1**\n",
    "\n",
    "Основной инструмент аналитика — `pandas`. Импортируйте эту библиотеку."
   ]
  },
  {
   "cell_type": "code",
   "execution_count": 1,
   "metadata": {
    "deletable": false,
    "id": "AXN7PHPN_Zcs"
   },
   "outputs": [],
   "source": [
    "import pandas as pd # импорт библиотеки pandas"
   ]
  },
  {
   "cell_type": "markdown",
   "metadata": {
    "deletable": false,
    "editable": false,
    "id": "SG23P8tt_Zcs",
    "tags": [
     "start_task"
    ]
   },
   "source": [
    "**Задание 2**\n",
    "\n",
    "Прочитайте файл `yandex_music_project.csv` из папки `/datasets` и сохраните его в переменной `df`:"
   ]
  },
  {
   "cell_type": "code",
   "execution_count": 2,
   "metadata": {
    "deletable": false,
    "id": "fFVu7vqh_Zct"
   },
   "outputs": [],
   "source": [
    "df = pd.read_csv('/datasets/yandex_music_project.csv') # чтение файла с данными и сохранение в df"
   ]
  },
  {
   "cell_type": "markdown",
   "metadata": {
    "deletable": false,
    "editable": false,
    "id": "rDoOMd3uTqnZ",
    "tags": [
     "start_task"
    ]
   },
   "source": [
    "**Задание 3**\n",
    "\n",
    "\n",
    "Выведите на экран первые десять строк таблицы:"
   ]
  },
  {
   "cell_type": "code",
   "execution_count": 3,
   "metadata": {
    "deletable": false,
    "id": "oWTVX3gW_Zct"
   },
   "outputs": [
    {
     "name": "stdout",
     "output_type": "stream",
     "text": [
      "     userID                        Track            artist   genre  \\\n",
      "0  FFB692EC            Kamigata To Boots  The Mass Missile    rock   \n",
      "1  55204538  Delayed Because of Accident  Andreas Rönnberg    rock   \n",
      "2    20EC38            Funiculì funiculà       Mario Lanza     pop   \n",
      "3  A3DD03C9        Dragons in the Sunset        Fire + Ice    folk   \n",
      "4  E2DC1FAE                  Soul People        Space Echo   dance   \n",
      "5  842029A1                    Преданная         IMPERVTOR  rusrap   \n",
      "6  4CB90AA5                         True      Roman Messer   dance   \n",
      "7  F03E1C1F             Feeling This Way   Polina Griffith   dance   \n",
      "8  8FA1D3BE     И вновь продолжается бой               NaN  ruspop   \n",
      "9  E772D5C0                    Pessimist               NaN   dance   \n",
      "\n",
      "             City        time        Day  \n",
      "0  Saint-Petersburg  20:28:33  Wednesday  \n",
      "1            Moscow  14:07:09     Friday  \n",
      "2  Saint-Petersburg  20:58:07  Wednesday  \n",
      "3  Saint-Petersburg  08:37:09     Monday  \n",
      "4            Moscow  08:34:34     Monday  \n",
      "5  Saint-Petersburg  13:09:41     Friday  \n",
      "6            Moscow  13:00:07  Wednesday  \n",
      "7            Moscow  20:47:49  Wednesday  \n",
      "8            Moscow  09:17:40     Friday  \n",
      "9  Saint-Petersburg  21:20:49  Wednesday  \n"
     ]
    }
   ],
   "source": [
    "print(df.head(10)) # получение первых 10 строк таблицы df"
   ]
  },
  {
   "cell_type": "markdown",
   "metadata": {
    "deletable": false,
    "editable": false,
    "id": "EO73Kwic_Zct",
    "tags": [
     "start_task"
    ]
   },
   "source": [
    "**Задание 4**\n",
    "\n",
    "\n",
    "Одной командой получить общую информацию о таблице c помощью метода `info()`:"
   ]
  },
  {
   "cell_type": "code",
   "execution_count": 4,
   "metadata": {
    "deletable": false,
    "id": "DSf2kIb-_Zct"
   },
   "outputs": [
    {
     "name": "stdout",
     "output_type": "stream",
     "text": [
      "<class 'pandas.core.frame.DataFrame'>\n",
      "RangeIndex: 65079 entries, 0 to 65078\n",
      "Data columns (total 7 columns):\n",
      " #   Column    Non-Null Count  Dtype \n",
      "---  ------    --------------  ----- \n",
      " 0     userID  65079 non-null  object\n",
      " 1   Track     63848 non-null  object\n",
      " 2   artist    57876 non-null  object\n",
      " 3   genre     63881 non-null  object\n",
      " 4     City    65079 non-null  object\n",
      " 5   time      65079 non-null  object\n",
      " 6   Day       65079 non-null  object\n",
      "dtypes: object(7)\n",
      "memory usage: 3.5+ MB\n"
     ]
    }
   ],
   "source": [
    "df.info() # получение общей информации о данных в таблице df"
   ]
  },
  {
   "cell_type": "markdown",
   "metadata": {
    "deletable": false,
    "editable": false,
    "id": "TaQ2Iwbr_Zct"
   },
   "source": [
    "Итак, в таблице семь столбцов. Тип данных во всех столбцах — `object`.\n",
    "\n",
    "Согласно документации к данным:\n",
    "* `userID` — идентификатор пользователя;\n",
    "* `Track` — название трека;  \n",
    "* `artist` — имя исполнителя;\n",
    "* `genre` — название жанра;\n",
    "* `City` — город пользователя;\n",
    "* `time` — время начала прослушивания;\n",
    "* `Day` — день недели.\n",
    "\n",
    "Количество значений в столбцах различается. Значит, в данных есть пропущенные значения."
   ]
  },
  {
   "cell_type": "markdown",
   "metadata": {
    "deletable": false,
    "editable": false,
    "id": "4P0UCWzswgEm",
    "tags": [
     "start_task"
    ]
   },
   "source": [
    "**Задание 5**\n",
    "\n",
    "**Вопрос со свободной формой ответа**\n",
    "\n",
    "В названиях колонок видны три нарушения стиля:\n",
    "1. Строчные буквы сочетаются с прописными.\n",
    "2. Встречаются пробелы."
   ]
  },
  {
   "cell_type": "code",
   "execution_count": 5,
   "metadata": {
    "id": "c137-ZstwgEm"
   },
   "outputs": [],
   "source": [
    "# Напишите ваш ответ здесь комментарием. Не удаляйте символ #. Не меняйте тип этой ячейки на Markdown.\n",
    "# 3. не используется \"змеиный_регистр\""
   ]
  },
  {
   "cell_type": "markdown",
   "metadata": {
    "deletable": false,
    "editable": false,
    "id": "MCB6-dXG_Zct"
   },
   "source": [
    "**Выводы**\n",
    "\n",
    "В каждой строке таблицы — данные о прослушанном треке. Часть колонок описывает саму композицию: название, исполнителя и жанр. Остальные данные рассказывают о пользователе: из какого он города, когда он слушал музыку. \n",
    "\n",
    "Предварительно можно утверждать, что, данных достаточно для проверки гипотез. Но встречаются пропуски в данных, а в названиях колонок — расхождения с хорошим стилем.\n",
    "\n",
    "Чтобы двигаться дальше, нужно устранить проблемы в данных."
   ]
  },
  {
   "cell_type": "markdown",
   "metadata": {
    "deletable": false,
    "editable": false,
    "id": "SjYF6Ub9_Zct"
   },
   "source": [
    "## Предобработка данных\n",
    "Исправьте стиль в заголовках столбцов, исключите пропуски. Затем проверьте данные на дубликаты."
   ]
  },
  {
   "cell_type": "markdown",
   "metadata": {
    "deletable": false,
    "editable": false,
    "id": "dIaKXr29_Zct",
    "tags": [
     "start_task"
    ]
   },
   "source": [
    "### Стиль заголовков\n",
    "\n",
    "**Задание 6**\n",
    "\n",
    "Выведите на экран названия столбцов:"
   ]
  },
  {
   "cell_type": "code",
   "execution_count": 6,
   "metadata": {
    "deletable": false,
    "id": "oKOTdF_Q_Zct"
   },
   "outputs": [
    {
     "name": "stdout",
     "output_type": "stream",
     "text": [
      "Index(['  userID', 'Track', 'artist', 'genre', '  City  ', 'time', 'Day'], dtype='object')\n"
     ]
    }
   ],
   "source": [
    "print(df.columns) # перечень названий столбцов таблицы df"
   ]
  },
  {
   "cell_type": "markdown",
   "metadata": {
    "deletable": false,
    "editable": false,
    "id": "zj5534cv_Zct",
    "tags": [
     "start_task"
    ]
   },
   "source": [
    "**Задание 7**\n",
    "\n",
    "\n",
    "Приведите названия в соответствие с хорошим стилем:\n",
    "* несколько слов в названии запишите в «змеином_регистре»,\n",
    "* все символы сделайте строчными,\n",
    "* устраните пробелы.\n",
    "\n",
    "Для этого переименуйте колонки так:\n",
    "* `'  userID'` → `'user_id'`;\n",
    "* `'Track'` → `'track'`;\n",
    "* `'  City  '` → `'city'`;\n",
    "* `'Day'` → `'day'`."
   ]
  },
  {
   "cell_type": "code",
   "execution_count": 7,
   "metadata": {
    "deletable": false,
    "id": "ISlFqs5y_Zct"
   },
   "outputs": [],
   "source": [
    "df = df.rename(columns=\n",
    "               {\n",
    "               '  userID':'user_id',\n",
    "               'Track'   :'track',\n",
    "               '  City  ':'city',\n",
    "               'Day'     :'day'\n",
    "               }\n",
    "              ) # переименование столбцов"
   ]
  },
  {
   "cell_type": "markdown",
   "metadata": {
    "deletable": false,
    "editable": false,
    "id": "1dqbh00J_Zct",
    "tags": [
     "start_task"
    ]
   },
   "source": [
    "**Задание 8**\n",
    "\n",
    "\n",
    "Проверьте результат. Для этого ещё раз выведите на экран названия столбцов:"
   ]
  },
  {
   "cell_type": "code",
   "execution_count": 8,
   "metadata": {
    "deletable": false,
    "id": "d4NOAmTW_Zct"
   },
   "outputs": [
    {
     "name": "stdout",
     "output_type": "stream",
     "text": [
      "Index(['user_id', 'track', 'artist', 'genre', 'city', 'time', 'day'], dtype='object')\n"
     ]
    }
   ],
   "source": [
    "print(df.columns)# проверка результатов - перечень названий столбцов"
   ]
  },
  {
   "cell_type": "markdown",
   "metadata": {
    "deletable": false,
    "editable": false,
    "id": "5ISfbcfY_Zct",
    "tags": [
     "start_task"
    ]
   },
   "source": [
    "### Пропуски значений\n",
    "\n",
    "**Задание 9**\n",
    "\n",
    "Сначала посчитайте, сколько в таблице пропущенных значений. Для этого достаточно двух методов `pandas`:"
   ]
  },
  {
   "cell_type": "code",
   "execution_count": 9,
   "metadata": {
    "deletable": false,
    "id": "RskX29qr_Zct"
   },
   "outputs": [
    {
     "data": {
      "text/plain": [
       "user_id       0\n",
       "track      1231\n",
       "artist     7203\n",
       "genre      1198\n",
       "city          0\n",
       "time          0\n",
       "day           0\n",
       "dtype: int64"
      ]
     },
     "execution_count": 9,
     "metadata": {},
     "output_type": "execute_result"
    }
   ],
   "source": [
    "df.isna().sum() # подсчёт пропусков"
   ]
  },
  {
   "cell_type": "markdown",
   "metadata": {
    "deletable": false,
    "editable": false,
    "id": "qubhgnlO_Zct"
   },
   "source": [
    "Не все пропущенные значения влияют на исследование. Так в `track` и `artist` пропуски не важны для вашей работы. Достаточно заменить их явными обозначениями.\n",
    "\n",
    "Но пропуски в `genre` могут помешать сравнению музыкальных вкусов в Москве и Санкт-Петербурге. На практике было бы правильно установить причину пропусков и восстановить данные. Такой возможности нет в учебном проекте. Придётся:\n",
    "* заполнить и эти пропуски явными обозначениями,\n",
    "* оценить, насколько они повредят расчётам. "
   ]
  },
  {
   "cell_type": "markdown",
   "metadata": {
    "deletable": false,
    "editable": false,
    "id": "fSv2laPA_Zct",
    "tags": [
     "start_task"
    ]
   },
   "source": [
    "**Задание 10**\n",
    "\n",
    "Замените пропущенные значения в столбцах `track`, `artist` и `genre` на строку `'unknown'`. Для этого создайте список `columns_to_replace`, переберите его элементы циклом `for` и для каждого столбца выполните замену пропущенных значений:"
   ]
  },
  {
   "cell_type": "code",
   "execution_count": 10,
   "metadata": {
    "deletable": false,
    "id": "KplB5qWs_Zct"
   },
   "outputs": [],
   "source": [
    "# перебор названий столбцов в цикле и замена пропущенных значений на 'unknown'\n",
    "\n",
    "columns_to_replace = ['track', 'artist', 'genre']\n",
    "df[columns_to_replace] = df[columns_to_replace].fillna('unknown')"
   ]
  },
  {
   "cell_type": "markdown",
   "metadata": {
    "deletable": false,
    "editable": false,
    "id": "Ilsm-MZo_Zct",
    "tags": [
     "start_task"
    ]
   },
   "source": [
    "**Задание 11**\n",
    "\n",
    "Убедитесь, что в таблице не осталось пропусков. Для этого ещё раз посчитайте пропущенные значения."
   ]
  },
  {
   "cell_type": "code",
   "execution_count": 11,
   "metadata": {
    "deletable": false,
    "id": "Tq4nYRX4_Zct"
   },
   "outputs": [
    {
     "data": {
      "text/plain": [
       "user_id    0\n",
       "track      0\n",
       "artist     0\n",
       "genre      0\n",
       "city       0\n",
       "time       0\n",
       "day        0\n",
       "dtype: int64"
      ]
     },
     "execution_count": 11,
     "metadata": {},
     "output_type": "execute_result"
    }
   ],
   "source": [
    "df.isna().sum() # подсчёт пропусков"
   ]
  },
  {
   "cell_type": "markdown",
   "metadata": {
    "deletable": false,
    "editable": false,
    "id": "BWKRtBJ3_Zct",
    "tags": [
     "start_task"
    ]
   },
   "source": [
    "### Дубликаты\n",
    "\n",
    "**Задание 12**\n",
    "\n",
    "Посчитайте явные дубликаты в таблице одной командой:"
   ]
  },
  {
   "cell_type": "code",
   "execution_count": 12,
   "metadata": {
    "deletable": false,
    "id": "36eES_S0_Zct"
   },
   "outputs": [
    {
     "data": {
      "text/plain": [
       "3826"
      ]
     },
     "execution_count": 12,
     "metadata": {},
     "output_type": "execute_result"
    }
   ],
   "source": [
    "df.duplicated().sum() # подсчёт явных дубликатов"
   ]
  },
  {
   "cell_type": "markdown",
   "metadata": {
    "deletable": false,
    "editable": false,
    "id": "Ot25h6XR_Zct",
    "tags": [
     "start_task"
    ]
   },
   "source": [
    "**Задание 13**\n",
    "\n",
    "Вызовите специальный метод `pandas`, чтобы удалить явные дубликаты:"
   ]
  },
  {
   "cell_type": "code",
   "execution_count": 13,
   "metadata": {
    "deletable": false,
    "id": "exFHq6tt_Zct"
   },
   "outputs": [],
   "source": [
    "df = df.drop_duplicates() # Удаление явных дубликатов (с удалением старых индексов и формированием новых)"
   ]
  },
  {
   "cell_type": "markdown",
   "metadata": {
    "deletable": false,
    "editable": false,
    "id": "Im2YwBEG_Zct",
    "tags": [
     "start_task"
    ]
   },
   "source": [
    "**Задание 14**\n",
    "\n",
    "Ещё раз посчитайте явные дубликаты в таблице — убедитесь, что полностью от них избавились:"
   ]
  },
  {
   "cell_type": "code",
   "execution_count": 14,
   "metadata": {
    "deletable": false,
    "id": "-8PuNWQ0_Zct"
   },
   "outputs": [
    {
     "data": {
      "text/plain": [
       "0"
      ]
     },
     "execution_count": 14,
     "metadata": {},
     "output_type": "execute_result"
    }
   ],
   "source": [
    "df.duplicated().sum()# проверка на отсутствие дубликатов"
   ]
  },
  {
   "cell_type": "markdown",
   "metadata": {
    "deletable": false,
    "editable": false,
    "id": "QlFBsxAr_Zct"
   },
   "source": [
    "Теперь избавьтесь от неявных дубликатов в колонке `genre`. Например, название одного и того же жанра может быть записано немного по-разному. Такие ошибки тоже повлияют на результат исследования."
   ]
  },
  {
   "cell_type": "markdown",
   "metadata": {
    "deletable": false,
    "editable": false,
    "id": "eSjWwsOh_Zct",
    "tags": [
     "start_task"
    ]
   },
   "source": [
    "**Задание 15**\n",
    "\n",
    "Выведите на экран список уникальных названий жанров, отсортированный в алфавитном порядке. Для этого:\n",
    "* извлеките нужный столбец датафрейма, \n",
    "* примените к нему метод сортировки,\n",
    "* для отсортированного столбца вызовите метод, который вернёт уникальные значения из столбца."
   ]
  },
  {
   "cell_type": "code",
   "execution_count": 15,
   "metadata": {
    "deletable": false,
    "id": "JIUcqzZN_Zct"
   },
   "outputs": [
    {
     "data": {
      "text/plain": [
       "array(['acid', 'acoustic', 'action', 'adult', 'africa', 'afrikaans',\n",
       "       'alternative', 'alternativepunk', 'ambient', 'americana',\n",
       "       'animated', 'anime', 'arabesk', 'arabic', 'arena',\n",
       "       'argentinetango', 'art', 'audiobook', 'author', 'avantgarde',\n",
       "       'axé', 'baile', 'balkan', 'beats', 'bigroom', 'black', 'bluegrass',\n",
       "       'blues', 'bollywood', 'bossa', 'brazilian', 'breakbeat', 'breaks',\n",
       "       'broadway', 'cantautori', 'cantopop', 'canzone', 'caribbean',\n",
       "       'caucasian', 'celtic', 'chamber', 'chanson', 'children', 'chill',\n",
       "       'chinese', 'choral', 'christian', 'christmas', 'classical',\n",
       "       'classicmetal', 'club', 'colombian', 'comedy', 'conjazz',\n",
       "       'contemporary', 'country', 'cuban', 'dance', 'dancehall',\n",
       "       'dancepop', 'dark', 'death', 'deep', 'deutschrock', 'deutschspr',\n",
       "       'dirty', 'disco', 'dnb', 'documentary', 'downbeat', 'downtempo',\n",
       "       'drum', 'dub', 'dubstep', 'eastern', 'easy', 'electronic',\n",
       "       'electropop', 'emo', 'entehno', 'epicmetal', 'estrada', 'ethnic',\n",
       "       'eurofolk', 'european', 'experimental', 'extrememetal', 'fado',\n",
       "       'fairytail', 'film', 'fitness', 'flamenco', 'folk', 'folklore',\n",
       "       'folkmetal', 'folkrock', 'folktronica', 'forró', 'frankreich',\n",
       "       'französisch', 'french', 'funk', 'future', 'gangsta', 'garage',\n",
       "       'german', 'ghazal', 'gitarre', 'glitch', 'gospel', 'gothic',\n",
       "       'grime', 'grunge', 'gypsy', 'handsup', \"hard'n'heavy\", 'hardcore',\n",
       "       'hardstyle', 'hardtechno', 'hip', 'hip-hop', 'hiphop',\n",
       "       'historisch', 'holiday', 'hop', 'horror', 'house', 'hymn', 'idm',\n",
       "       'independent', 'indian', 'indie', 'indipop', 'industrial',\n",
       "       'inspirational', 'instrumental', 'international', 'irish', 'jam',\n",
       "       'japanese', 'jazz', 'jewish', 'jpop', 'jungle', 'k-pop',\n",
       "       'karadeniz', 'karaoke', 'kayokyoku', 'korean', 'laiko', 'latin',\n",
       "       'latino', 'leftfield', 'local', 'lounge', 'loungeelectronic',\n",
       "       'lovers', 'malaysian', 'mandopop', 'marschmusik', 'meditative',\n",
       "       'mediterranean', 'melodic', 'metal', 'metalcore', 'mexican',\n",
       "       'middle', 'minimal', 'miscellaneous', 'modern', 'mood', 'mpb',\n",
       "       'muslim', 'native', 'neoklassik', 'neue', 'new', 'newage',\n",
       "       'newwave', 'nu', 'nujazz', 'numetal', 'oceania', 'old', 'opera',\n",
       "       'orchestral', 'other', 'piano', 'podcasts', 'pop', 'popdance',\n",
       "       'popelectronic', 'popeurodance', 'poprussian', 'post',\n",
       "       'posthardcore', 'postrock', 'power', 'progmetal', 'progressive',\n",
       "       'psychedelic', 'punjabi', 'punk', 'quebecois', 'ragga', 'ram',\n",
       "       'rancheras', 'rap', 'rave', 'reggae', 'reggaeton', 'regional',\n",
       "       'relax', 'religious', 'retro', 'rhythm', 'rnb', 'rnr', 'rock',\n",
       "       'rockabilly', 'rockalternative', 'rockindie', 'rockother',\n",
       "       'romance', 'roots', 'ruspop', 'rusrap', 'rusrock', 'russian',\n",
       "       'salsa', 'samba', 'scenic', 'schlager', 'self', 'sertanejo',\n",
       "       'shanson', 'shoegazing', 'showtunes', 'singer', 'ska', 'skarock',\n",
       "       'slow', 'smooth', 'soft', 'soul', 'soulful', 'sound', 'soundtrack',\n",
       "       'southern', 'specialty', 'speech', 'spiritual', 'sport',\n",
       "       'stonerrock', 'surf', 'swing', 'synthpop', 'synthrock',\n",
       "       'sängerportrait', 'tango', 'tanzorchester', 'taraftar', 'tatar',\n",
       "       'tech', 'techno', 'teen', 'thrash', 'top', 'traditional',\n",
       "       'tradjazz', 'trance', 'tribal', 'trip', 'triphop', 'tropical',\n",
       "       'türk', 'türkçe', 'ukrrock', 'unknown', 'urban', 'uzbek',\n",
       "       'variété', 'vi', 'videogame', 'vocal', 'western', 'world',\n",
       "       'worldbeat', 'ïîï', 'электроника'], dtype=object)"
      ]
     },
     "execution_count": 15,
     "metadata": {},
     "output_type": "execute_result"
    }
   ],
   "source": [
    "# Просмотр уникальных названий жанров\n",
    "df_genre = df['genre']\n",
    "df_genre.sort_values().unique()"
   ]
  },
  {
   "cell_type": "markdown",
   "metadata": {
    "deletable": false,
    "editable": false,
    "id": "qej-Qmuo_Zct",
    "tags": [
     "start_task"
    ]
   },
   "source": [
    "**Задание 16**\n",
    "\n",
    "Просмотрите список и найдите неявные дубликаты названия `hiphop`. Это могут быть названия с ошибками или альтернативные названия того же жанра.\n",
    "\n",
    "Вы увидите следующие неявные дубликаты:\n",
    "* *hip*,\n",
    "* *hop*,\n",
    "* *hip-hop*.\n",
    "\n",
    "Чтобы очистить от них таблицу используйте метод `replace()` с двумя аргументами: списком строк-дубликатов (включащий *hip*, *hop* и *hip-hop*) и строкой с правильным значением. Вам нужно исправить колонку `genre` в таблице `df`: заменить каждое значение из списка дубликатов на верное. Вместо `hip`, `hop` и `hip-hop` в таблице должно быть значение `hiphop`:"
   ]
  },
  {
   "cell_type": "code",
   "execution_count": 16,
   "metadata": {
    "deletable": false,
    "id": "ErNDkmns_Zct"
   },
   "outputs": [],
   "source": [
    "df['genre']=df['genre'].replace(['hip','hop', 'hip-hop'], 'hiphop') # Устранение неявных дубликатов"
   ]
  },
  {
   "cell_type": "markdown",
   "metadata": {
    "deletable": false,
    "editable": false,
    "id": "zQKF16_RG15m",
    "tags": [
     "start_task"
    ]
   },
   "source": [
    "**Задание 17**\n",
    "\n",
    "Проверьте, что заменили неправильные названия:\n",
    "\n",
    "*   hip\n",
    "*   hop\n",
    "*   hip-hop\n",
    "\n",
    "Выведите отсортированный список уникальных значений столбца `genre`:"
   ]
  },
  {
   "cell_type": "code",
   "execution_count": 17,
   "metadata": {
    "deletable": false,
    "id": "wvixALnFG15m"
   },
   "outputs": [
    {
     "data": {
      "text/plain": [
       "array(['acid', 'acoustic', 'action', 'adult', 'africa', 'afrikaans',\n",
       "       'alternative', 'alternativepunk', 'ambient', 'americana',\n",
       "       'animated', 'anime', 'arabesk', 'arabic', 'arena',\n",
       "       'argentinetango', 'art', 'audiobook', 'author', 'avantgarde',\n",
       "       'axé', 'baile', 'balkan', 'beats', 'bigroom', 'black', 'bluegrass',\n",
       "       'blues', 'bollywood', 'bossa', 'brazilian', 'breakbeat', 'breaks',\n",
       "       'broadway', 'cantautori', 'cantopop', 'canzone', 'caribbean',\n",
       "       'caucasian', 'celtic', 'chamber', 'chanson', 'children', 'chill',\n",
       "       'chinese', 'choral', 'christian', 'christmas', 'classical',\n",
       "       'classicmetal', 'club', 'colombian', 'comedy', 'conjazz',\n",
       "       'contemporary', 'country', 'cuban', 'dance', 'dancehall',\n",
       "       'dancepop', 'dark', 'death', 'deep', 'deutschrock', 'deutschspr',\n",
       "       'dirty', 'disco', 'dnb', 'documentary', 'downbeat', 'downtempo',\n",
       "       'drum', 'dub', 'dubstep', 'eastern', 'easy', 'electronic',\n",
       "       'electropop', 'emo', 'entehno', 'epicmetal', 'estrada', 'ethnic',\n",
       "       'eurofolk', 'european', 'experimental', 'extrememetal', 'fado',\n",
       "       'fairytail', 'film', 'fitness', 'flamenco', 'folk', 'folklore',\n",
       "       'folkmetal', 'folkrock', 'folktronica', 'forró', 'frankreich',\n",
       "       'französisch', 'french', 'funk', 'future', 'gangsta', 'garage',\n",
       "       'german', 'ghazal', 'gitarre', 'glitch', 'gospel', 'gothic',\n",
       "       'grime', 'grunge', 'gypsy', 'handsup', \"hard'n'heavy\", 'hardcore',\n",
       "       'hardstyle', 'hardtechno', 'hiphop', 'historisch', 'holiday',\n",
       "       'horror', 'house', 'hymn', 'idm', 'independent', 'indian', 'indie',\n",
       "       'indipop', 'industrial', 'inspirational', 'instrumental',\n",
       "       'international', 'irish', 'jam', 'japanese', 'jazz', 'jewish',\n",
       "       'jpop', 'jungle', 'k-pop', 'karadeniz', 'karaoke', 'kayokyoku',\n",
       "       'korean', 'laiko', 'latin', 'latino', 'leftfield', 'local',\n",
       "       'lounge', 'loungeelectronic', 'lovers', 'malaysian', 'mandopop',\n",
       "       'marschmusik', 'meditative', 'mediterranean', 'melodic', 'metal',\n",
       "       'metalcore', 'mexican', 'middle', 'minimal', 'miscellaneous',\n",
       "       'modern', 'mood', 'mpb', 'muslim', 'native', 'neoklassik', 'neue',\n",
       "       'new', 'newage', 'newwave', 'nu', 'nujazz', 'numetal', 'oceania',\n",
       "       'old', 'opera', 'orchestral', 'other', 'piano', 'podcasts', 'pop',\n",
       "       'popdance', 'popelectronic', 'popeurodance', 'poprussian', 'post',\n",
       "       'posthardcore', 'postrock', 'power', 'progmetal', 'progressive',\n",
       "       'psychedelic', 'punjabi', 'punk', 'quebecois', 'ragga', 'ram',\n",
       "       'rancheras', 'rap', 'rave', 'reggae', 'reggaeton', 'regional',\n",
       "       'relax', 'religious', 'retro', 'rhythm', 'rnb', 'rnr', 'rock',\n",
       "       'rockabilly', 'rockalternative', 'rockindie', 'rockother',\n",
       "       'romance', 'roots', 'ruspop', 'rusrap', 'rusrock', 'russian',\n",
       "       'salsa', 'samba', 'scenic', 'schlager', 'self', 'sertanejo',\n",
       "       'shanson', 'shoegazing', 'showtunes', 'singer', 'ska', 'skarock',\n",
       "       'slow', 'smooth', 'soft', 'soul', 'soulful', 'sound', 'soundtrack',\n",
       "       'southern', 'specialty', 'speech', 'spiritual', 'sport',\n",
       "       'stonerrock', 'surf', 'swing', 'synthpop', 'synthrock',\n",
       "       'sängerportrait', 'tango', 'tanzorchester', 'taraftar', 'tatar',\n",
       "       'tech', 'techno', 'teen', 'thrash', 'top', 'traditional',\n",
       "       'tradjazz', 'trance', 'tribal', 'trip', 'triphop', 'tropical',\n",
       "       'türk', 'türkçe', 'ukrrock', 'unknown', 'urban', 'uzbek',\n",
       "       'variété', 'vi', 'videogame', 'vocal', 'western', 'world',\n",
       "       'worldbeat', 'ïîï', 'электроника'], dtype=object)"
      ]
     },
     "execution_count": 17,
     "metadata": {},
     "output_type": "execute_result"
    }
   ],
   "source": [
    "df_genre.sort_values().unique() # Проверка на неявные дубликаты"
   ]
  },
  {
   "cell_type": "markdown",
   "metadata": {
    "deletable": false,
    "editable": false,
    "id": "jz6a9-7HQUDd"
   },
   "source": [
    "**Выводы**\n",
    "\n",
    "Предобработка обнаружила три проблемы в данных:\n",
    "\n",
    "- нарушения в стиле заголовков,\n",
    "- пропущенные значения,\n",
    "- дубликаты — явные и неявные.\n",
    "\n",
    "Вы исправили заголовки, чтобы упростить работу с таблицей. Без дубликатов исследование станет более точным.\n",
    "\n",
    "Пропущенные значения вы заменили на `'unknown'`. Ещё предстоит увидеть, не повредят ли исследованию пропуски в колонке `genre`.\n",
    "\n",
    "Теперь можно перейти к проверке гипотез. "
   ]
  },
  {
   "cell_type": "markdown",
   "metadata": {
    "deletable": false,
    "editable": false,
    "id": "WttZHXH0SqKk"
   },
   "source": [
    "## Проверка гипотез"
   ]
  },
  {
   "cell_type": "markdown",
   "metadata": {
    "deletable": false,
    "editable": false,
    "id": "Im936VVi_Zcu"
   },
   "source": [
    "### Сравнение поведения пользователей двух столиц"
   ]
  },
  {
   "cell_type": "markdown",
   "metadata": {
    "deletable": false,
    "editable": false,
    "id": "nwt_MuaL_Zcu"
   },
   "source": [
    "Первая гипотеза утверждает, что пользователи по-разному слушают музыку в Москве и Санкт-Петербурге. Проверьте это предположение по данным о трёх днях недели — понедельнике, среде и пятнице. Для этого:\n",
    "\n",
    "* Разделите пользователей Москвы и Санкт-Петербурга\n",
    "* Сравните, сколько треков послушала каждая группа пользователей в понедельник, среду и пятницу.\n"
   ]
  },
  {
   "cell_type": "markdown",
   "metadata": {
    "deletable": false,
    "editable": false,
    "id": "8Dw_YMmT_Zcu",
    "tags": [
     "start_task"
    ]
   },
   "source": [
    "**Задание 18**\n",
    "\n",
    "Для тренировки сначала выполните каждый из расчётов по отдельности. \n",
    "\n",
    "Оцените активность пользователей в каждом городе. Сгруппируйте данные по городу и посчитайте прослушивания в каждой группе.\n",
    "\n"
   ]
  },
  {
   "cell_type": "code",
   "execution_count": 18,
   "metadata": {
    "deletable": false,
    "id": "0_Qs96oh_Zcu"
   },
   "outputs": [
    {
     "data": {
      "text/plain": [
       "city\n",
       "Moscow              42741\n",
       "Saint-Petersburg    18512\n",
       "Name: time, dtype: int64"
      ]
     },
     "execution_count": 18,
     "metadata": {},
     "output_type": "execute_result"
    }
   ],
   "source": [
    "df.groupby('city')['time'].count() # Подсчёт прослушиваний в каждом городе"
   ]
  },
  {
   "cell_type": "markdown",
   "metadata": {
    "deletable": false,
    "editable": false,
    "id": "dzli3w8o_Zcu",
    "tags": [
     "start_task"
    ]
   },
   "source": [
    "В Москве прослушиваний больше, чем в Петербурге. Из этого не следует, что московские пользователи чаще слушают музыку. Просто самих пользователей в Москве больше.\n",
    "\n",
    "**Задание 19**\n",
    "\n",
    "Теперь сгруппируйте данные по дню недели и подсчитайте прослушивания в понедельник, среду и пятницу. Учтите, что в данных есть информация только о прослушиваниях только за эти дни.\n"
   ]
  },
  {
   "cell_type": "code",
   "execution_count": 19,
   "metadata": {
    "deletable": false,
    "id": "uZMKjiJz_Zcu"
   },
   "outputs": [
    {
     "data": {
      "text/plain": [
       "day\n",
       "Friday       21840\n",
       "Monday       21354\n",
       "Wednesday    18059\n",
       "Name: time, dtype: int64"
      ]
     },
     "execution_count": 19,
     "metadata": {},
     "output_type": "execute_result"
    }
   ],
   "source": [
    "df.groupby('day')['time'].count() # Подсчёт прослушиваний в каждый из трёх дней"
   ]
  },
  {
   "cell_type": "markdown",
   "metadata": {
    "deletable": false,
    "editable": false,
    "id": "cC2tNrlL_Zcu"
   },
   "source": [
    "В среднем пользователи из двух городов менее активны по средам. Но картина может измениться, если рассмотреть каждый город в отдельности."
   ]
  },
  {
   "cell_type": "markdown",
   "metadata": {
    "deletable": false,
    "editable": false,
    "id": "POzs8bGa_Zcu",
    "tags": [
     "start_task"
    ]
   },
   "source": [
    "**Задание 20**\n",
    "\n",
    "\n",
    "Вы видели, как работает группировка по городу и по дням недели. Теперь напишите функцию, которая объединит два эти расчёта.\n",
    "\n",
    "Создайте функцию `number_tracks()`, которая посчитает прослушивания для заданного дня и города. Ей понадобятся два параметра:\n",
    "* день недели,\n",
    "* название города.\n",
    "\n",
    "В функции сохраните в переменную строки исходной таблицы, у которых значение:\n",
    "  * в колонке `day` равно параметру `day`,\n",
    "  * в колонке `city` равно параметру `city`.\n",
    "\n",
    "Для этого примените последовательную фильтрацию с логической индексацией (или сложные логические выражения в одну строку, если вы уже знакомы с ними).\n",
    "\n",
    "Затем посчитайте значения в столбце `user_id` получившейся таблицы. Результат сохраните в новую переменную. Верните эту переменную из функции."
   ]
  },
  {
   "cell_type": "code",
   "execution_count": 20,
   "metadata": {
    "deletable": false,
    "id": "Nz3GdQB1_Zcu"
   },
   "outputs": [],
   "source": [
    "# <создание функции number_tracks()>\n",
    "# Объявляется функция с двумя параметрами: day, city.\n",
    "# В переменной track_list сохраняются те строки таблицы df, для которых \n",
    "# значение в столбце 'day' равно параметру day и одновременно значение\n",
    "# в столбце 'city' равно параметру city (используйте последовательную фильтрацию\n",
    "# с помощью логической индексации или сложные логические выражения в одну строку, если вы уже знакомы с ними).\n",
    "# В переменной track_list_count сохраняется число значений столбца 'user_id',\n",
    "# рассчитанное методом count() для таблицы track_list.\n",
    "# Функция возвращает число - значение track_list_count.\n",
    "\n",
    "# Функция для подсчёта прослушиваний для конкретного города и дня.\n",
    "# С помощью последовательной фильтрации с логической индексацией она \n",
    "# сначала получит из исходной таблицы строки с нужным днём,\n",
    "# затем из результата отфильтрует строки с нужным городом,\n",
    "# методом count() посчитает количество значений в колонке user_id. \n",
    "# Это количество функция вернёт в качестве результата\n",
    "\n",
    "def number_tracks(day, city):\n",
    "    \n",
    "    track_list = df[df['day'] == day] \n",
    "    track_list = track_list[track_list['city'] == city]\n",
    "# альтернатива - \"cложные логические выражения в одну строку\" (из пачки)\n",
    "#    track_list = df[(df['day'] == day) & (df['city'] == city)]\n",
    "    \n",
    "    track_list_count = track_list['user_id'].count()\n",
    "            \n",
    "\n",
    "    return track_list_count"
   ]
  },
  {
   "cell_type": "markdown",
   "metadata": {
    "deletable": false,
    "editable": false,
    "id": "ytf7xFrFJQ2r",
    "tags": [
     "start_task"
    ]
   },
   "source": [
    "**Задание 21**\n",
    "\n",
    "Вызовите `number_tracks()` шесть раз, меняя значение параметров — так, чтобы получить данные для каждого города в каждый из трёх дней."
   ]
  },
  {
   "cell_type": "code",
   "execution_count": 21,
   "metadata": {
    "deletable": false,
    "id": "rJcRATNQ_Zcu"
   },
   "outputs": [
    {
     "data": {
      "text/plain": [
       "15740"
      ]
     },
     "execution_count": 21,
     "metadata": {},
     "output_type": "execute_result"
    }
   ],
   "source": [
    "number_tracks('Monday', 'Moscow') # количество прослушиваний в Москве по понедельникам"
   ]
  },
  {
   "cell_type": "code",
   "execution_count": 22,
   "metadata": {
    "deletable": false,
    "id": "hq_ncZ5T_Zcu"
   },
   "outputs": [
    {
     "data": {
      "text/plain": [
       "5614"
      ]
     },
     "execution_count": 22,
     "metadata": {},
     "output_type": "execute_result"
    }
   ],
   "source": [
    "number_tracks('Monday', 'Saint-Petersburg') # количество прослушиваний в Санкт-Петербурге по понедельникам"
   ]
  },
  {
   "cell_type": "code",
   "execution_count": 23,
   "metadata": {
    "deletable": false,
    "id": "_NTy2VPU_Zcu"
   },
   "outputs": [
    {
     "data": {
      "text/plain": [
       "11056"
      ]
     },
     "execution_count": 23,
     "metadata": {},
     "output_type": "execute_result"
    }
   ],
   "source": [
    "number_tracks('Wednesday', 'Moscow') # количество прослушиваний в Москве по средам"
   ]
  },
  {
   "cell_type": "code",
   "execution_count": 24,
   "metadata": {
    "deletable": false,
    "id": "j2y3TAwo_Zcu"
   },
   "outputs": [
    {
     "data": {
      "text/plain": [
       "7003"
      ]
     },
     "execution_count": 24,
     "metadata": {},
     "output_type": "execute_result"
    }
   ],
   "source": [
    "number_tracks('Wednesday', 'Saint-Petersburg') # количество прослушиваний в Санкт-Петербурге по средам"
   ]
  },
  {
   "cell_type": "code",
   "execution_count": 25,
   "metadata": {
    "deletable": false,
    "id": "vYDw5u_K_Zcu"
   },
   "outputs": [
    {
     "data": {
      "text/plain": [
       "15945"
      ]
     },
     "execution_count": 25,
     "metadata": {},
     "output_type": "execute_result"
    }
   ],
   "source": [
    "number_tracks('Friday', 'Moscow') # количество прослушиваний в Москве по пятницам"
   ]
  },
  {
   "cell_type": "code",
   "execution_count": 26,
   "metadata": {
    "deletable": false,
    "id": "8_yzFtW3_Zcu"
   },
   "outputs": [
    {
     "data": {
      "text/plain": [
       "5895"
      ]
     },
     "execution_count": 26,
     "metadata": {},
     "output_type": "execute_result"
    }
   ],
   "source": [
    "number_tracks('Friday', 'Saint-Petersburg') # количество прослушиваний в Санкт-Петербурге по пятницам"
   ]
  },
  {
   "cell_type": "markdown",
   "metadata": {
    "deletable": false,
    "editable": false,
    "id": "7QXffbO-_Zcu",
    "tags": [
     "start_task"
    ]
   },
   "source": [
    "**Задание 22**\n",
    "\n",
    "Создайте c помощью конструктора `pd.DataFrame` таблицу, где\n",
    "* названия колонок — `['city', 'monday', 'wednesday', 'friday']`;\n",
    "* данные — результаты, которые вы получили с помощью `number_tracks`."
   ]
  },
  {
   "cell_type": "code",
   "execution_count": 27,
   "metadata": {
    "deletable": false,
    "id": "APAcLpOr_Zcu"
   },
   "outputs": [
    {
     "data": {
      "text/html": [
       "<div>\n",
       "<style scoped>\n",
       "    .dataframe tbody tr th:only-of-type {\n",
       "        vertical-align: middle;\n",
       "    }\n",
       "\n",
       "    .dataframe tbody tr th {\n",
       "        vertical-align: top;\n",
       "    }\n",
       "\n",
       "    .dataframe thead th {\n",
       "        text-align: right;\n",
       "    }\n",
       "</style>\n",
       "<table border=\"1\" class=\"dataframe\">\n",
       "  <thead>\n",
       "    <tr style=\"text-align: right;\">\n",
       "      <th></th>\n",
       "      <th>city</th>\n",
       "      <th>monday</th>\n",
       "      <th>wednesday</th>\n",
       "      <th>friday</th>\n",
       "    </tr>\n",
       "  </thead>\n",
       "  <tbody>\n",
       "    <tr>\n",
       "      <th>0</th>\n",
       "      <td>Moscow</td>\n",
       "      <td>15740</td>\n",
       "      <td>11056</td>\n",
       "      <td>15945</td>\n",
       "    </tr>\n",
       "    <tr>\n",
       "      <th>1</th>\n",
       "      <td>Saint-Petersburg</td>\n",
       "      <td>5614</td>\n",
       "      <td>7003</td>\n",
       "      <td>5895</td>\n",
       "    </tr>\n",
       "  </tbody>\n",
       "</table>\n",
       "</div>"
      ],
      "text/plain": [
       "               city  monday  wednesday  friday\n",
       "0            Moscow   15740      11056   15945\n",
       "1  Saint-Petersburg    5614       7003    5895"
      ]
     },
     "execution_count": 27,
     "metadata": {},
     "output_type": "execute_result"
    }
   ],
   "source": [
    "res_columns = ['city', 'monday', 'wednesday', 'friday']\n",
    "res_data = [\n",
    "           ['Moscow', 15740, 11056, 15945],\n",
    "           ['Saint-Petersburg', 5614, 7003, 5895]\n",
    "       ]\n",
    "info = pd.DataFrame(data=res_data, columns=res_columns)\n",
    "# Таблица с результатами\n",
    "info"
   ]
  },
  {
   "cell_type": "markdown",
   "metadata": {
    "deletable": false,
    "editable": false,
    "id": "-EgPIHYu_Zcu"
   },
   "source": [
    "**Выводы**\n",
    "\n",
    "Данные показывают разницу поведения пользователей:\n",
    "\n",
    "- В Москве пик прослушиваний приходится на понедельник и пятницу, а в среду заметен спад.\n",
    "- В Петербурге, наоборот, больше слушают музыку по средам. Активность в понедельник и пятницу здесь почти в равной мере уступает среде.\n",
    "\n",
    "Значит, данные говорят в пользу первой гипотезы."
   ]
  },
  {
   "cell_type": "markdown",
   "metadata": {
    "deletable": false,
    "editable": false,
    "id": "atZAxtq4_Zcu"
   },
   "source": [
    "### Музыка в начале и в конце недели"
   ]
  },
  {
   "cell_type": "markdown",
   "metadata": {
    "deletable": false,
    "editable": false,
    "id": "eXrQqXFH_Zcu"
   },
   "source": [
    "Согласно второй гипотезе, утром в понедельник в Москве преобладают одни жанры, а в Петербурге — другие. Так же и вечером пятницы преобладают разные жанры — в зависимости от города."
   ]
  },
  {
   "cell_type": "markdown",
   "metadata": {
    "deletable": false,
    "editable": false,
    "id": "S8UcW6Hw_Zcu",
    "tags": [
     "start_task"
    ]
   },
   "source": [
    "**Задание 23**\n",
    "\n",
    "Сохраните таблицы с данными в две переменные:\n",
    "* по Москве — в `moscow_general`;\n",
    "* по Санкт-Петербургу — в `spb_general`."
   ]
  },
  {
   "cell_type": "code",
   "execution_count": 28,
   "metadata": {
    "deletable": false,
    "id": "qeaFfM_P_Zcu"
   },
   "outputs": [],
   "source": [
    "# получение таблицы moscow_general из тех строк таблицы df, \n",
    "# для которых значение в столбце 'city' равно 'Moscow'\n",
    "moscow_general = df[df['city'] == 'Moscow']"
   ]
  },
  {
   "cell_type": "code",
   "execution_count": 29,
   "metadata": {
    "deletable": false,
    "id": "ORaVRKto_Zcu"
   },
   "outputs": [],
   "source": [
    "# получение таблицы spb_general из тех строк таблицы df,\n",
    "# для которых значение в столбце 'city' равно 'Saint-Petersburg'\n",
    "spb_general = df[df['city'] == 'Saint-Petersburg']"
   ]
  },
  {
   "cell_type": "markdown",
   "metadata": {
    "deletable": false,
    "id": "MEJV-CX2_Zcu",
    "tags": [
     "start_task"
    ]
   },
   "source": [
    "**Задание 24**\n",
    "\n",
    "Создайте функцию `genre_weekday()` с четырьмя параметрами:\n",
    "* таблица (датафрейм) с данными,\n",
    "* день недели,\n",
    "* начальная временная метка в формате 'hh:mm', \n",
    "* последняя временная метка в формате 'hh:mm'.\n",
    "\n",
    "Функция должна вернуть информацию о топ-10 жанров тех треков, которые прослушивали в указанный день, в промежутке между двумя отметками времени."
   ]
  },
  {
   "cell_type": "code",
   "execution_count": 39,
   "metadata": {
    "deletable": false,
    "id": "laJT9BYl_Zcu"
   },
   "outputs": [],
   "source": [
    "# Объявление функции genre_weekday() с параметрами table, day, time1, time2,\n",
    "# которая возвращает информацию о самых популярных жанрах в указанный день в\n",
    "# заданное время:\n",
    "# 1) в переменную genre_df сохраняются те строки переданного датафрейма table, для\n",
    "#    которых одновременно:\n",
    "#    - значение в столбце day равно значению аргумента day\n",
    "#    - значение в столбце time больше значения аргумента time1\n",
    "#    - значение в столбце time меньше значения аргумента time2\n",
    "#    Используйте последовательную фильтрацию с помощью логической индексации.\n",
    "# 2) сгруппировать датафрейм genre_df по столбцу genre, взять один из его\n",
    "#    столбцов и посчитать методом count() количество записей для каждого из\n",
    "#    присутствующих жанров, получившийся Series записать в переменную\n",
    "#    genre_df_grouped\n",
    "# 3) отсортировать genre_df_grouped по убыванию встречаемости и сохранить\n",
    "#    в переменную genre_df_sorted\n",
    "# 4) вернуть Series из 10 первых значений genre_df_sorted, это будут топ-10\n",
    "#    популярных жанров (в указанный день, в заданное время)\n",
    "\n",
    "def genre_weekday(table, day, time1, time2):\n",
    "    # последовательная фильтрация\n",
    "    # оставляем в genre_df только те строки df, у которых день равен day\n",
    "    genre_df = table[table['day'] == day] # ваш код здесь\n",
    "    # оставляем в genre_df только те строки genre_df, у которых время меньше time2\n",
    "    genre_df = genre_df[genre_df['time'] < time2] # ваш код здесь\n",
    "    # оставляем в genre_df только те строки genre_df, у которых время больше time1\n",
    "    genre_df = genre_df[genre_df['time'] > time1] # ваш код здесь\n",
    "    # сгруппируем отфильтрованный датафрейм по столбцу с названиями жанров, возьмём столбец genre и посчитаем кол-во строк для каждого жанра методом count()\n",
    "    genre_df_grouped = genre_df.groupby('genre')['genre'].count() # ваш код здесь\n",
    "    # отсортируем результат по убыванию (чтобы в начале Series оказались самые популярные жанры)\n",
    "    genre_df_sorted = genre_df_grouped.sort_values(ascending=False) # ваш код здесь\n",
    "    # вернём Series с 10 самыми популярными жанрами в указанный отрезок времени заданного дня\n",
    "    return genre_df_sorted[:10]"
   ]
  },
  {
   "cell_type": "markdown",
   "metadata": {
    "deletable": false,
    "editable": false,
    "id": "la2s2_PF_Zcu",
    "tags": [
     "start_task"
    ]
   },
   "source": [
    "**Задание 25**\n",
    "\n",
    "\n",
    "Cравните результаты функции `genre_weekday()` для Москвы и Санкт-Петербурга в понедельник утром (с 7:00 до 11:00) и в пятницу вечером (с 17:00 до 23:00):"
   ]
  },
  {
   "cell_type": "code",
   "execution_count": 40,
   "metadata": {
    "deletable": false,
    "id": "yz7itPUQ_Zcu"
   },
   "outputs": [
    {
     "data": {
      "text/plain": [
       "genre\n",
       "pop            781\n",
       "dance          549\n",
       "electronic     480\n",
       "rock           474\n",
       "hiphop         286\n",
       "ruspop         186\n",
       "world          181\n",
       "rusrap         175\n",
       "alternative    164\n",
       "unknown        161\n",
       "Name: genre, dtype: int64"
      ]
     },
     "execution_count": 40,
     "metadata": {},
     "output_type": "execute_result"
    }
   ],
   "source": [
    "# вызов функции для утра понедельника в Москве (вместо df — таблица moscow_general)\n",
    "# объекты, хранящие время, являются строками и сравниваются как строки\n",
    "# пример вызова: genre_weekday(moscow_general, 'Monday', '07:00', '11:00')\n",
    "genre_weekday(moscow_general, 'Monday', '07:00', '11:00')"
   ]
  },
  {
   "cell_type": "code",
   "execution_count": 41,
   "metadata": {
    "deletable": false,
    "id": "kwUcHPdy_Zcu"
   },
   "outputs": [
    {
     "data": {
      "text/plain": [
       "genre\n",
       "pop            218\n",
       "dance          182\n",
       "rock           162\n",
       "electronic     147\n",
       "hiphop          80\n",
       "ruspop          64\n",
       "alternative     58\n",
       "rusrap          55\n",
       "jazz            44\n",
       "classical       40\n",
       "Name: genre, dtype: int64"
      ]
     },
     "execution_count": 41,
     "metadata": {},
     "output_type": "execute_result"
    }
   ],
   "source": [
    "# вызов функции для утра понедельника в Петербурге (вместо df — таблица spb_general)\n",
    "genre_weekday (spb_general, 'Monday', '07:00', '11:00')"
   ]
  },
  {
   "cell_type": "code",
   "execution_count": 42,
   "metadata": {
    "deletable": false,
    "id": "EzXVRE1o_Zcu"
   },
   "outputs": [
    {
     "data": {
      "text/plain": [
       "genre\n",
       "pop            713\n",
       "rock           517\n",
       "dance          495\n",
       "electronic     482\n",
       "hiphop         273\n",
       "world          208\n",
       "ruspop         170\n",
       "alternative    163\n",
       "classical      163\n",
       "rusrap         142\n",
       "Name: genre, dtype: int64"
      ]
     },
     "execution_count": 42,
     "metadata": {},
     "output_type": "execute_result"
    }
   ],
   "source": [
    "# вызов функции для вечера пятницы в Москве\n",
    "genre_weekday(moscow_general, 'Friday', '17:00', '23:00')"
   ]
  },
  {
   "cell_type": "code",
   "execution_count": 43,
   "metadata": {
    "deletable": false,
    "id": "JZaEKu5v_Zcu"
   },
   "outputs": [
    {
     "data": {
      "text/plain": [
       "genre\n",
       "pop            256\n",
       "electronic     216\n",
       "rock           216\n",
       "dance          210\n",
       "hiphop          97\n",
       "alternative     63\n",
       "jazz            61\n",
       "classical       60\n",
       "rusrap          59\n",
       "world           54\n",
       "Name: genre, dtype: int64"
      ]
     },
     "execution_count": 43,
     "metadata": {},
     "output_type": "execute_result"
    }
   ],
   "source": [
    "# вызов функции для вечера пятницы в Петербурге\n",
    "genre_weekday(spb_general, 'Friday', '17:00', '23:00')"
   ]
  },
  {
   "cell_type": "markdown",
   "metadata": {
    "deletable": false,
    "editable": false,
    "id": "wrCe4MNX_Zcu"
   },
   "source": [
    "**Выводы**\n",
    "\n",
    "Если сравнить топ-10 жанров в понедельник утром, можно сделать такие выводы:\n",
    "\n",
    "1. В Москве и Петербурге слушают похожую музыку. Единственное отличие — в московский рейтинг вошёл жанр “world”, а в петербургский — джаз и классика.\n",
    "\n",
    "2. В Москве пропущенных значений оказалось так много, что значение `'unknown'` заняло десятое место среди самых популярных жанров. Значит, пропущенные значения занимают существенную долю в данных и угрожают достоверности исследования.\n",
    "\n",
    "Вечер пятницы не меняет эту картину. Некоторые жанры поднимаются немного выше, другие спускаются, но в целом топ-10 остаётся тем же самым.\n",
    "\n",
    "Таким образом, вторая гипотеза подтвердилась лишь частично:\n",
    "* Пользователи слушают похожую музыку в начале недели и в конце.\n",
    "* Разница между Москвой и Петербургом не слишком выражена. В Москве чаще слушают русскую популярную музыку, в Петербурге — джаз.\n",
    "\n",
    "Однако пропуски в данных ставят под сомнение этот результат. В Москве их так много, что рейтинг топ-10 мог бы выглядеть иначе, если бы не утерянные  данные о жанрах."
   ]
  },
  {
   "cell_type": "markdown",
   "metadata": {
    "deletable": false,
    "editable": false,
    "id": "JolODAqr_Zcu"
   },
   "source": [
    "### Жанровые предпочтения в Москве и Петербурге\n",
    "\n",
    "Гипотеза: Петербург — столица рэпа, музыку этого жанра там слушают чаще, чем в Москве.  А Москва — город контрастов, в котором, тем не менее, преобладает поп-музыка."
   ]
  },
  {
   "cell_type": "markdown",
   "metadata": {
    "deletable": false,
    "editable": false,
    "id": "DlegSvaT_Zcu",
    "tags": [
     "start_task"
    ]
   },
   "source": [
    "**Задание 26**\n",
    "\n",
    "Сгруппируйте таблицу `moscow_general` по жанру и посчитайте прослушивания треков каждого жанра методом `count()`. Затем отсортируйте результат в порядке убывания и сохраните его в таблице `moscow_genres`."
   ]
  },
  {
   "cell_type": "code",
   "execution_count": 50,
   "metadata": {
    "deletable": false,
    "id": "r19lIPke_Zcu"
   },
   "outputs": [],
   "source": [
    "# одной строкой: группировка таблицы moscow_general по столбцу 'genre', \n",
    "# подсчёт числа значений 'genre' в этой группировке методом count(), \n",
    "# сортировка получившегося Series в порядке убывания и сохранение в moscow_genres\n",
    "moscow_genres = moscow_general.groupby('genre')['genre'].count().sort_values(ascending=False)"
   ]
  },
  {
   "cell_type": "markdown",
   "metadata": {
    "deletable": false,
    "editable": false,
    "id": "6kMuomxTiIr8",
    "tags": [
     "start_task"
    ]
   },
   "source": [
    "**Задание 27**\n",
    "\n",
    "Выведите на экран первые десять строк `moscow_genres`:"
   ]
  },
  {
   "cell_type": "code",
   "execution_count": 51,
   "metadata": {
    "deletable": false,
    "id": "WhCSooF8_Zcv"
   },
   "outputs": [
    {
     "data": {
      "text/plain": [
       "genre\n",
       "pop            5892\n",
       "dance          4435\n",
       "rock           3965\n",
       "electronic     3786\n",
       "hiphop         2096\n",
       "classical      1616\n",
       "world          1432\n",
       "alternative    1379\n",
       "ruspop         1372\n",
       "rusrap         1161\n",
       "Name: genre, dtype: int64"
      ]
     },
     "execution_count": 51,
     "metadata": {},
     "output_type": "execute_result"
    }
   ],
   "source": [
    "moscow_genres[:10] # просмотр первых 10 строк moscow_genres"
   ]
  },
  {
   "cell_type": "markdown",
   "metadata": {
    "deletable": false,
    "editable": false,
    "id": "cnPG2vnN_Zcv",
    "tags": [
     "start_task"
    ]
   },
   "source": [
    "**Задание 28**\n",
    "\n",
    "\n",
    "Теперь повторите то же и для Петербурга.\n",
    "\n",
    "Сгруппируйте таблицу `spb_general` по жанру. Посчитайте прослушивания треков каждого жанра. Результат отсортируйте в порядке убывания и сохраните в таблице `spb_genres`:\n"
   ]
  },
  {
   "cell_type": "code",
   "execution_count": 52,
   "metadata": {
    "deletable": false,
    "id": "gluLIpE7_Zcv"
   },
   "outputs": [],
   "source": [
    "# одной строкой: группировка таблицы spb_general по столбцу 'genre', \n",
    "# подсчёт числа значений 'genre' в этой группировке методом count(), \n",
    "# сортировка получившегося Series в порядке убывания и сохранение в spb_genres\n",
    "spb_genres = spb_general.groupby('genre')['genre'].count().sort_values(ascending=False)"
   ]
  },
  {
   "cell_type": "markdown",
   "metadata": {
    "deletable": false,
    "editable": false,
    "id": "5Doha_ODgyQ8",
    "tags": [
     "start_task"
    ]
   },
   "source": [
    "**Задание 29**\n",
    "\n",
    "Выведите на экран первые десять строк `spb_genres`:"
   ]
  },
  {
   "cell_type": "code",
   "execution_count": 53,
   "metadata": {
    "deletable": false,
    "id": "uaGJHjVU_Zcv"
   },
   "outputs": [
    {
     "data": {
      "text/plain": [
       "genre\n",
       "pop            2431\n",
       "dance          1932\n",
       "rock           1879\n",
       "electronic     1736\n",
       "hiphop          960\n",
       "alternative     649\n",
       "classical       646\n",
       "rusrap          564\n",
       "ruspop          538\n",
       "world           515\n",
       "Name: genre, dtype: int64"
      ]
     },
     "execution_count": 53,
     "metadata": {},
     "output_type": "execute_result"
    }
   ],
   "source": [
    "spb_genres[:10] # просмотр первых 10 строк spb_genres"
   ]
  },
  {
   "cell_type": "markdown",
   "metadata": {
    "deletable": false,
    "editable": false,
    "id": "RY51YJYu_Zcv"
   },
   "source": [
    "**Выводы**"
   ]
  },
  {
   "cell_type": "markdown",
   "metadata": {
    "deletable": false,
    "editable": false,
    "id": "nVhnJEm__Zcv"
   },
   "source": [
    "Гипотеза частично подтвердилась:\n",
    "* Поп-музыка — самый популярный жанр в Москве, как и предполагала гипотеза. Более того, в топ-10 жанров встречается близкий жанр — русская популярная музыка.\n",
    "* Вопреки ожиданиям, рэп одинаково популярен в Москве и Петербурге. \n"
   ]
  },
  {
   "cell_type": "markdown",
   "metadata": {
    "deletable": false,
    "editable": false,
    "id": "ykKQ0N65_Zcv"
   },
   "source": [
    "## Итоги исследования"
   ]
  },
  {
   "cell_type": "markdown",
   "metadata": {
    "deletable": false,
    "editable": false,
    "id": "tjUwbHb3_Zcv"
   },
   "source": [
    "Вы проверили три гипотезы и установили:\n",
    "\n",
    "1. День недели по-разному влияет на активность пользователей в Москве и Петербурге. \n",
    "\n",
    "Первая гипотеза полностью подтвердилась.\n",
    "\n",
    "2. Музыкальные предпочтения не сильно меняются в течение недели — будь то Москва или Петербург. Небольшие различия заметны в начале недели, по понедельникам:\n",
    "* в Москве слушают музыку жанра “world”,\n",
    "* в Петербурге — джаз и классику.\n",
    "\n",
    "Таким образом, вторая гипотеза подтвердилась лишь отчасти. Этот результат мог оказаться иным, если бы не пропуски в данных.\n",
    "\n",
    "3. Во вкусах пользователей Москвы и Петербурга больше общего чем различий. Вопреки ожиданиям, предпочтения жанров в Петербурге напоминают московские.\n",
    "\n",
    "Третья гипотеза не подтвердилась. Если различия в предпочтениях и существуют, на основной массе пользователей они незаметны.\n",
    "\n",
    "**На практике исследования содержат проверки статистических гипотез.**\n",
    "Из данных одного сервиса не всегда можно сделать вывод о всех жителях города.\n",
    "Проверки статистических гипотез покажут, насколько они достоверны, исходя из имеющихся данных. \n",
    "С методами проверок гипотез вы ещё познакомитесь в следующих темах."
   ]
  }
 ],
 "metadata": {
  "ExecuteTimeLog": [
   {
    "duration": 458,
    "start_time": "2023-02-17T18:23:46.085Z"
   },
   {
    "duration": 75,
    "start_time": "2023-02-17T18:23:50.281Z"
   },
   {
    "duration": 201,
    "start_time": "2023-02-17T18:24:19.125Z"
   },
   {
    "duration": 105,
    "start_time": "2023-02-17T18:25:00.012Z"
   },
   {
    "duration": 13,
    "start_time": "2023-02-17T18:25:09.790Z"
   },
   {
    "duration": 35,
    "start_time": "2023-02-17T18:25:45.093Z"
   },
   {
    "duration": 3,
    "start_time": "2023-02-17T18:31:11.081Z"
   },
   {
    "duration": 54,
    "start_time": "2023-02-20T08:55:03.763Z"
   },
   {
    "duration": 416,
    "start_time": "2023-02-20T08:55:14.276Z"
   },
   {
    "duration": 505,
    "start_time": "2023-02-20T08:55:16.510Z"
   },
   {
    "duration": 8,
    "start_time": "2023-02-20T08:55:19.677Z"
   },
   {
    "duration": 35,
    "start_time": "2023-02-20T08:55:29.683Z"
   },
   {
    "duration": 3,
    "start_time": "2023-02-20T08:55:47.911Z"
   },
   {
    "duration": 31,
    "start_time": "2023-02-20T08:58:30.374Z"
   },
   {
    "duration": 4,
    "start_time": "2023-02-20T08:58:39.936Z"
   },
   {
    "duration": 72,
    "start_time": "2023-02-20T09:00:57.637Z"
   },
   {
    "duration": 56,
    "start_time": "2023-02-20T09:01:11.285Z"
   },
   {
    "duration": 10,
    "start_time": "2023-02-20T09:01:18.303Z"
   },
   {
    "duration": 10,
    "start_time": "2023-02-20T09:01:30.043Z"
   },
   {
    "duration": 8,
    "start_time": "2023-02-20T09:04:24.881Z"
   },
   {
    "duration": 74,
    "start_time": "2023-02-20T09:05:08.872Z"
   },
   {
    "duration": 49,
    "start_time": "2023-02-20T09:05:38.172Z"
   },
   {
    "duration": 70,
    "start_time": "2023-02-20T09:08:11.391Z"
   },
   {
    "duration": 73,
    "start_time": "2023-02-20T09:08:23.838Z"
   },
   {
    "duration": 12,
    "start_time": "2023-02-20T09:09:20.603Z"
   },
   {
    "duration": 3,
    "start_time": "2023-02-20T09:10:17.464Z"
   },
   {
    "duration": 7,
    "start_time": "2023-02-20T09:18:50.172Z"
   },
   {
    "duration": 28,
    "start_time": "2023-02-20T09:19:15.481Z"
   },
   {
    "duration": 57,
    "start_time": "2023-02-20T10:09:50.209Z"
   },
   {
    "duration": 48,
    "start_time": "2023-02-20T10:10:01.375Z"
   },
   {
    "duration": 19,
    "start_time": "2023-02-20T10:10:11.109Z"
   },
   {
    "duration": 26,
    "start_time": "2023-02-20T10:10:49.390Z"
   },
   {
    "duration": 9,
    "start_time": "2023-02-20T10:11:55.981Z"
   },
   {
    "duration": 65,
    "start_time": "2023-02-20T10:12:14.495Z"
   },
   {
    "duration": 71,
    "start_time": "2023-02-20T10:13:40.994Z"
   },
   {
    "duration": 62,
    "start_time": "2023-02-20T10:14:16.555Z"
   },
   {
    "duration": 51,
    "start_time": "2023-02-20T10:14:41.707Z"
   },
   {
    "duration": 56,
    "start_time": "2023-02-20T10:15:26.818Z"
   },
   {
    "duration": 64,
    "start_time": "2023-02-20T10:18:08.381Z"
   },
   {
    "duration": 65,
    "start_time": "2023-02-20T10:18:14.887Z"
   },
   {
    "duration": 47,
    "start_time": "2023-02-20T10:19:23.550Z"
   },
   {
    "duration": 46,
    "start_time": "2023-02-20T10:19:49.331Z"
   },
   {
    "duration": 8,
    "start_time": "2023-02-20T10:20:01.090Z"
   },
   {
    "duration": 9,
    "start_time": "2023-02-20T10:20:37.993Z"
   },
   {
    "duration": 7,
    "start_time": "2023-02-20T10:20:49.972Z"
   },
   {
    "duration": 8,
    "start_time": "2023-02-20T10:22:01.702Z"
   },
   {
    "duration": 7,
    "start_time": "2023-02-20T10:22:10.117Z"
   },
   {
    "duration": 398,
    "start_time": "2023-02-20T10:22:18.885Z"
   },
   {
    "duration": 155,
    "start_time": "2023-02-20T10:22:20.615Z"
   },
   {
    "duration": 9,
    "start_time": "2023-02-20T10:22:21.858Z"
   },
   {
    "duration": 29,
    "start_time": "2023-02-20T10:22:23.798Z"
   },
   {
    "duration": 3,
    "start_time": "2023-02-20T10:22:25.933Z"
   },
   {
    "duration": 3,
    "start_time": "2023-02-20T10:22:28.991Z"
   },
   {
    "duration": 16,
    "start_time": "2023-02-20T10:22:31.237Z"
   },
   {
    "duration": 4,
    "start_time": "2023-02-20T10:22:32.593Z"
   },
   {
    "duration": 28,
    "start_time": "2023-02-20T10:22:35.262Z"
   },
   {
    "duration": 25,
    "start_time": "2023-02-20T10:22:39.584Z"
   },
   {
    "duration": 24,
    "start_time": "2023-02-20T10:22:44.598Z"
   },
   {
    "duration": 64,
    "start_time": "2023-02-20T10:22:51.191Z"
   },
   {
    "duration": 100,
    "start_time": "2023-02-20T10:22:53.557Z"
   },
   {
    "duration": 111,
    "start_time": "2023-02-20T10:24:16.278Z"
   },
   {
    "duration": 67,
    "start_time": "2023-02-20T10:24:34.637Z"
   },
   {
    "duration": 63,
    "start_time": "2023-02-20T10:27:49.440Z"
   },
   {
    "duration": 74,
    "start_time": "2023-02-20T10:29:08.363Z"
   },
   {
    "duration": 71,
    "start_time": "2023-02-20T10:29:30.868Z"
   },
   {
    "duration": 88,
    "start_time": "2023-02-20T10:31:00.915Z"
   },
   {
    "duration": 69,
    "start_time": "2023-02-20T10:31:18.398Z"
   },
   {
    "duration": 70,
    "start_time": "2023-02-20T10:32:10.162Z"
   },
   {
    "duration": 90,
    "start_time": "2023-02-20T10:33:31.744Z"
   },
   {
    "duration": 63,
    "start_time": "2023-02-20T10:34:29.785Z"
   },
   {
    "duration": 73,
    "start_time": "2023-02-20T10:35:08.011Z"
   },
   {
    "duration": 64,
    "start_time": "2023-02-20T10:37:02.280Z"
   },
   {
    "duration": 12,
    "start_time": "2023-02-20T10:40:02.349Z"
   },
   {
    "duration": 3,
    "start_time": "2023-02-20T10:40:12.164Z"
   },
   {
    "duration": 430,
    "start_time": "2023-02-20T10:41:19.521Z"
   },
   {
    "duration": 158,
    "start_time": "2023-02-20T10:41:21.134Z"
   },
   {
    "duration": 8,
    "start_time": "2023-02-20T10:41:22.791Z"
   },
   {
    "duration": 28,
    "start_time": "2023-02-20T10:41:27.338Z"
   },
   {
    "duration": 3,
    "start_time": "2023-02-20T10:41:32.150Z"
   },
   {
    "duration": 4,
    "start_time": "2023-02-20T10:41:34.718Z"
   },
   {
    "duration": 12,
    "start_time": "2023-02-20T10:41:44.965Z"
   },
   {
    "duration": 3,
    "start_time": "2023-02-20T10:41:47.441Z"
   },
   {
    "duration": 34,
    "start_time": "2023-02-20T10:42:21.838Z"
   },
   {
    "duration": 18,
    "start_time": "2023-02-20T10:42:57.883Z"
   },
   {
    "duration": 24,
    "start_time": "2023-02-20T10:43:04.696Z"
   },
   {
    "duration": 75,
    "start_time": "2023-02-20T10:43:14.519Z"
   },
   {
    "duration": 73,
    "start_time": "2023-02-20T10:44:10.823Z"
   },
   {
    "duration": 59,
    "start_time": "2023-02-20T10:44:21.028Z"
   },
   {
    "duration": 7,
    "start_time": "2023-02-20T10:48:47.681Z"
   },
   {
    "duration": 5,
    "start_time": "2023-02-20T10:49:24.789Z"
   },
   {
    "duration": 6,
    "start_time": "2023-02-20T10:49:48.287Z"
   },
   {
    "duration": 61,
    "start_time": "2023-02-20T10:52:25.164Z"
   },
   {
    "duration": 25,
    "start_time": "2023-02-20T11:02:04.495Z"
   },
   {
    "duration": 356,
    "start_time": "2023-02-20T11:03:19.986Z"
   },
   {
    "duration": 159,
    "start_time": "2023-02-20T11:03:20.967Z"
   },
   {
    "duration": 8,
    "start_time": "2023-02-20T11:03:22.128Z"
   },
   {
    "duration": 30,
    "start_time": "2023-02-20T11:03:23.272Z"
   },
   {
    "duration": 3,
    "start_time": "2023-02-20T11:03:24.840Z"
   },
   {
    "duration": 3,
    "start_time": "2023-02-20T11:03:27.056Z"
   },
   {
    "duration": 13,
    "start_time": "2023-02-20T11:03:28.660Z"
   },
   {
    "duration": 4,
    "start_time": "2023-02-20T11:03:29.844Z"
   },
   {
    "duration": 43,
    "start_time": "2023-02-20T11:03:31.100Z"
   },
   {
    "duration": 24,
    "start_time": "2023-02-20T11:03:35.610Z"
   },
   {
    "duration": 27,
    "start_time": "2023-02-20T11:03:37.488Z"
   },
   {
    "duration": 19,
    "start_time": "2023-02-20T11:03:44.860Z"
   },
   {
    "duration": 38,
    "start_time": "2023-02-20T11:03:45.965Z"
   },
   {
    "duration": 60,
    "start_time": "2023-02-20T11:03:48.517Z"
   },
   {
    "duration": 64,
    "start_time": "2023-02-20T11:03:50.528Z"
   },
   {
    "duration": 95,
    "start_time": "2023-02-20T11:03:55.745Z"
   },
   {
    "duration": 66,
    "start_time": "2023-02-20T11:04:04.042Z"
   },
   {
    "duration": 38,
    "start_time": "2023-02-20T11:07:16.564Z"
   },
   {
    "duration": 39,
    "start_time": "2023-02-20T11:07:33.482Z"
   },
   {
    "duration": 9,
    "start_time": "2023-02-20T11:08:21.513Z"
   },
   {
    "duration": 8,
    "start_time": "2023-02-20T11:08:44.378Z"
   },
   {
    "duration": 37,
    "start_time": "2023-02-20T11:08:56.453Z"
   },
   {
    "duration": 41,
    "start_time": "2023-02-20T11:09:42.137Z"
   },
   {
    "duration": 39,
    "start_time": "2023-02-20T11:09:57.798Z"
   },
   {
    "duration": 45,
    "start_time": "2023-02-20T11:10:15.006Z"
   },
   {
    "duration": 39,
    "start_time": "2023-02-20T11:10:20.251Z"
   },
   {
    "duration": 37,
    "start_time": "2023-02-20T11:11:45.864Z"
   },
   {
    "duration": 37,
    "start_time": "2023-02-20T11:12:49.579Z"
   },
   {
    "duration": 7,
    "start_time": "2023-02-20T11:13:08.090Z"
   },
   {
    "duration": 50,
    "start_time": "2023-02-20T11:13:15.946Z"
   },
   {
    "duration": 13,
    "start_time": "2023-02-20T11:17:01.380Z"
   },
   {
    "duration": 44,
    "start_time": "2023-02-20T11:17:32.172Z"
   },
   {
    "duration": 9,
    "start_time": "2023-02-20T11:18:11.439Z"
   },
   {
    "duration": 36,
    "start_time": "2023-02-20T11:18:51.120Z"
   },
   {
    "duration": 7,
    "start_time": "2023-02-20T11:22:49.968Z"
   },
   {
    "duration": 8,
    "start_time": "2023-02-20T11:23:57.360Z"
   },
   {
    "duration": 8,
    "start_time": "2023-02-20T11:25:35.151Z"
   },
   {
    "duration": 762,
    "start_time": "2023-02-20T11:26:00.609Z"
   },
   {
    "duration": 713,
    "start_time": "2023-02-20T11:26:29.059Z"
   },
   {
    "duration": 7,
    "start_time": "2023-02-20T11:26:42.947Z"
   },
   {
    "duration": 7,
    "start_time": "2023-02-20T11:27:30.398Z"
   },
   {
    "duration": 12,
    "start_time": "2023-02-20T11:28:21.167Z"
   },
   {
    "duration": 16,
    "start_time": "2023-02-20T11:29:32.351Z"
   },
   {
    "duration": 14,
    "start_time": "2023-02-20T11:36:28.056Z"
   },
   {
    "duration": 10,
    "start_time": "2023-02-20T11:36:59.302Z"
   },
   {
    "duration": 427,
    "start_time": "2023-02-20T11:37:51.490Z"
   },
   {
    "duration": 81,
    "start_time": "2023-02-20T11:38:45.623Z"
   },
   {
    "duration": 8,
    "start_time": "2023-02-20T11:38:57.578Z"
   },
   {
    "duration": 60,
    "start_time": "2023-02-20T11:39:10.332Z"
   },
   {
    "duration": 8,
    "start_time": "2023-02-20T11:39:19.670Z"
   },
   {
    "duration": 5,
    "start_time": "2023-02-20T11:40:22.111Z"
   },
   {
    "duration": 10,
    "start_time": "2023-02-20T11:41:16.228Z"
   },
   {
    "duration": 10,
    "start_time": "2023-02-20T11:42:18.447Z"
   },
   {
    "duration": 357,
    "start_time": "2023-02-20T11:43:25.450Z"
   },
   {
    "duration": 11,
    "start_time": "2023-02-20T11:43:36.466Z"
   },
   {
    "duration": 692,
    "start_time": "2023-02-20T11:44:50.631Z"
   },
   {
    "duration": 722,
    "start_time": "2023-02-20T11:45:18.691Z"
   },
   {
    "duration": 771,
    "start_time": "2023-02-20T11:45:39.826Z"
   },
   {
    "duration": 714,
    "start_time": "2023-02-20T11:46:11.004Z"
   },
   {
    "duration": 6,
    "start_time": "2023-02-20T11:46:20.449Z"
   },
   {
    "duration": 13,
    "start_time": "2023-02-20T11:46:35.380Z"
   },
   {
    "duration": 49,
    "start_time": "2023-02-20T11:57:02.200Z"
   },
   {
    "duration": 59,
    "start_time": "2023-02-20T11:57:17.229Z"
   },
   {
    "duration": 13,
    "start_time": "2023-02-20T11:58:04.121Z"
   },
   {
    "duration": 43,
    "start_time": "2023-02-20T11:59:07.438Z"
   },
   {
    "duration": 13,
    "start_time": "2023-02-20T11:59:18.995Z"
   },
   {
    "duration": 7,
    "start_time": "2023-02-20T12:03:24.193Z"
   },
   {
    "duration": 14,
    "start_time": "2023-02-20T12:03:44.170Z"
   },
   {
    "duration": 11,
    "start_time": "2023-02-20T12:05:00.519Z"
   },
   {
    "duration": 6,
    "start_time": "2023-02-20T12:10:04.577Z"
   },
   {
    "duration": 105,
    "start_time": "2023-02-20T12:10:28.715Z"
   },
   {
    "duration": 7,
    "start_time": "2023-02-20T12:11:10.062Z"
   },
   {
    "duration": 21,
    "start_time": "2023-02-20T12:11:26.587Z"
   },
   {
    "duration": 11,
    "start_time": "2023-02-20T12:11:48.791Z"
   },
   {
    "duration": 12,
    "start_time": "2023-02-20T12:12:58.251Z"
   },
   {
    "duration": 11,
    "start_time": "2023-02-20T12:13:06.202Z"
   },
   {
    "duration": 14,
    "start_time": "2023-02-20T12:15:13.448Z"
   },
   {
    "duration": 12,
    "start_time": "2023-02-20T12:16:29.732Z"
   },
   {
    "duration": 45,
    "start_time": "2023-02-20T13:36:21.820Z"
   },
   {
    "duration": 79,
    "start_time": "2023-02-20T13:36:34.079Z"
   },
   {
    "duration": 47,
    "start_time": "2023-02-20T13:36:47.429Z"
   },
   {
    "duration": 56,
    "start_time": "2023-02-20T13:37:02.145Z"
   },
   {
    "duration": 69,
    "start_time": "2023-02-20T13:37:47.669Z"
   },
   {
    "duration": 54,
    "start_time": "2023-02-20T13:38:53.429Z"
   },
   {
    "duration": 81,
    "start_time": "2023-02-20T13:40:06.178Z"
   },
   {
    "duration": 55,
    "start_time": "2023-02-20T13:41:43.023Z"
   },
   {
    "duration": 4,
    "start_time": "2023-02-20T13:42:01.915Z"
   },
   {
    "duration": 7,
    "start_time": "2023-02-20T13:42:58.201Z"
   },
   {
    "duration": 3,
    "start_time": "2023-02-20T13:44:00.413Z"
   },
   {
    "duration": 6,
    "start_time": "2023-02-20T13:44:03.015Z"
   },
   {
    "duration": 3,
    "start_time": "2023-02-20T13:45:31.729Z"
   },
   {
    "duration": 4,
    "start_time": "2023-02-20T13:45:38.290Z"
   },
   {
    "duration": 56,
    "start_time": "2023-02-20T13:47:10.899Z"
   },
   {
    "duration": 53,
    "start_time": "2023-02-20T13:47:34.687Z"
   },
   {
    "duration": 3,
    "start_time": "2023-02-20T13:47:42.928Z"
   },
   {
    "duration": 8,
    "start_time": "2023-02-20T13:47:47.114Z"
   },
   {
    "duration": 57,
    "start_time": "2023-02-20T13:51:10.832Z"
   },
   {
    "duration": 62,
    "start_time": "2023-02-20T13:51:19.683Z"
   },
   {
    "duration": 3,
    "start_time": "2023-02-20T13:51:36.008Z"
   },
   {
    "duration": 6,
    "start_time": "2023-02-20T13:51:41.391Z"
   },
   {
    "duration": 5,
    "start_time": "2023-02-20T13:52:00.123Z"
   },
   {
    "duration": 3,
    "start_time": "2023-02-20T13:54:15.133Z"
   },
   {
    "duration": 6,
    "start_time": "2023-02-20T13:54:17.558Z"
   },
   {
    "duration": 3,
    "start_time": "2023-02-20T13:55:29.284Z"
   },
   {
    "duration": 9,
    "start_time": "2023-02-20T13:55:45.333Z"
   },
   {
    "duration": 8,
    "start_time": "2023-02-20T13:57:20.274Z"
   },
   {
    "duration": 1048,
    "start_time": "2023-02-20T13:57:34.868Z"
   },
   {
    "duration": 48,
    "start_time": "2023-02-20T13:58:47.124Z"
   },
   {
    "duration": 14,
    "start_time": "2023-02-20T13:59:00.733Z"
   },
   {
    "duration": 905,
    "start_time": "2023-02-20T14:00:22.260Z"
   },
   {
    "duration": 7,
    "start_time": "2023-02-20T14:02:28.276Z"
   },
   {
    "duration": 3,
    "start_time": "2023-02-20T14:02:38.413Z"
   },
   {
    "duration": 10,
    "start_time": "2023-02-20T14:03:55.400Z"
   },
   {
    "duration": 4,
    "start_time": "2023-02-20T14:04:07.228Z"
   },
   {
    "duration": 57,
    "start_time": "2023-02-20T14:05:28.334Z"
   },
   {
    "duration": 47,
    "start_time": "2023-02-20T14:05:40.644Z"
   },
   {
    "duration": 60,
    "start_time": "2023-02-20T14:06:32.568Z"
   },
   {
    "duration": 54,
    "start_time": "2023-02-20T14:07:02.067Z"
   },
   {
    "duration": 41,
    "start_time": "2023-02-20T14:07:17.305Z"
   },
   {
    "duration": 49,
    "start_time": "2023-02-20T14:08:13.146Z"
   },
   {
    "duration": 71,
    "start_time": "2023-02-20T14:08:51.629Z"
   },
   {
    "duration": 68,
    "start_time": "2023-02-20T14:09:05.495Z"
   },
   {
    "duration": 112,
    "start_time": "2023-02-20T14:09:54.857Z"
   },
   {
    "duration": 4,
    "start_time": "2023-02-20T14:11:03.537Z"
   },
   {
    "duration": 4,
    "start_time": "2023-02-20T14:11:18.158Z"
   },
   {
    "duration": 9,
    "start_time": "2023-02-20T14:11:51.887Z"
   },
   {
    "duration": 42,
    "start_time": "2023-02-20T14:12:37.028Z"
   },
   {
    "duration": 102,
    "start_time": "2023-02-20T14:13:31.114Z"
   },
   {
    "duration": 1400,
    "start_time": "2023-02-20T14:17:15.080Z"
   },
   {
    "duration": 9,
    "start_time": "2023-02-20T14:17:29.751Z"
   },
   {
    "duration": 752,
    "start_time": "2023-02-20T14:17:57.925Z"
   },
   {
    "duration": 6,
    "start_time": "2023-02-20T14:18:30.472Z"
   },
   {
    "duration": 67,
    "start_time": "2023-02-20T14:19:13.834Z"
   },
   {
    "duration": 53,
    "start_time": "2023-02-20T14:19:24.394Z"
   },
   {
    "duration": 48,
    "start_time": "2023-02-20T14:19:41.635Z"
   },
   {
    "duration": 885,
    "start_time": "2023-02-20T14:20:34.834Z"
   },
   {
    "duration": 835,
    "start_time": "2023-02-20T14:21:04.207Z"
   },
   {
    "duration": 7,
    "start_time": "2023-02-20T14:21:30.164Z"
   },
   {
    "duration": 699,
    "start_time": "2023-02-20T14:21:40.872Z"
   },
   {
    "duration": 721,
    "start_time": "2023-02-20T14:22:08.390Z"
   },
   {
    "duration": 58,
    "start_time": "2023-02-20T14:23:17.140Z"
   },
   {
    "duration": 51,
    "start_time": "2023-02-20T14:23:26.562Z"
   },
   {
    "duration": 48,
    "start_time": "2023-02-20T14:25:38.881Z"
   },
   {
    "duration": 57,
    "start_time": "2023-02-20T14:25:50.677Z"
   },
   {
    "duration": 52,
    "start_time": "2023-02-20T14:25:58.160Z"
   },
   {
    "duration": 54,
    "start_time": "2023-02-20T14:26:44.691Z"
   },
   {
    "duration": 41,
    "start_time": "2023-02-20T14:28:01.564Z"
   },
   {
    "duration": 47,
    "start_time": "2023-02-20T14:28:25.794Z"
   },
   {
    "duration": 47,
    "start_time": "2023-02-20T14:29:11.762Z"
   },
   {
    "duration": 82,
    "start_time": "2023-02-20T14:29:47.627Z"
   },
   {
    "duration": 57,
    "start_time": "2023-02-20T14:30:04.904Z"
   },
   {
    "duration": 44,
    "start_time": "2023-02-20T14:30:17.602Z"
   },
   {
    "duration": 54,
    "start_time": "2023-02-20T14:30:28.842Z"
   },
   {
    "duration": 56,
    "start_time": "2023-02-20T14:30:47.635Z"
   },
   {
    "duration": 54,
    "start_time": "2023-02-20T14:31:36.682Z"
   },
   {
    "duration": 63,
    "start_time": "2023-02-20T14:32:30.739Z"
   },
   {
    "duration": 57,
    "start_time": "2023-02-20T14:33:37.000Z"
   },
   {
    "duration": 62,
    "start_time": "2023-02-20T14:33:45.281Z"
   },
   {
    "duration": 10,
    "start_time": "2023-02-20T14:37:14.536Z"
   },
   {
    "duration": 10,
    "start_time": "2023-02-20T14:38:45.313Z"
   },
   {
    "duration": 9,
    "start_time": "2023-02-20T14:39:04.237Z"
   },
   {
    "duration": 739,
    "start_time": "2023-02-20T14:39:39.965Z"
   },
   {
    "duration": 664,
    "start_time": "2023-02-20T14:39:54.898Z"
   },
   {
    "duration": 638,
    "start_time": "2023-02-20T14:41:20.705Z"
   },
   {
    "duration": 3,
    "start_time": "2023-02-20T14:41:35.627Z"
   },
   {
    "duration": 808,
    "start_time": "2023-02-20T14:42:09.505Z"
   },
   {
    "duration": 9,
    "start_time": "2023-02-20T14:42:53.498Z"
   },
   {
    "duration": 6,
    "start_time": "2023-02-20T14:43:37.690Z"
   },
   {
    "duration": 724,
    "start_time": "2023-02-20T14:43:50.096Z"
   },
   {
    "duration": 723,
    "start_time": "2023-02-20T14:44:15.556Z"
   },
   {
    "duration": 410,
    "start_time": "2023-02-20T14:44:46.324Z"
   },
   {
    "duration": 183,
    "start_time": "2023-02-20T14:44:47.090Z"
   },
   {
    "duration": 7,
    "start_time": "2023-02-20T14:44:47.782Z"
   },
   {
    "duration": 31,
    "start_time": "2023-02-20T14:44:48.610Z"
   },
   {
    "duration": 2,
    "start_time": "2023-02-20T14:44:49.619Z"
   },
   {
    "duration": 4,
    "start_time": "2023-02-20T14:44:51.195Z"
   },
   {
    "duration": 14,
    "start_time": "2023-02-20T14:44:51.749Z"
   },
   {
    "duration": 3,
    "start_time": "2023-02-20T14:44:52.311Z"
   },
   {
    "duration": 28,
    "start_time": "2023-02-20T14:44:53.138Z"
   },
   {
    "duration": 23,
    "start_time": "2023-02-20T14:44:54.615Z"
   },
   {
    "duration": 36,
    "start_time": "2023-02-20T14:44:55.564Z"
   },
   {
    "duration": 59,
    "start_time": "2023-02-20T14:44:56.765Z"
   },
   {
    "duration": 64,
    "start_time": "2023-02-20T14:44:58.203Z"
   },
   {
    "duration": 57,
    "start_time": "2023-02-20T14:45:00.082Z"
   },
   {
    "duration": 38,
    "start_time": "2023-02-20T14:45:02.971Z"
   },
   {
    "duration": 12,
    "start_time": "2023-02-20T14:45:06.915Z"
   },
   {
    "duration": 38,
    "start_time": "2023-02-20T14:45:08.497Z"
   },
   {
    "duration": 11,
    "start_time": "2023-02-20T14:45:19.772Z"
   },
   {
    "duration": 12,
    "start_time": "2023-02-20T14:45:22.039Z"
   },
   {
    "duration": 946,
    "start_time": "2023-02-20T14:45:26.062Z"
   },
   {
    "duration": 47,
    "start_time": "2023-02-20T14:45:44.776Z"
   },
   {
    "duration": 41,
    "start_time": "2023-02-20T14:45:54.848Z"
   },
   {
    "duration": 836,
    "start_time": "2023-02-20T14:46:08.477Z"
   },
   {
    "duration": 1237,
    "start_time": "2023-02-20T14:46:18.510Z"
   },
   {
    "duration": 7,
    "start_time": "2023-02-20T14:46:43.500Z"
   },
   {
    "duration": 4,
    "start_time": "2023-02-20T14:47:37.434Z"
   },
   {
    "duration": 4,
    "start_time": "2023-02-20T14:47:47.124Z"
   },
   {
    "duration": 10,
    "start_time": "2023-02-20T14:48:45.559Z"
   },
   {
    "duration": 10,
    "start_time": "2023-02-20T14:49:01.862Z"
   },
   {
    "duration": 51,
    "start_time": "2023-02-20T14:49:16.289Z"
   },
   {
    "duration": 7,
    "start_time": "2023-02-20T14:49:51.966Z"
   },
   {
    "duration": 5,
    "start_time": "2023-02-20T14:50:19.892Z"
   },
   {
    "duration": 5,
    "start_time": "2023-02-20T14:50:31.016Z"
   },
   {
    "duration": 3,
    "start_time": "2023-02-20T14:50:52.197Z"
   },
   {
    "duration": 730,
    "start_time": "2023-02-20T14:51:53.911Z"
   },
   {
    "duration": 1294,
    "start_time": "2023-02-20T14:52:20.429Z"
   },
   {
    "duration": 6,
    "start_time": "2023-02-20T14:53:20.996Z"
   },
   {
    "duration": 51,
    "start_time": "2023-02-20T14:53:46.635Z"
   },
   {
    "duration": 65,
    "start_time": "2023-02-20T14:53:54.438Z"
   },
   {
    "duration": 10,
    "start_time": "2023-02-20T14:54:02.305Z"
   },
   {
    "duration": 7,
    "start_time": "2023-02-20T14:54:23.489Z"
   },
   {
    "duration": 4,
    "start_time": "2023-02-20T14:54:50.104Z"
   },
   {
    "duration": 28,
    "start_time": "2023-02-20T14:55:06.202Z"
   },
   {
    "duration": 30,
    "start_time": "2023-02-20T14:55:22.370Z"
   },
   {
    "duration": 50,
    "start_time": "2023-02-20T14:55:59.726Z"
   },
   {
    "duration": 51,
    "start_time": "2023-02-20T14:56:14.249Z"
   },
   {
    "duration": 54,
    "start_time": "2023-02-20T14:56:28.787Z"
   },
   {
    "duration": 10,
    "start_time": "2023-02-20T14:56:35.910Z"
   },
   {
    "duration": 55,
    "start_time": "2023-02-20T14:57:00.462Z"
   },
   {
    "duration": 54,
    "start_time": "2023-02-20T14:57:26.709Z"
   },
   {
    "duration": 47,
    "start_time": "2023-02-20T14:57:36.459Z"
   },
   {
    "duration": 47,
    "start_time": "2023-02-20T14:57:53.936Z"
   },
   {
    "duration": 54,
    "start_time": "2023-02-20T14:58:34.263Z"
   },
   {
    "duration": 29,
    "start_time": "2023-02-20T14:58:51.555Z"
   },
   {
    "duration": 49,
    "start_time": "2023-02-20T14:59:48.316Z"
   },
   {
    "duration": 101,
    "start_time": "2023-02-20T15:00:01.690Z"
   },
   {
    "duration": 65,
    "start_time": "2023-02-20T15:00:17.560Z"
   },
   {
    "duration": 48,
    "start_time": "2023-02-20T15:00:22.080Z"
   },
   {
    "duration": 9,
    "start_time": "2023-02-20T15:00:42.302Z"
   },
   {
    "duration": 28,
    "start_time": "2023-02-20T15:00:58.088Z"
   },
   {
    "duration": 52,
    "start_time": "2023-02-20T15:01:38.959Z"
   },
   {
    "duration": 32,
    "start_time": "2023-02-20T15:01:46.364Z"
   },
   {
    "duration": 55,
    "start_time": "2023-02-20T15:01:52.509Z"
   },
   {
    "duration": 29,
    "start_time": "2023-02-20T15:02:01.736Z"
   },
   {
    "duration": 935,
    "start_time": "2023-02-20T15:02:50.334Z"
   },
   {
    "duration": 29,
    "start_time": "2023-02-20T15:03:00.842Z"
   },
   {
    "duration": 61,
    "start_time": "2023-02-20T15:04:18.205Z"
   },
   {
    "duration": 48,
    "start_time": "2023-02-20T15:06:14.682Z"
   },
   {
    "duration": 53,
    "start_time": "2023-02-20T15:06:36.734Z"
   },
   {
    "duration": 66,
    "start_time": "2023-02-20T15:07:37.366Z"
   },
   {
    "duration": 804,
    "start_time": "2023-02-20T15:07:46.737Z"
   },
   {
    "duration": 58,
    "start_time": "2023-02-20T15:12:53.069Z"
   },
   {
    "duration": 246,
    "start_time": "2023-02-20T15:15:11.408Z"
   },
   {
    "duration": 71,
    "start_time": "2023-02-20T15:15:20.824Z"
   },
   {
    "duration": 111,
    "start_time": "2023-02-20T15:15:37.806Z"
   },
   {
    "duration": 1031,
    "start_time": "2023-02-20T15:17:56.902Z"
   },
   {
    "duration": 727,
    "start_time": "2023-02-20T15:18:25.023Z"
   },
   {
    "duration": 745,
    "start_time": "2023-02-20T15:19:44.293Z"
   },
   {
    "duration": 17,
    "start_time": "2023-02-20T15:21:38.648Z"
   },
   {
    "duration": 931,
    "start_time": "2023-02-20T15:21:59.412Z"
   },
   {
    "duration": 16,
    "start_time": "2023-02-20T15:22:19.911Z"
   },
   {
    "duration": 24,
    "start_time": "2023-02-20T15:22:54.720Z"
   },
   {
    "duration": 23,
    "start_time": "2023-02-20T15:23:19.008Z"
   },
   {
    "duration": 1109,
    "start_time": "2023-02-20T15:23:40.035Z"
   },
   {
    "duration": 10,
    "start_time": "2023-02-20T15:24:10.136Z"
   },
   {
    "duration": 839,
    "start_time": "2023-02-20T15:24:23.818Z"
   },
   {
    "duration": 1098,
    "start_time": "2023-02-20T15:24:42.721Z"
   },
   {
    "duration": 96,
    "start_time": "2023-02-20T15:25:40.759Z"
   },
   {
    "duration": 49,
    "start_time": "2023-02-20T15:25:51.555Z"
   },
   {
    "duration": 46,
    "start_time": "2023-02-20T15:26:10.339Z"
   },
   {
    "duration": 10,
    "start_time": "2023-02-20T15:26:51.758Z"
   },
   {
    "duration": 23,
    "start_time": "2023-02-20T15:27:02.741Z"
   },
   {
    "duration": 453,
    "start_time": "2023-02-20T15:28:10.286Z"
   },
   {
    "duration": 416,
    "start_time": "2023-02-20T15:28:23.767Z"
   },
   {
    "duration": 82,
    "start_time": "2023-02-20T15:29:46.490Z"
   },
   {
    "duration": 76,
    "start_time": "2023-02-20T15:30:12.514Z"
   },
   {
    "duration": 15,
    "start_time": "2023-02-20T15:31:04.666Z"
   },
   {
    "duration": 14,
    "start_time": "2023-02-20T15:31:27.450Z"
   },
   {
    "duration": 16,
    "start_time": "2023-02-20T15:31:37.574Z"
   },
   {
    "duration": 15,
    "start_time": "2023-02-20T15:32:28.432Z"
   },
   {
    "duration": 19,
    "start_time": "2023-02-20T15:34:19.665Z"
   },
   {
    "duration": 53,
    "start_time": "2023-02-20T15:35:05.846Z"
   },
   {
    "duration": 53,
    "start_time": "2023-02-20T15:35:11.876Z"
   },
   {
    "duration": 27,
    "start_time": "2023-02-20T15:35:21.274Z"
   },
   {
    "duration": 782,
    "start_time": "2023-02-20T15:35:51.953Z"
   },
   {
    "duration": 857,
    "start_time": "2023-02-20T15:36:33.013Z"
   },
   {
    "duration": 824,
    "start_time": "2023-02-20T15:37:36.633Z"
   },
   {
    "duration": 15,
    "start_time": "2023-02-20T15:41:23.365Z"
   },
   {
    "duration": 16,
    "start_time": "2023-02-20T15:41:41.551Z"
   },
   {
    "duration": 64,
    "start_time": "2023-02-20T15:43:00.312Z"
   },
   {
    "duration": 24,
    "start_time": "2023-02-20T15:43:15.604Z"
   },
   {
    "duration": 19,
    "start_time": "2023-02-20T15:43:43.293Z"
   },
   {
    "duration": 20,
    "start_time": "2023-02-20T15:44:12.570Z"
   },
   {
    "duration": 16,
    "start_time": "2023-02-20T15:45:23.533Z"
   },
   {
    "duration": 22,
    "start_time": "2023-02-20T15:45:27.406Z"
   },
   {
    "duration": 13,
    "start_time": "2023-02-20T15:45:59.650Z"
   },
   {
    "duration": 14,
    "start_time": "2023-02-20T15:46:49.039Z"
   },
   {
    "duration": 31,
    "start_time": "2023-02-20T15:47:01.234Z"
   },
   {
    "duration": 5,
    "start_time": "2023-02-20T15:47:16.695Z"
   },
   {
    "duration": 24,
    "start_time": "2023-02-20T15:47:19.524Z"
   },
   {
    "duration": 4,
    "start_time": "2023-02-20T15:47:33.095Z"
   },
   {
    "duration": 21,
    "start_time": "2023-02-20T15:47:35.765Z"
   },
   {
    "duration": 3,
    "start_time": "2023-02-20T15:47:47.589Z"
   },
   {
    "duration": 23,
    "start_time": "2023-02-20T15:47:49.364Z"
   },
   {
    "duration": 5,
    "start_time": "2023-02-20T15:48:17.099Z"
   },
   {
    "duration": 25,
    "start_time": "2023-02-20T15:48:24.566Z"
   },
   {
    "duration": 3,
    "start_time": "2023-02-20T15:48:42.316Z"
   },
   {
    "duration": 31,
    "start_time": "2023-02-20T15:48:44.711Z"
   },
   {
    "duration": 49,
    "start_time": "2023-02-20T15:50:12.892Z"
   },
   {
    "duration": 216,
    "start_time": "2023-02-20T15:50:19.553Z"
   },
   {
    "duration": 4,
    "start_time": "2023-02-20T15:51:17.151Z"
   },
   {
    "duration": 5,
    "start_time": "2023-02-20T15:51:51.404Z"
   },
   {
    "duration": 30,
    "start_time": "2023-02-20T15:51:53.695Z"
   },
   {
    "duration": 4,
    "start_time": "2023-02-20T15:52:25.624Z"
   },
   {
    "duration": 14,
    "start_time": "2023-02-20T15:52:28.770Z"
   },
   {
    "duration": 13,
    "start_time": "2023-02-20T15:52:50.399Z"
   },
   {
    "duration": 3,
    "start_time": "2023-02-20T15:52:56.702Z"
   },
   {
    "duration": 32,
    "start_time": "2023-02-20T15:52:58.455Z"
   },
   {
    "duration": 4,
    "start_time": "2023-02-20T15:53:27.910Z"
   },
   {
    "duration": 24,
    "start_time": "2023-02-20T15:53:31.319Z"
   },
   {
    "duration": 4,
    "start_time": "2023-02-20T15:54:06.497Z"
   },
   {
    "duration": 22,
    "start_time": "2023-02-20T15:54:09.441Z"
   },
   {
    "duration": 4,
    "start_time": "2023-02-20T15:54:20.595Z"
   },
   {
    "duration": 25,
    "start_time": "2023-02-20T15:54:23.155Z"
   },
   {
    "duration": 4,
    "start_time": "2023-02-20T15:54:54.431Z"
   },
   {
    "duration": 19,
    "start_time": "2023-02-20T15:54:56.402Z"
   },
   {
    "duration": 17,
    "start_time": "2023-02-20T15:58:32.591Z"
   },
   {
    "duration": 16,
    "start_time": "2023-02-20T15:59:11.057Z"
   },
   {
    "duration": 15,
    "start_time": "2023-02-20T15:59:40.702Z"
   },
   {
    "duration": 27,
    "start_time": "2023-02-20T16:00:02.408Z"
   },
   {
    "duration": 18,
    "start_time": "2023-02-20T16:00:23.008Z"
   },
   {
    "duration": 17,
    "start_time": "2023-02-20T16:00:43.538Z"
   },
   {
    "duration": 15,
    "start_time": "2023-02-20T16:00:45.271Z"
   },
   {
    "duration": 17,
    "start_time": "2023-02-20T16:00:47.315Z"
   },
   {
    "duration": 15,
    "start_time": "2023-02-20T16:00:48.662Z"
   },
   {
    "duration": 17,
    "start_time": "2023-02-20T16:00:50.660Z"
   },
   {
    "duration": 16,
    "start_time": "2023-02-20T16:00:52.236Z"
   },
   {
    "duration": 12,
    "start_time": "2023-02-20T16:01:58.333Z"
   },
   {
    "duration": 9,
    "start_time": "2023-02-20T16:02:04.827Z"
   },
   {
    "duration": 3,
    "start_time": "2023-02-20T16:02:20.804Z"
   },
   {
    "duration": 18,
    "start_time": "2023-02-20T16:02:22.248Z"
   },
   {
    "duration": 15,
    "start_time": "2023-02-20T16:02:53.696Z"
   },
   {
    "duration": 16,
    "start_time": "2023-02-20T16:03:12.075Z"
   },
   {
    "duration": 17,
    "start_time": "2023-02-20T16:04:12.186Z"
   },
   {
    "duration": 14,
    "start_time": "2023-02-20T16:04:13.518Z"
   },
   {
    "duration": 18,
    "start_time": "2023-02-20T16:04:14.621Z"
   },
   {
    "duration": 16,
    "start_time": "2023-02-20T16:04:15.728Z"
   },
   {
    "duration": 3,
    "start_time": "2023-02-20T16:04:37.665Z"
   },
   {
    "duration": 1537,
    "start_time": "2023-02-20T16:04:42.204Z"
   },
   {
    "duration": 4,
    "start_time": "2023-02-20T16:05:14.908Z"
   },
   {
    "duration": 19,
    "start_time": "2023-02-20T16:05:16.695Z"
   },
   {
    "duration": 3,
    "start_time": "2023-02-20T16:07:10.944Z"
   },
   {
    "duration": 26,
    "start_time": "2023-02-20T16:07:12.766Z"
   },
   {
    "duration": 21,
    "start_time": "2023-02-20T16:07:17.706Z"
   },
   {
    "duration": 24,
    "start_time": "2023-02-20T16:07:19.711Z"
   },
   {
    "duration": 4,
    "start_time": "2023-02-20T16:07:39.527Z"
   },
   {
    "duration": 17,
    "start_time": "2023-02-20T16:07:40.729Z"
   },
   {
    "duration": 16,
    "start_time": "2023-02-20T16:07:42.688Z"
   },
   {
    "duration": 16,
    "start_time": "2023-02-20T16:07:43.941Z"
   },
   {
    "duration": 4,
    "start_time": "2023-02-20T16:16:20.996Z"
   },
   {
    "duration": 8,
    "start_time": "2023-02-20T16:16:24.740Z"
   },
   {
    "duration": 8,
    "start_time": "2023-02-20T16:16:26.046Z"
   },
   {
    "duration": 3,
    "start_time": "2023-02-20T16:16:39.436Z"
   },
   {
    "duration": 17,
    "start_time": "2023-02-20T16:16:41.764Z"
   },
   {
    "duration": 15,
    "start_time": "2023-02-20T16:16:43.406Z"
   },
   {
    "duration": 4,
    "start_time": "2023-02-20T16:17:11.999Z"
   },
   {
    "duration": 16,
    "start_time": "2023-02-20T16:17:14.291Z"
   },
   {
    "duration": 4,
    "start_time": "2023-02-20T16:17:36.112Z"
   },
   {
    "duration": 579,
    "start_time": "2023-02-20T16:17:36.724Z"
   },
   {
    "duration": 3,
    "start_time": "2023-02-20T16:17:49.022Z"
   },
   {
    "duration": 16,
    "start_time": "2023-02-20T16:17:50.726Z"
   },
   {
    "duration": 5,
    "start_time": "2023-02-20T16:19:35.367Z"
   },
   {
    "duration": 452,
    "start_time": "2023-02-20T16:19:36.854Z"
   },
   {
    "duration": 7,
    "start_time": "2023-02-20T16:19:49.872Z"
   },
   {
    "duration": 18,
    "start_time": "2023-02-20T16:19:51.690Z"
   },
   {
    "duration": 6,
    "start_time": "2023-02-20T16:33:35.681Z"
   },
   {
    "duration": 13,
    "start_time": "2023-02-20T16:34:53.069Z"
   },
   {
    "duration": 14,
    "start_time": "2023-02-20T16:39:52.815Z"
   },
   {
    "duration": 4,
    "start_time": "2023-02-20T16:40:36.719Z"
   },
   {
    "duration": 8,
    "start_time": "2023-02-20T16:40:54.145Z"
   },
   {
    "duration": 8,
    "start_time": "2023-02-20T16:41:33.376Z"
   },
   {
    "duration": 8,
    "start_time": "2023-02-20T16:41:57.080Z"
   },
   {
    "duration": 8,
    "start_time": "2023-02-20T16:42:26.027Z"
   },
   {
    "duration": 6,
    "start_time": "2023-02-20T16:45:10.751Z"
   },
   {
    "duration": 8,
    "start_time": "2023-02-20T16:45:23.875Z"
   },
   {
    "duration": 20,
    "start_time": "2023-02-20T16:45:48.096Z"
   },
   {
    "duration": 19,
    "start_time": "2023-02-20T16:46:57.909Z"
   },
   {
    "duration": 10,
    "start_time": "2023-02-20T16:47:08.111Z"
   },
   {
    "duration": 11,
    "start_time": "2023-02-20T16:47:11.313Z"
   },
   {
    "duration": 13,
    "start_time": "2023-02-20T16:47:31.215Z"
   },
   {
    "duration": 10,
    "start_time": "2023-02-20T16:47:32.778Z"
   },
   {
    "duration": 3,
    "start_time": "2023-02-20T16:49:02.157Z"
   },
   {
    "duration": 3,
    "start_time": "2023-02-20T16:49:19.796Z"
   },
   {
    "duration": 3,
    "start_time": "2023-02-20T16:50:00.264Z"
   },
   {
    "duration": 3,
    "start_time": "2023-02-20T16:51:22.743Z"
   },
   {
    "duration": 17,
    "start_time": "2023-02-20T16:51:27.434Z"
   },
   {
    "duration": 3,
    "start_time": "2023-02-20T16:51:45.683Z"
   },
   {
    "duration": 16,
    "start_time": "2023-02-20T16:51:52.208Z"
   },
   {
    "duration": 3,
    "start_time": "2023-02-20T16:52:07.938Z"
   },
   {
    "duration": 15,
    "start_time": "2023-02-20T16:52:10.374Z"
   },
   {
    "duration": 22,
    "start_time": "2023-02-20T16:54:15.978Z"
   },
   {
    "duration": 19,
    "start_time": "2023-02-20T16:54:50.697Z"
   },
   {
    "duration": 20,
    "start_time": "2023-02-20T16:55:51.553Z"
   },
   {
    "duration": 17,
    "start_time": "2023-02-20T16:56:23.258Z"
   },
   {
    "duration": 12,
    "start_time": "2023-02-20T16:56:41.177Z"
   },
   {
    "duration": 9,
    "start_time": "2023-02-20T16:56:43.110Z"
   },
   {
    "duration": 46,
    "start_time": "2023-02-20T16:57:22.549Z"
   },
   {
    "duration": 386,
    "start_time": "2023-02-20T16:57:30.015Z"
   },
   {
    "duration": 178,
    "start_time": "2023-02-20T16:57:30.906Z"
   },
   {
    "duration": 8,
    "start_time": "2023-02-20T16:57:31.814Z"
   },
   {
    "duration": 32,
    "start_time": "2023-02-20T16:57:32.801Z"
   },
   {
    "duration": 2,
    "start_time": "2023-02-20T16:57:34.166Z"
   },
   {
    "duration": 3,
    "start_time": "2023-02-20T16:57:36.133Z"
   },
   {
    "duration": 14,
    "start_time": "2023-02-20T16:57:37.277Z"
   },
   {
    "duration": 3,
    "start_time": "2023-02-20T16:57:38.357Z"
   },
   {
    "duration": 32,
    "start_time": "2023-02-20T16:57:39.355Z"
   },
   {
    "duration": 21,
    "start_time": "2023-02-20T16:57:40.929Z"
   },
   {
    "duration": 24,
    "start_time": "2023-02-20T16:57:42.053Z"
   },
   {
    "duration": 60,
    "start_time": "2023-02-20T16:57:43.127Z"
   },
   {
    "duration": 62,
    "start_time": "2023-02-20T16:57:44.218Z"
   },
   {
    "duration": 82,
    "start_time": "2023-02-20T16:57:45.287Z"
   },
   {
    "duration": 37,
    "start_time": "2023-02-20T16:57:47.249Z"
   },
   {
    "duration": 10,
    "start_time": "2023-02-20T16:57:48.444Z"
   },
   {
    "duration": 37,
    "start_time": "2023-02-20T16:57:49.433Z"
   },
   {
    "duration": 12,
    "start_time": "2023-02-20T16:57:52.651Z"
   },
   {
    "duration": 12,
    "start_time": "2023-02-20T16:57:53.711Z"
   },
   {
    "duration": 5,
    "start_time": "2023-02-20T16:57:55.411Z"
   },
   {
    "duration": 16,
    "start_time": "2023-02-20T16:57:56.755Z"
   },
   {
    "duration": 14,
    "start_time": "2023-02-20T16:57:57.051Z"
   },
   {
    "duration": 16,
    "start_time": "2023-02-20T16:57:57.601Z"
   },
   {
    "duration": 15,
    "start_time": "2023-02-20T16:57:58.011Z"
   },
   {
    "duration": 16,
    "start_time": "2023-02-20T16:57:58.391Z"
   },
   {
    "duration": 17,
    "start_time": "2023-02-20T16:57:58.862Z"
   },
   {
    "duration": 27,
    "start_time": "2023-02-20T16:58:00.264Z"
   },
   {
    "duration": 7,
    "start_time": "2023-02-20T16:58:38.332Z"
   },
   {
    "duration": 7,
    "start_time": "2023-02-20T16:58:54.985Z"
   },
   {
    "duration": 7,
    "start_time": "2023-02-20T16:58:56.485Z"
   },
   {
    "duration": 12,
    "start_time": "2023-02-20T16:59:10.885Z"
   },
   {
    "duration": 10,
    "start_time": "2023-02-20T16:59:14.713Z"
   },
   {
    "duration": 10,
    "start_time": "2023-02-20T16:59:18.665Z"
   },
   {
    "duration": 9,
    "start_time": "2023-02-20T16:59:19.750Z"
   },
   {
    "duration": 57,
    "start_time": "2023-02-21T07:03:52.448Z"
   },
   {
    "duration": 11,
    "start_time": "2023-02-21T07:04:15.408Z"
   },
   {
    "duration": 368,
    "start_time": "2023-02-21T07:04:42.253Z"
   },
   {
    "duration": 485,
    "start_time": "2023-02-21T07:04:43.217Z"
   },
   {
    "duration": 11,
    "start_time": "2023-02-21T07:04:44.129Z"
   },
   {
    "duration": 45,
    "start_time": "2023-02-21T07:04:45.175Z"
   },
   {
    "duration": 7,
    "start_time": "2023-02-21T07:04:46.598Z"
   },
   {
    "duration": 3,
    "start_time": "2023-02-21T07:04:48.442Z"
   },
   {
    "duration": 14,
    "start_time": "2023-02-21T07:04:49.452Z"
   },
   {
    "duration": 6,
    "start_time": "2023-02-21T07:04:50.399Z"
   },
   {
    "duration": 29,
    "start_time": "2023-02-21T07:04:51.543Z"
   },
   {
    "duration": 32,
    "start_time": "2023-02-21T07:04:53.029Z"
   },
   {
    "duration": 41,
    "start_time": "2023-02-21T07:04:53.980Z"
   },
   {
    "duration": 91,
    "start_time": "2023-02-21T07:04:55.079Z"
   },
   {
    "duration": 70,
    "start_time": "2023-02-21T07:04:56.096Z"
   },
   {
    "duration": 86,
    "start_time": "2023-02-21T07:04:57.196Z"
   },
   {
    "duration": 40,
    "start_time": "2023-02-21T07:04:59.040Z"
   },
   {
    "duration": 11,
    "start_time": "2023-02-21T07:05:00.451Z"
   },
   {
    "duration": 48,
    "start_time": "2023-02-21T07:05:02.016Z"
   },
   {
    "duration": 17,
    "start_time": "2023-02-21T07:05:06.434Z"
   },
   {
    "duration": 17,
    "start_time": "2023-02-21T07:05:07.618Z"
   },
   {
    "duration": 32,
    "start_time": "2023-02-21T07:05:10.176Z"
   },
   {
    "duration": 3,
    "start_time": "2023-02-21T07:06:19.911Z"
   },
   {
    "duration": 20,
    "start_time": "2023-02-21T07:06:23.499Z"
   },
   {
    "duration": 28,
    "start_time": "2023-02-21T07:06:24.189Z"
   },
   {
    "duration": 16,
    "start_time": "2023-02-21T07:06:24.771Z"
   },
   {
    "duration": 15,
    "start_time": "2023-02-21T07:06:28.253Z"
   },
   {
    "duration": 22,
    "start_time": "2023-02-21T07:06:28.828Z"
   },
   {
    "duration": 22,
    "start_time": "2023-02-21T07:06:30.305Z"
   },
   {
    "duration": 11,
    "start_time": "2023-02-21T07:07:06.435Z"
   },
   {
    "duration": 403,
    "start_time": "2023-02-21T07:09:23.103Z"
   },
   {
    "duration": 167,
    "start_time": "2023-02-21T07:09:23.508Z"
   },
   {
    "duration": 8,
    "start_time": "2023-02-21T07:09:23.677Z"
   },
   {
    "duration": 41,
    "start_time": "2023-02-21T07:09:23.687Z"
   },
   {
    "duration": 2,
    "start_time": "2023-02-21T07:09:23.731Z"
   },
   {
    "duration": 7,
    "start_time": "2023-02-21T07:09:23.735Z"
   },
   {
    "duration": 17,
    "start_time": "2023-02-21T07:09:23.743Z"
   },
   {
    "duration": 5,
    "start_time": "2023-02-21T07:09:23.761Z"
   },
   {
    "duration": 61,
    "start_time": "2023-02-21T07:09:23.768Z"
   },
   {
    "duration": 25,
    "start_time": "2023-02-21T07:09:23.831Z"
   },
   {
    "duration": 51,
    "start_time": "2023-02-21T07:09:23.858Z"
   },
   {
    "duration": 82,
    "start_time": "2023-02-21T07:09:23.912Z"
   },
   {
    "duration": 88,
    "start_time": "2023-02-21T07:09:23.995Z"
   },
   {
    "duration": 68,
    "start_time": "2023-02-21T07:09:24.093Z"
   },
   {
    "duration": 66,
    "start_time": "2023-02-21T07:09:24.163Z"
   },
   {
    "duration": 14,
    "start_time": "2023-02-21T07:09:24.231Z"
   },
   {
    "duration": 59,
    "start_time": "2023-02-21T07:09:24.246Z"
   },
   {
    "duration": 15,
    "start_time": "2023-02-21T07:09:24.306Z"
   },
   {
    "duration": 13,
    "start_time": "2023-02-21T07:09:24.323Z"
   },
   {
    "duration": 4,
    "start_time": "2023-02-21T07:09:24.338Z"
   },
   {
    "duration": 22,
    "start_time": "2023-02-21T07:09:24.344Z"
   },
   {
    "duration": 44,
    "start_time": "2023-02-21T07:09:24.368Z"
   },
   {
    "duration": 20,
    "start_time": "2023-02-21T07:09:24.414Z"
   },
   {
    "duration": 18,
    "start_time": "2023-02-21T07:09:24.436Z"
   },
   {
    "duration": 52,
    "start_time": "2023-02-21T07:09:24.456Z"
   },
   {
    "duration": 13,
    "start_time": "2023-02-21T07:09:24.510Z"
   },
   {
    "duration": 11,
    "start_time": "2023-02-21T07:09:24.525Z"
   },
   {
    "duration": 12,
    "start_time": "2023-02-21T07:09:24.538Z"
   },
   {
    "duration": 13,
    "start_time": "2023-02-21T07:09:24.551Z"
   },
   {
    "duration": 141,
    "start_time": "2023-02-21T07:09:24.566Z"
   },
   {
    "duration": 0,
    "start_time": "2023-02-21T07:09:24.709Z"
   },
   {
    "duration": 0,
    "start_time": "2023-02-21T07:09:24.710Z"
   },
   {
    "duration": 0,
    "start_time": "2023-02-21T07:09:24.712Z"
   },
   {
    "duration": 0,
    "start_time": "2023-02-21T07:09:24.713Z"
   },
   {
    "duration": 0,
    "start_time": "2023-02-21T07:09:24.715Z"
   },
   {
    "duration": 0,
    "start_time": "2023-02-21T07:09:24.716Z"
   },
   {
    "duration": 0,
    "start_time": "2023-02-21T07:09:24.717Z"
   },
   {
    "duration": 0,
    "start_time": "2023-02-21T07:09:24.718Z"
   },
   {
    "duration": 3,
    "start_time": "2023-02-21T07:11:33.972Z"
   },
   {
    "duration": 24,
    "start_time": "2023-02-21T07:11:35.136Z"
   },
   {
    "duration": 17,
    "start_time": "2023-02-21T07:11:35.645Z"
   },
   {
    "duration": 14,
    "start_time": "2023-02-21T07:11:36.035Z"
   },
   {
    "duration": 21,
    "start_time": "2023-02-21T07:11:36.307Z"
   },
   {
    "duration": 21,
    "start_time": "2023-02-21T07:11:36.563Z"
   },
   {
    "duration": 17,
    "start_time": "2023-02-21T07:11:37.204Z"
   },
   {
    "duration": 11,
    "start_time": "2023-02-21T07:11:38.708Z"
   },
   {
    "duration": 13,
    "start_time": "2023-02-21T07:11:45.984Z"
   },
   {
    "duration": 26,
    "start_time": "2023-02-21T07:12:10.164Z"
   },
   {
    "duration": 10,
    "start_time": "2023-02-21T07:12:30.851Z"
   },
   {
    "duration": 193,
    "start_time": "2023-02-21T07:15:27.159Z"
   },
   {
    "duration": 80,
    "start_time": "2023-02-21T07:15:55.655Z"
   },
   {
    "duration": 5,
    "start_time": "2023-02-21T07:16:18.271Z"
   },
   {
    "duration": 47,
    "start_time": "2023-02-21T07:17:52.817Z"
   },
   {
    "duration": 96,
    "start_time": "2023-02-21T07:17:59.465Z"
   },
   {
    "duration": 10,
    "start_time": "2023-02-21T07:18:14.305Z"
   },
   {
    "duration": 25,
    "start_time": "2023-02-21T07:18:31.381Z"
   },
   {
    "duration": 25,
    "start_time": "2023-02-21T07:19:45.526Z"
   },
   {
    "duration": 30,
    "start_time": "2023-02-21T07:20:01.820Z"
   },
   {
    "duration": 32,
    "start_time": "2023-02-21T07:20:30.093Z"
   },
   {
    "duration": 27,
    "start_time": "2023-02-21T07:20:43.300Z"
   },
   {
    "duration": 23,
    "start_time": "2023-02-21T07:21:57.215Z"
   },
   {
    "duration": 30,
    "start_time": "2023-02-21T07:22:06.697Z"
   },
   {
    "duration": 27,
    "start_time": "2023-02-21T07:23:02.813Z"
   },
   {
    "duration": 28,
    "start_time": "2023-02-21T07:24:02.611Z"
   },
   {
    "duration": 30,
    "start_time": "2023-02-21T07:24:43.569Z"
   },
   {
    "duration": 20,
    "start_time": "2023-02-21T07:25:03.915Z"
   },
   {
    "duration": 20,
    "start_time": "2023-02-21T07:25:34.540Z"
   },
   {
    "duration": 21,
    "start_time": "2023-02-21T07:25:55.176Z"
   },
   {
    "duration": 24,
    "start_time": "2023-02-21T07:26:08.163Z"
   },
   {
    "duration": 23,
    "start_time": "2023-02-21T07:26:17.225Z"
   },
   {
    "duration": 21,
    "start_time": "2023-02-21T07:26:32.370Z"
   },
   {
    "duration": 39,
    "start_time": "2023-02-21T07:27:23.581Z"
   },
   {
    "duration": 1282,
    "start_time": "2023-02-21T07:28:44.768Z"
   },
   {
    "duration": 1009,
    "start_time": "2023-02-21T07:29:11.858Z"
   },
   {
    "duration": 21,
    "start_time": "2023-02-21T07:30:15.163Z"
   },
   {
    "duration": 20,
    "start_time": "2023-02-21T07:30:25.509Z"
   },
   {
    "duration": 719,
    "start_time": "2023-02-21T07:30:51.865Z"
   },
   {
    "duration": 24,
    "start_time": "2023-02-21T07:31:11.786Z"
   },
   {
    "duration": 828,
    "start_time": "2023-02-21T07:31:33.711Z"
   },
   {
    "duration": 21,
    "start_time": "2023-02-21T07:31:53.264Z"
   },
   {
    "duration": 24,
    "start_time": "2023-02-21T07:32:19.112Z"
   },
   {
    "duration": 24,
    "start_time": "2023-02-21T07:32:38.060Z"
   },
   {
    "duration": 21,
    "start_time": "2023-02-21T07:34:04.239Z"
   },
   {
    "duration": 17,
    "start_time": "2023-02-21T07:35:10.053Z"
   },
   {
    "duration": 398,
    "start_time": "2023-02-21T07:37:00.790Z"
   },
   {
    "duration": 163,
    "start_time": "2023-02-21T07:37:01.190Z"
   },
   {
    "duration": 9,
    "start_time": "2023-02-21T07:37:01.355Z"
   },
   {
    "duration": 40,
    "start_time": "2023-02-21T07:37:01.366Z"
   },
   {
    "duration": 30,
    "start_time": "2023-02-21T07:37:01.408Z"
   },
   {
    "duration": 29,
    "start_time": "2023-02-21T07:37:01.439Z"
   },
   {
    "duration": 46,
    "start_time": "2023-02-21T07:37:01.470Z"
   },
   {
    "duration": 31,
    "start_time": "2023-02-21T07:37:01.518Z"
   },
   {
    "duration": 52,
    "start_time": "2023-02-21T07:37:01.551Z"
   },
   {
    "duration": 34,
    "start_time": "2023-02-21T07:37:01.606Z"
   },
   {
    "duration": 39,
    "start_time": "2023-02-21T07:37:01.641Z"
   },
   {
    "duration": 72,
    "start_time": "2023-02-21T07:37:01.681Z"
   },
   {
    "duration": 73,
    "start_time": "2023-02-21T07:37:01.755Z"
   },
   {
    "duration": 64,
    "start_time": "2023-02-21T07:37:01.830Z"
   },
   {
    "duration": 38,
    "start_time": "2023-02-21T07:37:01.896Z"
   },
   {
    "duration": 10,
    "start_time": "2023-02-21T07:37:01.936Z"
   },
   {
    "duration": 95,
    "start_time": "2023-02-21T07:37:01.947Z"
   },
   {
    "duration": 13,
    "start_time": "2023-02-21T07:37:02.044Z"
   },
   {
    "duration": 29,
    "start_time": "2023-02-21T07:37:02.058Z"
   },
   {
    "duration": 25,
    "start_time": "2023-02-21T07:37:02.088Z"
   },
   {
    "duration": 51,
    "start_time": "2023-02-21T07:37:02.115Z"
   },
   {
    "duration": 30,
    "start_time": "2023-02-21T07:37:02.168Z"
   },
   {
    "duration": 24,
    "start_time": "2023-02-21T07:37:02.200Z"
   },
   {
    "duration": 23,
    "start_time": "2023-02-21T07:37:02.226Z"
   },
   {
    "duration": 32,
    "start_time": "2023-02-21T07:37:02.251Z"
   },
   {
    "duration": 30,
    "start_time": "2023-02-21T07:37:02.284Z"
   },
   {
    "duration": 34,
    "start_time": "2023-02-21T07:37:02.316Z"
   },
   {
    "duration": 18,
    "start_time": "2023-02-21T07:37:02.353Z"
   },
   {
    "duration": 33,
    "start_time": "2023-02-21T07:37:02.372Z"
   },
   {
    "duration": 41,
    "start_time": "2023-02-21T07:37:02.407Z"
   },
   {
    "duration": 31,
    "start_time": "2023-02-21T07:37:02.449Z"
   },
   {
    "duration": 6,
    "start_time": "2023-02-21T07:37:02.482Z"
   },
   {
    "duration": 20,
    "start_time": "2023-02-21T07:37:02.490Z"
   },
   {
    "duration": 23,
    "start_time": "2023-02-21T07:37:02.511Z"
   },
   {
    "duration": 19,
    "start_time": "2023-02-21T07:37:02.535Z"
   },
   {
    "duration": 15,
    "start_time": "2023-02-21T07:37:02.556Z"
   },
   {
    "duration": 19,
    "start_time": "2023-02-21T07:37:02.572Z"
   },
   {
    "duration": 25,
    "start_time": "2023-02-21T07:37:02.592Z"
   },
   {
    "duration": 23,
    "start_time": "2023-02-21T07:37:44.356Z"
   },
   {
    "duration": 5,
    "start_time": "2023-02-21T07:38:15.793Z"
   },
   {
    "duration": 18,
    "start_time": "2023-02-21T07:38:36.244Z"
   },
   {
    "duration": 11,
    "start_time": "2023-02-21T07:39:12.398Z"
   },
   {
    "duration": 16,
    "start_time": "2023-02-21T07:39:51.495Z"
   },
   {
    "duration": 73,
    "start_time": "2023-02-21T07:40:06.329Z"
   },
   {
    "duration": 17,
    "start_time": "2023-02-21T07:40:28.599Z"
   },
   {
    "duration": 7,
    "start_time": "2023-02-21T07:40:44.965Z"
   },
   {
    "duration": 12,
    "start_time": "2023-02-21T07:40:58.323Z"
   },
   {
    "duration": 404,
    "start_time": "2023-02-21T07:41:40.171Z"
   },
   {
    "duration": 163,
    "start_time": "2023-02-21T07:41:40.577Z"
   },
   {
    "duration": 10,
    "start_time": "2023-02-21T07:41:40.742Z"
   },
   {
    "duration": 42,
    "start_time": "2023-02-21T07:41:40.753Z"
   },
   {
    "duration": 2,
    "start_time": "2023-02-21T07:41:40.798Z"
   },
   {
    "duration": 8,
    "start_time": "2023-02-21T07:41:40.801Z"
   },
   {
    "duration": 17,
    "start_time": "2023-02-21T07:41:40.811Z"
   },
   {
    "duration": 7,
    "start_time": "2023-02-21T07:41:40.830Z"
   },
   {
    "duration": 30,
    "start_time": "2023-02-21T07:41:40.839Z"
   },
   {
    "duration": 33,
    "start_time": "2023-02-21T07:41:40.871Z"
   },
   {
    "duration": 23,
    "start_time": "2023-02-21T07:41:40.906Z"
   },
   {
    "duration": 80,
    "start_time": "2023-02-21T07:41:40.931Z"
   },
   {
    "duration": 78,
    "start_time": "2023-02-21T07:41:41.013Z"
   },
   {
    "duration": 55,
    "start_time": "2023-02-21T07:41:41.094Z"
   },
   {
    "duration": 53,
    "start_time": "2023-02-21T07:41:41.150Z"
   },
   {
    "duration": 10,
    "start_time": "2023-02-21T07:41:41.205Z"
   },
   {
    "duration": 45,
    "start_time": "2023-02-21T07:41:41.217Z"
   },
   {
    "duration": 34,
    "start_time": "2023-02-21T07:41:41.264Z"
   },
   {
    "duration": 14,
    "start_time": "2023-02-21T07:41:41.299Z"
   },
   {
    "duration": 7,
    "start_time": "2023-02-21T07:41:41.315Z"
   },
   {
    "duration": 34,
    "start_time": "2023-02-21T07:41:41.323Z"
   },
   {
    "duration": 15,
    "start_time": "2023-02-21T07:41:41.359Z"
   },
   {
    "duration": 27,
    "start_time": "2023-02-21T07:41:41.376Z"
   },
   {
    "duration": 14,
    "start_time": "2023-02-21T07:41:41.404Z"
   },
   {
    "duration": 16,
    "start_time": "2023-02-21T07:41:41.419Z"
   },
   {
    "duration": 13,
    "start_time": "2023-02-21T07:41:41.437Z"
   },
   {
    "duration": 40,
    "start_time": "2023-02-21T07:41:41.452Z"
   },
   {
    "duration": 11,
    "start_time": "2023-02-21T07:41:41.494Z"
   },
   {
    "duration": 10,
    "start_time": "2023-02-21T07:41:41.507Z"
   },
   {
    "duration": 14,
    "start_time": "2023-02-21T07:41:41.519Z"
   },
   {
    "duration": 34,
    "start_time": "2023-02-21T07:41:41.535Z"
   },
   {
    "duration": 24,
    "start_time": "2023-02-21T07:41:41.571Z"
   },
   {
    "duration": 16,
    "start_time": "2023-02-21T07:41:41.597Z"
   },
   {
    "duration": 10,
    "start_time": "2023-02-21T07:41:41.614Z"
   },
   {
    "duration": 1,
    "start_time": "2023-02-21T07:41:41.626Z"
   },
   {
    "duration": 6,
    "start_time": "2023-02-21T07:41:41.629Z"
   },
   {
    "duration": 5,
    "start_time": "2023-02-21T07:41:41.636Z"
   },
   {
    "duration": 4,
    "start_time": "2023-02-21T07:41:41.643Z"
   },
   {
    "duration": 5,
    "start_time": "2023-02-21T07:46:32.974Z"
   },
   {
    "duration": 15,
    "start_time": "2023-02-21T07:46:34.280Z"
   },
   {
    "duration": 12,
    "start_time": "2023-02-21T07:46:35.854Z"
   },
   {
    "duration": 19,
    "start_time": "2023-02-21T07:46:36.612Z"
   },
   {
    "duration": 13,
    "start_time": "2023-02-21T07:46:37.674Z"
   },
   {
    "duration": 81,
    "start_time": "2023-02-21T08:05:15.776Z"
   },
   {
    "duration": 10,
    "start_time": "2023-02-21T08:05:23.531Z"
   },
   {
    "duration": 71,
    "start_time": "2023-02-21T08:05:48.402Z"
   },
   {
    "duration": 11,
    "start_time": "2023-02-21T08:06:40.403Z"
   },
   {
    "duration": 11,
    "start_time": "2023-02-21T08:07:19.416Z"
   },
   {
    "duration": 12,
    "start_time": "2023-02-21T08:08:22.081Z"
   },
   {
    "duration": 8,
    "start_time": "2023-02-21T08:09:27.185Z"
   },
   {
    "duration": 5,
    "start_time": "2023-02-21T08:09:53.584Z"
   },
   {
    "duration": 7,
    "start_time": "2023-02-21T08:10:57.087Z"
   },
   {
    "duration": 5,
    "start_time": "2023-02-21T08:11:21.739Z"
   }
  ],
  "colab": {
   "collapsed_sections": [
    "E0vqbgi9ay0H",
    "VUC88oWjTJw2"
   ],
   "provenance": []
  },
  "kernelspec": {
   "display_name": "Python 3 (ipykernel)",
   "language": "python",
   "name": "python3"
  },
  "language_info": {
   "codemirror_mode": {
    "name": "ipython",
    "version": 3
   },
   "file_extension": ".py",
   "mimetype": "text/x-python",
   "name": "python",
   "nbconvert_exporter": "python",
   "pygments_lexer": "ipython3",
   "version": "3.10.9"
  },
  "toc": {
   "base_numbering": 1,
   "nav_menu": {
    "height": "215px",
    "width": "403px"
   },
   "number_sections": true,
   "sideBar": true,
   "skip_h1_title": true,
   "title_cell": "Table of Contents",
   "title_sidebar": "Contents",
   "toc_cell": false,
   "toc_position": {
    "height": "calc(100% - 180px)",
    "left": "10px",
    "top": "150px",
    "width": "285.825px"
   },
   "toc_section_display": true,
   "toc_window_display": false
  }
 },
 "nbformat": 4,
 "nbformat_minor": 1
}
