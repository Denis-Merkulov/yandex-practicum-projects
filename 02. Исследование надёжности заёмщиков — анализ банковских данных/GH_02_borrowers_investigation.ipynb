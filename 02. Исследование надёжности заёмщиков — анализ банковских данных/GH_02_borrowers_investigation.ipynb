{
 "cells": [
  {
   "cell_type": "markdown",
   "id": "386f2ae7",
   "metadata": {
    "deletable": false,
    "editable": false,
    "id": "386f2ae7"
   },
   "source": [
    "# Исследование надежности заемщиков\n"
   ]
  },
  {
   "cell_type": "markdown",
   "id": "26613308",
   "metadata": {
    "id": "26613308"
   },
   "source": [
    "## Загрузка и изучение общей информации о данных"
   ]
  },
  {
   "cell_type": "markdown",
   "id": "3c9f838e",
   "metadata": {
    "deletable": false,
    "editable": false,
    "id": "3c9f838e"
   },
   "source": [
    "**Задание 1. Импортируйте библиотеку pandas. Считайте данные из csv-файла в датафрейм и сохраните в переменную `data`. Путь к файлу:**\n",
    "\n",
    "`/datasets/data.csv`"
   ]
  },
  {
   "cell_type": "code",
   "execution_count": 1,
   "id": "77a68a90",
   "metadata": {
    "deletable": false,
    "id": "77a68a90"
   },
   "outputs": [],
   "source": [
    "import pandas as pd\n",
    "\n",
    "try:\n",
    "    data = pd.read_csv('/datasets/data.csv')\n",
    "except:\n",
    "    data = pd.read_csv('https://code.s3.yandex.net/datasets/data.csv')"
   ]
  },
  {
   "cell_type": "markdown",
   "id": "45365635",
   "metadata": {
    "deletable": false,
    "editable": false,
    "id": "45365635"
   },
   "source": [
    "**Задание 2. Выведите первые 20 строчек датафрейма `data` на экран.**"
   ]
  },
  {
   "cell_type": "code",
   "execution_count": 2,
   "id": "b0451a9a",
   "metadata": {
    "deletable": false,
    "id": "b0451a9a",
    "outputId": "1a8f3ef2-d323-4ec2-ddf7-89670b5944c4"
   },
   "outputs": [
    {
     "data": {
      "text/html": [
       "<div>\n",
       "<style scoped>\n",
       "    .dataframe tbody tr th:only-of-type {\n",
       "        vertical-align: middle;\n",
       "    }\n",
       "\n",
       "    .dataframe tbody tr th {\n",
       "        vertical-align: top;\n",
       "    }\n",
       "\n",
       "    .dataframe thead th {\n",
       "        text-align: right;\n",
       "    }\n",
       "</style>\n",
       "<table border=\"1\" class=\"dataframe\">\n",
       "  <thead>\n",
       "    <tr style=\"text-align: right;\">\n",
       "      <th></th>\n",
       "      <th>children</th>\n",
       "      <th>days_employed</th>\n",
       "      <th>dob_years</th>\n",
       "      <th>education</th>\n",
       "      <th>education_id</th>\n",
       "      <th>family_status</th>\n",
       "      <th>family_status_id</th>\n",
       "      <th>gender</th>\n",
       "      <th>income_type</th>\n",
       "      <th>debt</th>\n",
       "      <th>total_income</th>\n",
       "      <th>purpose</th>\n",
       "    </tr>\n",
       "  </thead>\n",
       "  <tbody>\n",
       "    <tr>\n",
       "      <th>0</th>\n",
       "      <td>1</td>\n",
       "      <td>-8437.673028</td>\n",
       "      <td>42</td>\n",
       "      <td>высшее</td>\n",
       "      <td>0</td>\n",
       "      <td>женат / замужем</td>\n",
       "      <td>0</td>\n",
       "      <td>F</td>\n",
       "      <td>сотрудник</td>\n",
       "      <td>0</td>\n",
       "      <td>253875.639453</td>\n",
       "      <td>покупка жилья</td>\n",
       "    </tr>\n",
       "    <tr>\n",
       "      <th>1</th>\n",
       "      <td>1</td>\n",
       "      <td>-4024.803754</td>\n",
       "      <td>36</td>\n",
       "      <td>среднее</td>\n",
       "      <td>1</td>\n",
       "      <td>женат / замужем</td>\n",
       "      <td>0</td>\n",
       "      <td>F</td>\n",
       "      <td>сотрудник</td>\n",
       "      <td>0</td>\n",
       "      <td>112080.014102</td>\n",
       "      <td>приобретение автомобиля</td>\n",
       "    </tr>\n",
       "    <tr>\n",
       "      <th>2</th>\n",
       "      <td>0</td>\n",
       "      <td>-5623.422610</td>\n",
       "      <td>33</td>\n",
       "      <td>Среднее</td>\n",
       "      <td>1</td>\n",
       "      <td>женат / замужем</td>\n",
       "      <td>0</td>\n",
       "      <td>M</td>\n",
       "      <td>сотрудник</td>\n",
       "      <td>0</td>\n",
       "      <td>145885.952297</td>\n",
       "      <td>покупка жилья</td>\n",
       "    </tr>\n",
       "    <tr>\n",
       "      <th>3</th>\n",
       "      <td>3</td>\n",
       "      <td>-4124.747207</td>\n",
       "      <td>32</td>\n",
       "      <td>среднее</td>\n",
       "      <td>1</td>\n",
       "      <td>женат / замужем</td>\n",
       "      <td>0</td>\n",
       "      <td>M</td>\n",
       "      <td>сотрудник</td>\n",
       "      <td>0</td>\n",
       "      <td>267628.550329</td>\n",
       "      <td>дополнительное образование</td>\n",
       "    </tr>\n",
       "    <tr>\n",
       "      <th>4</th>\n",
       "      <td>0</td>\n",
       "      <td>340266.072047</td>\n",
       "      <td>53</td>\n",
       "      <td>среднее</td>\n",
       "      <td>1</td>\n",
       "      <td>гражданский брак</td>\n",
       "      <td>1</td>\n",
       "      <td>F</td>\n",
       "      <td>пенсионер</td>\n",
       "      <td>0</td>\n",
       "      <td>158616.077870</td>\n",
       "      <td>сыграть свадьбу</td>\n",
       "    </tr>\n",
       "    <tr>\n",
       "      <th>5</th>\n",
       "      <td>0</td>\n",
       "      <td>-926.185831</td>\n",
       "      <td>27</td>\n",
       "      <td>высшее</td>\n",
       "      <td>0</td>\n",
       "      <td>гражданский брак</td>\n",
       "      <td>1</td>\n",
       "      <td>M</td>\n",
       "      <td>компаньон</td>\n",
       "      <td>0</td>\n",
       "      <td>255763.565419</td>\n",
       "      <td>покупка жилья</td>\n",
       "    </tr>\n",
       "    <tr>\n",
       "      <th>6</th>\n",
       "      <td>0</td>\n",
       "      <td>-2879.202052</td>\n",
       "      <td>43</td>\n",
       "      <td>высшее</td>\n",
       "      <td>0</td>\n",
       "      <td>женат / замужем</td>\n",
       "      <td>0</td>\n",
       "      <td>F</td>\n",
       "      <td>компаньон</td>\n",
       "      <td>0</td>\n",
       "      <td>240525.971920</td>\n",
       "      <td>операции с жильем</td>\n",
       "    </tr>\n",
       "    <tr>\n",
       "      <th>7</th>\n",
       "      <td>0</td>\n",
       "      <td>-152.779569</td>\n",
       "      <td>50</td>\n",
       "      <td>СРЕДНЕЕ</td>\n",
       "      <td>1</td>\n",
       "      <td>женат / замужем</td>\n",
       "      <td>0</td>\n",
       "      <td>M</td>\n",
       "      <td>сотрудник</td>\n",
       "      <td>0</td>\n",
       "      <td>135823.934197</td>\n",
       "      <td>образование</td>\n",
       "    </tr>\n",
       "    <tr>\n",
       "      <th>8</th>\n",
       "      <td>2</td>\n",
       "      <td>-6929.865299</td>\n",
       "      <td>35</td>\n",
       "      <td>ВЫСШЕЕ</td>\n",
       "      <td>0</td>\n",
       "      <td>гражданский брак</td>\n",
       "      <td>1</td>\n",
       "      <td>F</td>\n",
       "      <td>сотрудник</td>\n",
       "      <td>0</td>\n",
       "      <td>95856.832424</td>\n",
       "      <td>на проведение свадьбы</td>\n",
       "    </tr>\n",
       "    <tr>\n",
       "      <th>9</th>\n",
       "      <td>0</td>\n",
       "      <td>-2188.756445</td>\n",
       "      <td>41</td>\n",
       "      <td>среднее</td>\n",
       "      <td>1</td>\n",
       "      <td>женат / замужем</td>\n",
       "      <td>0</td>\n",
       "      <td>M</td>\n",
       "      <td>сотрудник</td>\n",
       "      <td>0</td>\n",
       "      <td>144425.938277</td>\n",
       "      <td>покупка жилья для семьи</td>\n",
       "    </tr>\n",
       "    <tr>\n",
       "      <th>10</th>\n",
       "      <td>2</td>\n",
       "      <td>-4171.483647</td>\n",
       "      <td>36</td>\n",
       "      <td>высшее</td>\n",
       "      <td>0</td>\n",
       "      <td>женат / замужем</td>\n",
       "      <td>0</td>\n",
       "      <td>M</td>\n",
       "      <td>компаньон</td>\n",
       "      <td>0</td>\n",
       "      <td>113943.491460</td>\n",
       "      <td>покупка недвижимости</td>\n",
       "    </tr>\n",
       "    <tr>\n",
       "      <th>11</th>\n",
       "      <td>0</td>\n",
       "      <td>-792.701887</td>\n",
       "      <td>40</td>\n",
       "      <td>среднее</td>\n",
       "      <td>1</td>\n",
       "      <td>женат / замужем</td>\n",
       "      <td>0</td>\n",
       "      <td>F</td>\n",
       "      <td>сотрудник</td>\n",
       "      <td>0</td>\n",
       "      <td>77069.234271</td>\n",
       "      <td>покупка коммерческой недвижимости</td>\n",
       "    </tr>\n",
       "    <tr>\n",
       "      <th>12</th>\n",
       "      <td>0</td>\n",
       "      <td>NaN</td>\n",
       "      <td>65</td>\n",
       "      <td>среднее</td>\n",
       "      <td>1</td>\n",
       "      <td>гражданский брак</td>\n",
       "      <td>1</td>\n",
       "      <td>M</td>\n",
       "      <td>пенсионер</td>\n",
       "      <td>0</td>\n",
       "      <td>NaN</td>\n",
       "      <td>сыграть свадьбу</td>\n",
       "    </tr>\n",
       "    <tr>\n",
       "      <th>13</th>\n",
       "      <td>0</td>\n",
       "      <td>-1846.641941</td>\n",
       "      <td>54</td>\n",
       "      <td>неоконченное высшее</td>\n",
       "      <td>2</td>\n",
       "      <td>женат / замужем</td>\n",
       "      <td>0</td>\n",
       "      <td>F</td>\n",
       "      <td>сотрудник</td>\n",
       "      <td>0</td>\n",
       "      <td>130458.228857</td>\n",
       "      <td>приобретение автомобиля</td>\n",
       "    </tr>\n",
       "    <tr>\n",
       "      <th>14</th>\n",
       "      <td>0</td>\n",
       "      <td>-1844.956182</td>\n",
       "      <td>56</td>\n",
       "      <td>высшее</td>\n",
       "      <td>0</td>\n",
       "      <td>гражданский брак</td>\n",
       "      <td>1</td>\n",
       "      <td>F</td>\n",
       "      <td>компаньон</td>\n",
       "      <td>1</td>\n",
       "      <td>165127.911772</td>\n",
       "      <td>покупка жилой недвижимости</td>\n",
       "    </tr>\n",
       "    <tr>\n",
       "      <th>15</th>\n",
       "      <td>1</td>\n",
       "      <td>-972.364419</td>\n",
       "      <td>26</td>\n",
       "      <td>среднее</td>\n",
       "      <td>1</td>\n",
       "      <td>женат / замужем</td>\n",
       "      <td>0</td>\n",
       "      <td>F</td>\n",
       "      <td>сотрудник</td>\n",
       "      <td>0</td>\n",
       "      <td>116820.904450</td>\n",
       "      <td>строительство собственной недвижимости</td>\n",
       "    </tr>\n",
       "    <tr>\n",
       "      <th>16</th>\n",
       "      <td>0</td>\n",
       "      <td>-1719.934226</td>\n",
       "      <td>35</td>\n",
       "      <td>среднее</td>\n",
       "      <td>1</td>\n",
       "      <td>женат / замужем</td>\n",
       "      <td>0</td>\n",
       "      <td>F</td>\n",
       "      <td>сотрудник</td>\n",
       "      <td>0</td>\n",
       "      <td>289202.704229</td>\n",
       "      <td>недвижимость</td>\n",
       "    </tr>\n",
       "    <tr>\n",
       "      <th>17</th>\n",
       "      <td>0</td>\n",
       "      <td>-2369.999720</td>\n",
       "      <td>33</td>\n",
       "      <td>высшее</td>\n",
       "      <td>0</td>\n",
       "      <td>гражданский брак</td>\n",
       "      <td>1</td>\n",
       "      <td>M</td>\n",
       "      <td>сотрудник</td>\n",
       "      <td>0</td>\n",
       "      <td>90410.586745</td>\n",
       "      <td>строительство недвижимости</td>\n",
       "    </tr>\n",
       "    <tr>\n",
       "      <th>18</th>\n",
       "      <td>0</td>\n",
       "      <td>400281.136913</td>\n",
       "      <td>53</td>\n",
       "      <td>среднее</td>\n",
       "      <td>1</td>\n",
       "      <td>вдовец / вдова</td>\n",
       "      <td>2</td>\n",
       "      <td>F</td>\n",
       "      <td>пенсионер</td>\n",
       "      <td>0</td>\n",
       "      <td>56823.777243</td>\n",
       "      <td>на покупку подержанного автомобиля</td>\n",
       "    </tr>\n",
       "    <tr>\n",
       "      <th>19</th>\n",
       "      <td>0</td>\n",
       "      <td>-10038.818549</td>\n",
       "      <td>48</td>\n",
       "      <td>СРЕДНЕЕ</td>\n",
       "      <td>1</td>\n",
       "      <td>в разводе</td>\n",
       "      <td>3</td>\n",
       "      <td>F</td>\n",
       "      <td>сотрудник</td>\n",
       "      <td>0</td>\n",
       "      <td>242831.107982</td>\n",
       "      <td>на покупку своего автомобиля</td>\n",
       "    </tr>\n",
       "  </tbody>\n",
       "</table>\n",
       "</div>"
      ],
      "text/plain": [
       "    children  days_employed  dob_years            education  education_id  \\\n",
       "0          1   -8437.673028         42               высшее             0   \n",
       "1          1   -4024.803754         36              среднее             1   \n",
       "2          0   -5623.422610         33              Среднее             1   \n",
       "3          3   -4124.747207         32              среднее             1   \n",
       "4          0  340266.072047         53              среднее             1   \n",
       "5          0    -926.185831         27               высшее             0   \n",
       "6          0   -2879.202052         43               высшее             0   \n",
       "7          0    -152.779569         50              СРЕДНЕЕ             1   \n",
       "8          2   -6929.865299         35               ВЫСШЕЕ             0   \n",
       "9          0   -2188.756445         41              среднее             1   \n",
       "10         2   -4171.483647         36               высшее             0   \n",
       "11         0    -792.701887         40              среднее             1   \n",
       "12         0            NaN         65              среднее             1   \n",
       "13         0   -1846.641941         54  неоконченное высшее             2   \n",
       "14         0   -1844.956182         56               высшее             0   \n",
       "15         1    -972.364419         26              среднее             1   \n",
       "16         0   -1719.934226         35              среднее             1   \n",
       "17         0   -2369.999720         33               высшее             0   \n",
       "18         0  400281.136913         53              среднее             1   \n",
       "19         0  -10038.818549         48              СРЕДНЕЕ             1   \n",
       "\n",
       "       family_status  family_status_id gender income_type  debt  \\\n",
       "0    женат / замужем                 0      F   сотрудник     0   \n",
       "1    женат / замужем                 0      F   сотрудник     0   \n",
       "2    женат / замужем                 0      M   сотрудник     0   \n",
       "3    женат / замужем                 0      M   сотрудник     0   \n",
       "4   гражданский брак                 1      F   пенсионер     0   \n",
       "5   гражданский брак                 1      M   компаньон     0   \n",
       "6    женат / замужем                 0      F   компаньон     0   \n",
       "7    женат / замужем                 0      M   сотрудник     0   \n",
       "8   гражданский брак                 1      F   сотрудник     0   \n",
       "9    женат / замужем                 0      M   сотрудник     0   \n",
       "10   женат / замужем                 0      M   компаньон     0   \n",
       "11   женат / замужем                 0      F   сотрудник     0   \n",
       "12  гражданский брак                 1      M   пенсионер     0   \n",
       "13   женат / замужем                 0      F   сотрудник     0   \n",
       "14  гражданский брак                 1      F   компаньон     1   \n",
       "15   женат / замужем                 0      F   сотрудник     0   \n",
       "16   женат / замужем                 0      F   сотрудник     0   \n",
       "17  гражданский брак                 1      M   сотрудник     0   \n",
       "18    вдовец / вдова                 2      F   пенсионер     0   \n",
       "19         в разводе                 3      F   сотрудник     0   \n",
       "\n",
       "     total_income                                 purpose  \n",
       "0   253875.639453                           покупка жилья  \n",
       "1   112080.014102                 приобретение автомобиля  \n",
       "2   145885.952297                           покупка жилья  \n",
       "3   267628.550329              дополнительное образование  \n",
       "4   158616.077870                         сыграть свадьбу  \n",
       "5   255763.565419                           покупка жилья  \n",
       "6   240525.971920                       операции с жильем  \n",
       "7   135823.934197                             образование  \n",
       "8    95856.832424                   на проведение свадьбы  \n",
       "9   144425.938277                 покупка жилья для семьи  \n",
       "10  113943.491460                    покупка недвижимости  \n",
       "11   77069.234271       покупка коммерческой недвижимости  \n",
       "12            NaN                         сыграть свадьбу  \n",
       "13  130458.228857                 приобретение автомобиля  \n",
       "14  165127.911772              покупка жилой недвижимости  \n",
       "15  116820.904450  строительство собственной недвижимости  \n",
       "16  289202.704229                            недвижимость  \n",
       "17   90410.586745              строительство недвижимости  \n",
       "18   56823.777243      на покупку подержанного автомобиля  \n",
       "19  242831.107982            на покупку своего автомобиля  "
      ]
     },
     "execution_count": 2,
     "metadata": {},
     "output_type": "execute_result"
    }
   ],
   "source": [
    "data.head(20)"
   ]
  },
  {
   "cell_type": "markdown",
   "id": "0ed8f27f",
   "metadata": {
    "deletable": false,
    "editable": false,
    "id": "0ed8f27f"
   },
   "source": [
    "**Задание 3. Выведите основную информацию о датафрейме с помощью метода `info()`.**"
   ]
  },
  {
   "cell_type": "code",
   "execution_count": 3,
   "id": "ab3f863b",
   "metadata": {
    "deletable": false,
    "id": "ab3f863b",
    "outputId": "15376089-8dad-46c9-b520-c05248d43158"
   },
   "outputs": [
    {
     "name": "stdout",
     "output_type": "stream",
     "text": [
      "<class 'pandas.core.frame.DataFrame'>\n",
      "RangeIndex: 21525 entries, 0 to 21524\n",
      "Data columns (total 12 columns):\n",
      " #   Column            Non-Null Count  Dtype  \n",
      "---  ------            --------------  -----  \n",
      " 0   children          21525 non-null  int64  \n",
      " 1   days_employed     19351 non-null  float64\n",
      " 2   dob_years         21525 non-null  int64  \n",
      " 3   education         21525 non-null  object \n",
      " 4   education_id      21525 non-null  int64  \n",
      " 5   family_status     21525 non-null  object \n",
      " 6   family_status_id  21525 non-null  int64  \n",
      " 7   gender            21525 non-null  object \n",
      " 8   income_type       21525 non-null  object \n",
      " 9   debt              21525 non-null  int64  \n",
      " 10  total_income      19351 non-null  float64\n",
      " 11  purpose           21525 non-null  object \n",
      "dtypes: float64(2), int64(5), object(5)\n",
      "memory usage: 2.0+ MB\n"
     ]
    }
   ],
   "source": [
    "data.info()"
   ]
  },
  {
   "cell_type": "markdown",
   "id": "60e3e22d",
   "metadata": {
    "deletable": false,
    "editable": false,
    "id": "60e3e22d"
   },
   "source": [
    "## Предобработка данных"
   ]
  },
  {
   "cell_type": "markdown",
   "id": "03dc170c",
   "metadata": {
    "deletable": false,
    "editable": false,
    "id": "03dc170c"
   },
   "source": [
    "### Удаление пропусков"
   ]
  },
  {
   "cell_type": "markdown",
   "id": "a4f54eef",
   "metadata": {
    "deletable": false,
    "editable": false,
    "id": "a4f54eef"
   },
   "source": [
    "**Задание 4. Выведите количество пропущенных значений для каждого столбца. Используйте комбинацию двух методов.**"
   ]
  },
  {
   "cell_type": "code",
   "execution_count": 4,
   "id": "2dc372b2",
   "metadata": {
    "deletable": false,
    "id": "2dc372b2",
    "outputId": "81f4d817-781c-465c-ed15-91ce4446810d"
   },
   "outputs": [
    {
     "data": {
      "text/plain": [
       "children               0\n",
       "days_employed       2174\n",
       "dob_years              0\n",
       "education              0\n",
       "education_id           0\n",
       "family_status          0\n",
       "family_status_id       0\n",
       "gender                 0\n",
       "income_type            0\n",
       "debt                   0\n",
       "total_income        2174\n",
       "purpose                0\n",
       "dtype: int64"
      ]
     },
     "execution_count": 4,
     "metadata": {},
     "output_type": "execute_result"
    }
   ],
   "source": [
    "data.isna().sum()"
   ]
  },
  {
   "cell_type": "markdown",
   "id": "14f011b1",
   "metadata": {
    "deletable": false,
    "editable": false,
    "id": "14f011b1"
   },
   "source": [
    "**Задание 5. В двух столбцах есть пропущенные значения. Один из них — `days_employed`. Пропуски в этом столбце вы обработаете на следующем этапе. Другой столбец с пропущенными значениями — `total_income` — хранит данные о доходах. На сумму дохода сильнее всего влияет тип занятости, поэтому заполнить пропуски в этом столбце нужно медианным значением по каждому типу из столбца `income_type`. Например, у человека с типом занятости `сотрудник` пропуск в столбце `total_income` должен быть заполнен медианным доходом среди всех записей с тем же типом.**"
   ]
  },
  {
   "cell_type": "code",
   "execution_count": 5,
   "id": "bdabfb6e",
   "metadata": {
    "deletable": false,
    "id": "bdabfb6e"
   },
   "outputs": [],
   "source": [
    "for t in data['income_type'].unique():\n",
    "    data.loc[(data['income_type'] == t) & (data['total_income'].isna()), 'total_income'] = \\\n",
    "    data.loc[(data['income_type'] == t), 'total_income'].median()"
   ]
  },
  {
   "cell_type": "markdown",
   "id": "5be34059",
   "metadata": {
    "deletable": false,
    "editable": false,
    "id": "5be34059"
   },
   "source": [
    "### Обработка аномальных значений"
   ]
  },
  {
   "cell_type": "markdown",
   "id": "a87606cb",
   "metadata": {
    "deletable": false,
    "editable": false,
    "id": "a87606cb"
   },
   "source": [
    "**Задание 6. В данных могут встречаться артефакты (аномалии) — значения, которые не отражают действительность и появились по какой-то ошибке. таким артефактом будет отрицательное количество дней трудового стажа в столбце `days_employed`. Для реальных данных это нормально. Обработайте значения в этом столбце: замените все отрицательные значения положительными с помощью метода `abs()`.**"
   ]
  },
  {
   "cell_type": "code",
   "execution_count": 6,
   "id": "020c46cc",
   "metadata": {
    "deletable": false,
    "id": "020c46cc"
   },
   "outputs": [],
   "source": [
    "data['days_employed'] = data['days_employed'].abs()"
   ]
  },
  {
   "cell_type": "markdown",
   "id": "45538a3a",
   "metadata": {
    "deletable": false,
    "editable": false,
    "id": "45538a3a"
   },
   "source": [
    "**Задание 7. Для каждого типа занятости выведите медианное значение трудового стажа `days_employed` в днях.**"
   ]
  },
  {
   "cell_type": "code",
   "execution_count": 7,
   "id": "cd3e6328",
   "metadata": {
    "deletable": false,
    "id": "cd3e6328",
    "outputId": "801ef80e-522b-4668-f34e-565af7432bcf"
   },
   "outputs": [
    {
     "data": {
      "text/plain": [
       "income_type\n",
       "безработный        366413.652744\n",
       "в декрете            3296.759962\n",
       "госслужащий          2689.368353\n",
       "компаньон            1547.382223\n",
       "пенсионер          365213.306266\n",
       "предприниматель       520.848083\n",
       "сотрудник            1574.202821\n",
       "студент               578.751554\n",
       "Name: days_employed, dtype: float64"
      ]
     },
     "execution_count": 7,
     "metadata": {},
     "output_type": "execute_result"
    }
   ],
   "source": [
    "data.groupby('income_type')['days_employed'].agg('median')"
   ]
  },
  {
   "cell_type": "markdown",
   "id": "90c5f058",
   "metadata": {
    "deletable": false,
    "editable": false,
    "id": "90c5f058"
   },
   "source": [
    "У двух типов (безработные и пенсионеры) получатся аномально большие значения. Исправить такие значения сложно, поэтому оставьте их как есть."
   ]
  },
  {
   "cell_type": "markdown",
   "id": "9652e50d",
   "metadata": {
    "deletable": false,
    "editable": false,
    "id": "9652e50d"
   },
   "source": [
    "**Задание 8. Выведите перечень уникальных значений столбца `children`.**"
   ]
  },
  {
   "cell_type": "code",
   "execution_count": 8,
   "id": "dbb37b8e",
   "metadata": {
    "deletable": false,
    "id": "dbb37b8e",
    "outputId": "6975b15c-7f95-4697-d16d-a0c79b657b03"
   },
   "outputs": [
    {
     "data": {
      "text/plain": [
       "array([ 1,  0,  3,  2, -1,  4, 20,  5], dtype=int64)"
      ]
     },
     "execution_count": 8,
     "metadata": {},
     "output_type": "execute_result"
    }
   ],
   "source": [
    "data['children'].unique()"
   ]
  },
  {
   "cell_type": "markdown",
   "id": "2b8b0715",
   "metadata": {
    "deletable": false,
    "editable": false,
    "id": "2b8b0715"
   },
   "source": [
    "**Задание 9. В столбце `children` есть два аномальных значения. Удалите строки, в которых встречаются такие аномальные значения из датафрейма `data`.**"
   ]
  },
  {
   "cell_type": "code",
   "execution_count": 9,
   "id": "20009df8",
   "metadata": {
    "deletable": false,
    "id": "20009df8"
   },
   "outputs": [],
   "source": [
    "data = data[(data['children'] != -1) & (data['children'] != 20)]"
   ]
  },
  {
   "cell_type": "markdown",
   "id": "8c6ac9f1",
   "metadata": {
    "deletable": false,
    "editable": false,
    "id": "8c6ac9f1"
   },
   "source": [
    "**Задание 10. Ещё раз выведите перечень уникальных значений столбца `children`, чтобы убедиться, что артефакты удалены.**"
   ]
  },
  {
   "cell_type": "code",
   "execution_count": 10,
   "id": "07337b81",
   "metadata": {
    "deletable": false,
    "id": "07337b81",
    "outputId": "b2097101-d49d-44d9-901b-32a65c9463d1"
   },
   "outputs": [
    {
     "data": {
      "text/plain": [
       "array([1, 0, 3, 2, 4, 5], dtype=int64)"
      ]
     },
     "execution_count": 10,
     "metadata": {},
     "output_type": "execute_result"
    }
   ],
   "source": [
    "data['children'].unique()"
   ]
  },
  {
   "cell_type": "markdown",
   "id": "ee3f52d4",
   "metadata": {
    "id": "ee3f52d4"
   },
   "source": [
    "### Удаление пропусков"
   ]
  },
  {
   "cell_type": "markdown",
   "id": "a700b0e4",
   "metadata": {
    "deletable": false,
    "editable": false,
    "id": "a700b0e4"
   },
   "source": [
    "**Задание 11. Заполните пропуски в столбце `days_employed` медианными значениями по каждого типа занятости `income_type`.**"
   ]
  },
  {
   "cell_type": "code",
   "execution_count": 11,
   "id": "61946b83",
   "metadata": {
    "deletable": false,
    "id": "61946b83"
   },
   "outputs": [],
   "source": [
    "for t in data['income_type'].unique():\n",
    "    data.loc[(data['income_type'] == t) & (data['days_employed'].isna()), 'days_employed'] = \\\n",
    "    data.loc[(data['income_type'] == t), 'days_employed'].median()"
   ]
  },
  {
   "cell_type": "markdown",
   "id": "550dcd9b",
   "metadata": {
    "deletable": false,
    "editable": false,
    "id": "550dcd9b"
   },
   "source": [
    "**Задание 12. Убедитесь, что все пропуски заполнены. Проверьте себя и ещё раз выведите количество пропущенных значений для каждого столбца с помощью двух методов.**"
   ]
  },
  {
   "cell_type": "code",
   "execution_count": 12,
   "id": "937c7014",
   "metadata": {
    "deletable": false,
    "id": "937c7014",
    "outputId": "8da1e4e1-358e-4e87-98c9-f261bce0a7b2"
   },
   "outputs": [
    {
     "data": {
      "text/plain": [
       "children            0\n",
       "days_employed       0\n",
       "dob_years           0\n",
       "education           0\n",
       "education_id        0\n",
       "family_status       0\n",
       "family_status_id    0\n",
       "gender              0\n",
       "income_type         0\n",
       "debt                0\n",
       "total_income        0\n",
       "purpose             0\n",
       "dtype: int64"
      ]
     },
     "execution_count": 12,
     "metadata": {},
     "output_type": "execute_result"
    }
   ],
   "source": [
    "data.isna().sum()"
   ]
  },
  {
   "cell_type": "markdown",
   "id": "d522e295",
   "metadata": {
    "deletable": false,
    "editable": false,
    "id": "d522e295"
   },
   "source": [
    "### Изменение типов данных"
   ]
  },
  {
   "cell_type": "markdown",
   "id": "c229c581",
   "metadata": {
    "deletable": false,
    "editable": false,
    "id": "c229c581"
   },
   "source": [
    "**Задание 13. Замените вещественный тип данных в столбце `total_income` на целочисленный с помощью метода `astype()`.**"
   ]
  },
  {
   "cell_type": "code",
   "execution_count": 13,
   "id": "31036462",
   "metadata": {
    "deletable": false,
    "id": "31036462"
   },
   "outputs": [],
   "source": [
    "data['total_income'] = data['total_income'].astype(int)"
   ]
  },
  {
   "cell_type": "markdown",
   "id": "b8e3d1d9",
   "metadata": {
    "deletable": false,
    "editable": false,
    "id": "b8e3d1d9"
   },
   "source": [
    "### Обработка дубликатов"
   ]
  },
  {
   "cell_type": "markdown",
   "id": "9be53c49",
   "metadata": {
    "deletable": false,
    "editable": false,
    "id": "9be53c49"
   },
   "source": [
    "**Задание 14. Обработайте неявные дубликаты в столбце `education`. В этом столбце есть одни и те же значения, но записанные по-разному: с использованием заглавных и строчных букв. Приведите их к нижнему регистру.**"
   ]
  },
  {
   "cell_type": "code",
   "execution_count": 14,
   "id": "d89e73e1",
   "metadata": {
    "deletable": false,
    "id": "d89e73e1"
   },
   "outputs": [],
   "source": [
    "data['education'] = data['education'].str.lower()"
   ]
  },
  {
   "cell_type": "markdown",
   "id": "01d4500e",
   "metadata": {
    "deletable": false,
    "editable": false,
    "id": "01d4500e"
   },
   "source": [
    "**Задание 15. Выведите на экран количество строк-дубликатов в данных. Если такие строки присутствуют, удалите их.**"
   ]
  },
  {
   "cell_type": "code",
   "execution_count": 15,
   "id": "e10efb23",
   "metadata": {
    "deletable": false,
    "id": "e10efb23",
    "outputId": "9684deba-1934-42d1-99e1-cda61740f822"
   },
   "outputs": [
    {
     "data": {
      "text/plain": [
       "71"
      ]
     },
     "execution_count": 15,
     "metadata": {},
     "output_type": "execute_result"
    }
   ],
   "source": [
    "data.duplicated().sum()"
   ]
  },
  {
   "cell_type": "code",
   "execution_count": 16,
   "id": "df853f20",
   "metadata": {
    "deletable": false,
    "id": "df853f20"
   },
   "outputs": [],
   "source": [
    "data = data.drop_duplicates()"
   ]
  },
  {
   "cell_type": "markdown",
   "id": "627be38f",
   "metadata": {
    "deletable": false,
    "editable": false,
    "id": "627be38f"
   },
   "source": [
    "### Категоризация данных"
   ]
  },
  {
   "cell_type": "markdown",
   "id": "4684c3e0",
   "metadata": {
    "deletable": false,
    "editable": false,
    "id": "4684c3e0"
   },
   "source": [
    "**Задание 16. На основании диапазонов, указанных ниже, создайте в датафрейме `data` столбец `total_income_category` с категориями:**\n",
    "\n",
    "- 0–30000 — `'E'`;\n",
    "- 30001–50000 — `'D'`;\n",
    "- 50001–200000 — `'C'`;\n",
    "- 200001–1000000 — `'B'`;\n",
    "- 1000001 и выше — `'A'`.\n",
    "\n",
    "\n",
    "**Например, кредитополучателю с доходом 25000 нужно назначить категорию `'E'`, а клиенту, получающему 235000, — `'B'`. Используйте собственную функцию с именем `categorize_income()` и метод `apply()`.**"
   ]
  },
  {
   "cell_type": "code",
   "execution_count": 17,
   "id": "78965238",
   "metadata": {
    "deletable": false,
    "id": "78965238"
   },
   "outputs": [],
   "source": [
    "def categorize_income(income):\n",
    "    try:\n",
    "        if 0 <= income <= 30000:\n",
    "            return 'E'\n",
    "        elif 30001 <= income <= 50000:\n",
    "            return 'D'\n",
    "        elif 50001 <= income <= 200000:\n",
    "            return 'C'\n",
    "        elif 200001 <= income <= 1000000:\n",
    "            return 'B'\n",
    "        elif income >= 1000001:\n",
    "            return 'A'\n",
    "    except:\n",
    "        pass"
   ]
  },
  {
   "cell_type": "code",
   "execution_count": 18,
   "id": "0980ada1",
   "metadata": {
    "deletable": false,
    "id": "0980ada1"
   },
   "outputs": [],
   "source": [
    "data['total_income_category'] = data['total_income'].apply(categorize_income)"
   ]
  },
  {
   "cell_type": "markdown",
   "id": "9917bba0",
   "metadata": {
    "deletable": false,
    "editable": false,
    "id": "9917bba0"
   },
   "source": [
    "**Задание 17. Выведите на экран перечень уникальных целей взятия кредита из столбца `purpose`.**"
   ]
  },
  {
   "cell_type": "code",
   "execution_count": 19,
   "id": "ee07b65e",
   "metadata": {
    "deletable": false,
    "id": "ee07b65e",
    "outputId": "673c12d9-7d7e-4ae0-9812-c622c89dd244"
   },
   "outputs": [
    {
     "data": {
      "text/plain": [
       "array(['покупка жилья', 'приобретение автомобиля',\n",
       "       'дополнительное образование', 'сыграть свадьбу',\n",
       "       'операции с жильем', 'образование', 'на проведение свадьбы',\n",
       "       'покупка жилья для семьи', 'покупка недвижимости',\n",
       "       'покупка коммерческой недвижимости', 'покупка жилой недвижимости',\n",
       "       'строительство собственной недвижимости', 'недвижимость',\n",
       "       'строительство недвижимости', 'на покупку подержанного автомобиля',\n",
       "       'на покупку своего автомобиля',\n",
       "       'операции с коммерческой недвижимостью',\n",
       "       'строительство жилой недвижимости', 'жилье',\n",
       "       'операции со своей недвижимостью', 'автомобили',\n",
       "       'заняться образованием', 'сделка с подержанным автомобилем',\n",
       "       'получение образования', 'автомобиль', 'свадьба',\n",
       "       'получение дополнительного образования', 'покупка своего жилья',\n",
       "       'операции с недвижимостью', 'получение высшего образования',\n",
       "       'свой автомобиль', 'сделка с автомобилем',\n",
       "       'профильное образование', 'высшее образование',\n",
       "       'покупка жилья для сдачи', 'на покупку автомобиля', 'ремонт жилью',\n",
       "       'заняться высшим образованием'], dtype=object)"
      ]
     },
     "execution_count": 19,
     "metadata": {},
     "output_type": "execute_result"
    }
   ],
   "source": [
    "data['purpose'].unique()"
   ]
  },
  {
   "cell_type": "markdown",
   "id": "52b79d56",
   "metadata": {
    "deletable": false,
    "editable": false,
    "id": "52b79d56"
   },
   "source": [
    "**Задание 18. Создайте функцию, которая на основании данных из столбца `purpose` сформирует новый столбец `purpose_category`, в который войдут следующие категории:**\n",
    "\n",
    "- `'операции с автомобилем'`,\n",
    "- `'операции с недвижимостью'`,\n",
    "- `'проведение свадьбы'`,\n",
    "- `'получение образования'`.\n",
    "\n",
    "**Например, если в столбце `purpose` находится подстрока `'на покупку автомобиля'`, то в столбце `purpose_category` должна появиться строка `'операции с автомобилем'`.**\n",
    "\n",
    "**Используйте собственную функцию с именем `categorize_purpose()` и метод `apply()`. Изучите данные в столбце `purpose` и определите, какие подстроки помогут вам правильно определить категорию.**"
   ]
  },
  {
   "cell_type": "code",
   "execution_count": 20,
   "id": "be41da5d",
   "metadata": {
    "deletable": false,
    "id": "be41da5d"
   },
   "outputs": [],
   "source": [
    "def categorize_purpose(row):\n",
    "    try:\n",
    "        if 'автом' in row:\n",
    "            return 'операции с автомобилем'\n",
    "        elif 'жил' in row or 'недвиж' in row:\n",
    "            return 'операции с недвижимостью'\n",
    "        elif 'свад' in row:\n",
    "            return 'проведение свадьбы'\n",
    "        elif 'образов' in row:\n",
    "            return 'получение образования'\n",
    "    except:\n",
    "        return 'нет категории'"
   ]
  },
  {
   "cell_type": "code",
   "execution_count": 21,
   "id": "94c4a19a",
   "metadata": {
    "deletable": false,
    "id": "94c4a19a"
   },
   "outputs": [],
   "source": [
    "data['purpose_category'] = data['purpose'].apply(categorize_purpose)"
   ]
  },
  {
   "cell_type": "markdown",
   "id": "3d596c34",
   "metadata": {
    "deletable": false,
    "id": "3d596c34"
   },
   "source": [
    "### Шаг 3. Ответы на вопросы исследования"
   ]
  },
  {
   "cell_type": "markdown",
   "id": "648db036",
   "metadata": {
    "deletable": false,
    "editable": false,
    "id": "648db036"
   },
   "source": [
    "#### 3.1 Есть ли зависимость между количеством детей и возвратом кредита в срок?"
   ]
  },
  {
   "cell_type": "code",
   "execution_count": 22,
   "id": "709c0836",
   "metadata": {},
   "outputs": [
    {
     "data": {
      "text/html": [
       "<div>\n",
       "<style scoped>\n",
       "    .dataframe tbody tr th:only-of-type {\n",
       "        vertical-align: middle;\n",
       "    }\n",
       "\n",
       "    .dataframe tbody tr th {\n",
       "        vertical-align: top;\n",
       "    }\n",
       "\n",
       "    .dataframe thead th {\n",
       "        text-align: right;\n",
       "    }\n",
       "</style>\n",
       "<table border=\"1\" class=\"dataframe\">\n",
       "  <thead>\n",
       "    <tr style=\"text-align: right;\">\n",
       "      <th></th>\n",
       "      <th>children</th>\n",
       "      <th>Кол-во клиентов</th>\n",
       "      <th>Кол-во должников</th>\n",
       "      <th>Доля невозврата</th>\n",
       "    </tr>\n",
       "  </thead>\n",
       "  <tbody>\n",
       "    <tr>\n",
       "      <th>4</th>\n",
       "      <td>4</td>\n",
       "      <td>41</td>\n",
       "      <td>4</td>\n",
       "      <td>0.097561</td>\n",
       "    </tr>\n",
       "    <tr>\n",
       "      <th>2</th>\n",
       "      <td>2</td>\n",
       "      <td>2052</td>\n",
       "      <td>194</td>\n",
       "      <td>0.094542</td>\n",
       "    </tr>\n",
       "    <tr>\n",
       "      <th>1</th>\n",
       "      <td>1</td>\n",
       "      <td>4808</td>\n",
       "      <td>444</td>\n",
       "      <td>0.092346</td>\n",
       "    </tr>\n",
       "    <tr>\n",
       "      <th>3</th>\n",
       "      <td>3</td>\n",
       "      <td>330</td>\n",
       "      <td>27</td>\n",
       "      <td>0.081818</td>\n",
       "    </tr>\n",
       "    <tr>\n",
       "      <th>0</th>\n",
       "      <td>0</td>\n",
       "      <td>14091</td>\n",
       "      <td>1063</td>\n",
       "      <td>0.075438</td>\n",
       "    </tr>\n",
       "    <tr>\n",
       "      <th>5</th>\n",
       "      <td>5</td>\n",
       "      <td>9</td>\n",
       "      <td>0</td>\n",
       "      <td>0.000000</td>\n",
       "    </tr>\n",
       "  </tbody>\n",
       "</table>\n",
       "</div>"
      ],
      "text/plain": [
       "   children  Кол-во клиентов  Кол-во должников  Доля невозврата\n",
       "4         4               41                 4         0.097561\n",
       "2         2             2052               194         0.094542\n",
       "1         1             4808               444         0.092346\n",
       "3         3              330                27         0.081818\n",
       "0         0            14091              1063         0.075438\n",
       "5         5                9                 0         0.000000"
      ]
     },
     "metadata": {},
     "output_type": "display_data"
    },
    {
     "data": {
      "image/png": "[encoded data removed]"
     },
     "metadata": {},
     "output_type": "display_data"
    }
   ],
   "source": [
    "import plotly.express as px\n",
    "\n",
    "def pivot(data, index):\n",
    "    \n",
    "    pivot = data.pivot_table(index = index, values = 'debt', aggfunc = ['count', 'sum', 'mean']).reset_index()\n",
    "    pivot.columns = [index, 'Кол-во клиентов', 'Кол-во должников', 'Доля невозврата']\n",
    "    display(pivot.sort_values('Доля невозврата', ascending = False))\n",
    "    \n",
    "    fig = px.bar(pivot, x = index, y = 'Доля невозврата', color = 'Доля невозврата', title = 'Доля невозврата по ' + index)\n",
    "    #fig.show()\n",
    "    fig.show(\"png\")\n",
    "    \n",
    "pivot(data, 'children')"
   ]
  },
  {
   "cell_type": "code",
   "execution_count": 23,
   "id": "cf3bad85",
   "metadata": {},
   "outputs": [
    {
     "data": {
      "text/plain": [
       "<Axes: xlabel='children', ylabel='debt'>"
      ]
     },
     "execution_count": 23,
     "metadata": {},
     "output_type": "execute_result"
    },
    {
     "data": {
      "image/png": "[encoded data removed]",
      "text/plain": [
       "<Figure size 640x480 with 1 Axes>"
      ]
     },
     "metadata": {},
     "output_type": "display_data"
    }
   ],
   "source": [
    "#альтернативный вариант\n",
    "import seaborn as sns\n",
    "sns.barplot(data=data, x='children', y='debt')"
   ]
  },
  {
   "cell_type": "markdown",
   "id": "25f44e4f",
   "metadata": {},
   "source": [
    "**Вывод:**\n",
    "<br>\n",
    "1. Процент должников среди заёмщиков не имеющих детей меньше чем у заёмщиков с детьми. В нашем случае, не превышает 7,6%.\n",
    "2. Процент должников среди семей имеющих одного или двух детей, приблизительно, одинаков лежит в диапазоне 9,2% - 9,5%.\n",
    "3. Для многодетных семей (>=3) количество доступных данных по каждой группе не позволяет сделать релевантные выводы.\n"
   ]
  },
  {
   "cell_type": "markdown",
   "id": "74c9b3a7",
   "metadata": {
    "deletable": false,
    "editable": false,
    "id": "74c9b3a7"
   },
   "source": [
    "#### 3.2 Есть ли зависимость между семейным положением и возвратом кредита в срок?"
   ]
  },
  {
   "cell_type": "code",
   "execution_count": 24,
   "id": "c7d5f3c6",
   "metadata": {},
   "outputs": [
    {
     "data": {
      "text/html": [
       "<div>\n",
       "<style scoped>\n",
       "    .dataframe tbody tr th:only-of-type {\n",
       "        vertical-align: middle;\n",
       "    }\n",
       "\n",
       "    .dataframe tbody tr th {\n",
       "        vertical-align: top;\n",
       "    }\n",
       "\n",
       "    .dataframe thead th {\n",
       "        text-align: right;\n",
       "    }\n",
       "</style>\n",
       "<table border=\"1\" class=\"dataframe\">\n",
       "  <thead>\n",
       "    <tr style=\"text-align: right;\">\n",
       "      <th></th>\n",
       "      <th>family_status</th>\n",
       "      <th>Кол-во клиентов</th>\n",
       "      <th>Кол-во должников</th>\n",
       "      <th>Доля невозврата</th>\n",
       "    </tr>\n",
       "  </thead>\n",
       "  <tbody>\n",
       "    <tr>\n",
       "      <th>0</th>\n",
       "      <td>Не женат / не замужем</td>\n",
       "      <td>2796</td>\n",
       "      <td>273</td>\n",
       "      <td>0.097639</td>\n",
       "    </tr>\n",
       "    <tr>\n",
       "      <th>3</th>\n",
       "      <td>гражданский брак</td>\n",
       "      <td>4134</td>\n",
       "      <td>385</td>\n",
       "      <td>0.093130</td>\n",
       "    </tr>\n",
       "    <tr>\n",
       "      <th>4</th>\n",
       "      <td>женат / замужем</td>\n",
       "      <td>12261</td>\n",
       "      <td>927</td>\n",
       "      <td>0.075606</td>\n",
       "    </tr>\n",
       "    <tr>\n",
       "      <th>1</th>\n",
       "      <td>в разводе</td>\n",
       "      <td>1189</td>\n",
       "      <td>84</td>\n",
       "      <td>0.070648</td>\n",
       "    </tr>\n",
       "    <tr>\n",
       "      <th>2</th>\n",
       "      <td>вдовец / вдова</td>\n",
       "      <td>951</td>\n",
       "      <td>63</td>\n",
       "      <td>0.066246</td>\n",
       "    </tr>\n",
       "  </tbody>\n",
       "</table>\n",
       "</div>"
      ],
      "text/plain": [
       "           family_status  Кол-во клиентов  Кол-во должников  Доля невозврата\n",
       "0  Не женат / не замужем             2796               273         0.097639\n",
       "3       гражданский брак             4134               385         0.093130\n",
       "4        женат / замужем            12261               927         0.075606\n",
       "1              в разводе             1189                84         0.070648\n",
       "2         вдовец / вдова              951                63         0.066246"
      ]
     },
     "metadata": {},
     "output_type": "display_data"
    },
    {
     "data": {
      "image/png": "[encoded data removed]"
     },
     "metadata": {},
     "output_type": "display_data"
    }
   ],
   "source": [
    "pivot(data, 'family_status')"
   ]
  },
  {
   "cell_type": "markdown",
   "id": "30d1d572",
   "metadata": {},
   "source": [
    "**Вывод:**\n",
    "<br>\n",
    "1. Наибольшее количество должников находится в группе заёмщиков, которые пока ещё не вступали в семейные отношения (процент невозврата ~ 9.8%)\n",
    "2. Наименьшее количество должников среди тех, кто в настоящий момент уже не состоит в семейных отношениях: в разводе (~ 7,1%) или являются вдовцом/вдовой (~ 6,6%).\n",
    "3. Заёмщики, состоящие в семейных отношениях имеют средние показатели задолженности. При этом, для состоящих в гражданском браке процент должников (~ 9,3%) значительно выше чем у официально оформивших отношения (~ 7,6%).   "
   ]
  },
  {
   "cell_type": "markdown",
   "id": "9529de68",
   "metadata": {
    "deletable": false,
    "editable": false,
    "id": "9529de68"
   },
   "source": [
    "#### 3.3 Есть ли зависимость между уровнем дохода и возвратом кредита в срок?"
   ]
  },
  {
   "cell_type": "code",
   "execution_count": 25,
   "id": "4cbd0173",
   "metadata": {},
   "outputs": [
    {
     "data": {
      "text/html": [
       "<div>\n",
       "<style scoped>\n",
       "    .dataframe tbody tr th:only-of-type {\n",
       "        vertical-align: middle;\n",
       "    }\n",
       "\n",
       "    .dataframe tbody tr th {\n",
       "        vertical-align: top;\n",
       "    }\n",
       "\n",
       "    .dataframe thead th {\n",
       "        text-align: right;\n",
       "    }\n",
       "</style>\n",
       "<table border=\"1\" class=\"dataframe\">\n",
       "  <thead>\n",
       "    <tr style=\"text-align: right;\">\n",
       "      <th></th>\n",
       "      <th>total_income_category</th>\n",
       "      <th>Кол-во клиентов</th>\n",
       "      <th>Кол-во должников</th>\n",
       "      <th>Доля невозврата</th>\n",
       "    </tr>\n",
       "  </thead>\n",
       "  <tbody>\n",
       "    <tr>\n",
       "      <th>4</th>\n",
       "      <td>E</td>\n",
       "      <td>22</td>\n",
       "      <td>2</td>\n",
       "      <td>0.090909</td>\n",
       "    </tr>\n",
       "    <tr>\n",
       "      <th>2</th>\n",
       "      <td>C</td>\n",
       "      <td>15921</td>\n",
       "      <td>1353</td>\n",
       "      <td>0.084982</td>\n",
       "    </tr>\n",
       "    <tr>\n",
       "      <th>0</th>\n",
       "      <td>A</td>\n",
       "      <td>25</td>\n",
       "      <td>2</td>\n",
       "      <td>0.080000</td>\n",
       "    </tr>\n",
       "    <tr>\n",
       "      <th>1</th>\n",
       "      <td>B</td>\n",
       "      <td>5014</td>\n",
       "      <td>354</td>\n",
       "      <td>0.070602</td>\n",
       "    </tr>\n",
       "    <tr>\n",
       "      <th>3</th>\n",
       "      <td>D</td>\n",
       "      <td>349</td>\n",
       "      <td>21</td>\n",
       "      <td>0.060172</td>\n",
       "    </tr>\n",
       "  </tbody>\n",
       "</table>\n",
       "</div>"
      ],
      "text/plain": [
       "  total_income_category  Кол-во клиентов  Кол-во должников  Доля невозврата\n",
       "4                     E               22                 2         0.090909\n",
       "2                     C            15921              1353         0.084982\n",
       "0                     A               25                 2         0.080000\n",
       "1                     B             5014               354         0.070602\n",
       "3                     D              349                21         0.060172"
      ]
     },
     "metadata": {},
     "output_type": "display_data"
    },
    {
     "data": {
      "image/png": "[encoded data removed]"
     },
     "metadata": {},
     "output_type": "display_data"
    }
   ],
   "source": [
    "pivot(data, 'total_income_category')"
   ]
  },
  {
   "cell_type": "code",
   "execution_count": 26,
   "id": "916f3323",
   "metadata": {},
   "outputs": [
    {
     "data": {
      "text/plain": [
       "<Axes: xlabel='total_income_category', ylabel='debt'>"
      ]
     },
     "execution_count": 26,
     "metadata": {},
     "output_type": "execute_result"
    },
    {
     "data": {
      "image/png": "[encoded data removed]",
      "text/plain": [
       "<Figure size 640x480 with 1 Axes>"
      ]
     },
     "metadata": {},
     "output_type": "display_data"
    }
   ],
   "source": [
    "#альтернативный вариант\n",
    "sns.barplot(data=data, x='total_income_category', y='debt')"
   ]
  },
  {
   "cell_type": "markdown",
   "id": "df1dfcea",
   "metadata": {},
   "source": [
    "**Вывод:** \n",
    "<br>\n",
    "1. Ввиду недостаточности данных по группам A (> 1 млн), D (> 30 <= 50 тыс) и E (<= 30 тыс) получаем высокую погрешность, которая не позволяет сделать однозначные выводы.\n",
    "2. Наибольшее количество должников в группе С (> 50 <= 200 тыс) ~ 8,5% \n",
    "3. Меньшее количество должников в группе В (> 200 тыс < 1 млн) ~ 7%"
   ]
  },
  {
   "cell_type": "markdown",
   "id": "1dcc9b12",
   "metadata": {
    "deletable": false,
    "editable": false,
    "id": "1dcc9b12"
   },
   "source": [
    "#### 3.4 Как разные цели кредита влияют на его возврат в срок?"
   ]
  },
  {
   "cell_type": "code",
   "execution_count": 27,
   "id": "fb38f1b0",
   "metadata": {},
   "outputs": [
    {
     "data": {
      "text/html": [
       "<div>\n",
       "<style scoped>\n",
       "    .dataframe tbody tr th:only-of-type {\n",
       "        vertical-align: middle;\n",
       "    }\n",
       "\n",
       "    .dataframe tbody tr th {\n",
       "        vertical-align: top;\n",
       "    }\n",
       "\n",
       "    .dataframe thead th {\n",
       "        text-align: right;\n",
       "    }\n",
       "</style>\n",
       "<table border=\"1\" class=\"dataframe\">\n",
       "  <thead>\n",
       "    <tr style=\"text-align: right;\">\n",
       "      <th></th>\n",
       "      <th>purpose_category</th>\n",
       "      <th>Кол-во клиентов</th>\n",
       "      <th>Кол-во должников</th>\n",
       "      <th>Доля невозврата</th>\n",
       "    </tr>\n",
       "  </thead>\n",
       "  <tbody>\n",
       "    <tr>\n",
       "      <th>0</th>\n",
       "      <td>операции с автомобилем</td>\n",
       "      <td>4279</td>\n",
       "      <td>400</td>\n",
       "      <td>0.093480</td>\n",
       "    </tr>\n",
       "    <tr>\n",
       "      <th>2</th>\n",
       "      <td>получение образования</td>\n",
       "      <td>3988</td>\n",
       "      <td>369</td>\n",
       "      <td>0.092528</td>\n",
       "    </tr>\n",
       "    <tr>\n",
       "      <th>3</th>\n",
       "      <td>проведение свадьбы</td>\n",
       "      <td>2313</td>\n",
       "      <td>183</td>\n",
       "      <td>0.079118</td>\n",
       "    </tr>\n",
       "    <tr>\n",
       "      <th>1</th>\n",
       "      <td>операции с недвижимостью</td>\n",
       "      <td>10751</td>\n",
       "      <td>780</td>\n",
       "      <td>0.072551</td>\n",
       "    </tr>\n",
       "  </tbody>\n",
       "</table>\n",
       "</div>"
      ],
      "text/plain": [
       "           purpose_category  Кол-во клиентов  Кол-во должников  \\\n",
       "0    операции с автомобилем             4279               400   \n",
       "2     получение образования             3988               369   \n",
       "3        проведение свадьбы             2313               183   \n",
       "1  операции с недвижимостью            10751               780   \n",
       "\n",
       "   Доля невозврата  \n",
       "0         0.093480  \n",
       "2         0.092528  \n",
       "3         0.079118  \n",
       "1         0.072551  "
      ]
     },
     "metadata": {},
     "output_type": "display_data"
    },
    {
     "data": {
      "image/png": "[encoded data removed]"
     },
     "metadata": {},
     "output_type": "display_data"
    }
   ],
   "source": [
    "pivot(data, 'purpose_category')"
   ]
  },
  {
   "cell_type": "markdown",
   "id": "9ce35627",
   "metadata": {},
   "source": [
    "**Вывод:**\n",
    "<br>\n",
    "1. Наибольшее количество должников получили кредит на операции с автомобилем ~ 9.3%\n",
    "2. Наименьшее количество должников на операции с недвижимостью ~ 7.3%\n",
    "3. Процент должников среди получивших кредит на образование ~ 9,3%\n",
    "4. Процент должников среди получивших кредит на проведение свадьбы ~ 7,9%"
   ]
  },
  {
   "cell_type": "markdown",
   "id": "46c1f10b",
   "metadata": {
    "deletable": false,
    "editable": false,
    "id": "46c1f10b"
   },
   "source": [
    "#### 3.5 Приведите возможные причины появления пропусков в исходных данных."
   ]
  },
  {
   "cell_type": "markdown",
   "id": "3697d2a9",
   "metadata": {
    "deletable": false,
    "id": "3697d2a9"
   },
   "source": [
    "*Ответ:*  пропуски в данных возможны по/из-за:\n",
    "- техническим причинам (сбой при выгрузке данных),\n",
    "- ошибок в логике программы, форматах предоставления данных\n",
    "- нежелания клиентов предоставлять ту или иную информацию (если она не является обязательной при заполнении регистрационной формы)\n",
    "- ошибок ручного ввода"
   ]
  },
  {
   "cell_type": "markdown",
   "id": "3137d257",
   "metadata": {
    "deletable": false,
    "editable": false,
    "id": "3137d257"
   },
   "source": [
    "#### 3.6 Объясните, почему заполнить пропуски медианным значением — лучшее решение для количественных переменных."
   ]
  },
  {
   "cell_type": "markdown",
   "id": "cf40012a",
   "metadata": {
    "deletable": false,
    "id": "cf40012a"
   },
   "source": [
    "*Ответ:* \n",
    "Заполнение пропусков для количественных пременных медианными значениями позволяет избежать 'выбросов' (значительного отклонения от общих значений ряда данных), которые могут произойти, например, в случае рассчёта среднего значения, если в выборке находятся экстремальные значения (что может привести к недостоверности картины для последующего анализа)."
   ]
  },
  {
   "cell_type": "markdown",
   "id": "57bc304e",
   "metadata": {
    "deletable": false,
    "editable": false,
    "id": "57bc304e"
   },
   "source": [
    "### Шаг 4: общий вывод."
   ]
  },
  {
   "cell_type": "markdown",
   "id": "217bcd0d",
   "metadata": {},
   "source": [
    "1. При подготовке к проведению исследования исходная база данных была модифицирована следующим образом :\n",
    "\n",
    "    - ввиду отсутствия в некоторых строках данных о доходах, отсутствующие значения были заполенны медианными соответственно типу занятости.\n",
    "    - количества дней трудового стажа с отрицательными значениями были переведены в положительные\n",
    "    - убраны строки с аномальным данными по количеству детей\n",
    "    - ввиду отсутствия в некоторых строках данных о трудовом стаже, отсутствующие значения были заполенны медианными соответственно типу занятости.\n",
    "    - обработаны неявные дубликаты в столбце education посредством приведения к единому регистру\n",
    "    - удалены строки дубликаты\n",
    "    - проведена и отражена в отдельном столбце категоризация по уровню дохода\n",
    "    - проведена и отражена в отдельном столбце категоризация по целям кредитования\n",
    "<br>\n",
    "<br>\n",
    "2. Рекомендации по улучшению входных данных и данных для исследований\n",
    "    - в анкете, поля о доходе и стаже сделать обязательными к заполнению\n",
    "    - добавить автопроверку на формат для вводимых клиентом данных (attention: трудовой стаж, количество детей)\n",
    "    - проработать вариант иной категоризации по доходам, либо рассчитать другие метрики (отношение дохода к сумме выплат и т.п.)\n",
    "<br>\n",
    "<br>\n",
    "3. Проведённые исследования зависимости различных групп критериев и возвратом кредита в срок дают, на текущих данных, следующую картину:\n",
    "\n",
    "    3.1. зависимость между количеством детей и возвратом кредита в срок\n",
    "    - высокий риск: заёмщики имеющие одного или двух детей\n",
    "    - низкий риск: заёмщики не имеющие детей\n",
    "    - риск не определён: ввиду недостаточности данных по группам многодетные дети (с количеством детей больше 3-ёх) получаем высокую погрешность, которая не позволяет сделать однозначные выводы.\n",
    "\n",
    "    3.2. зависимость между семейным положением и возвратом кредита в срок\n",
    "    - высокий риск: заёмщики, которые пока ещё не вступали в семейные отношения\n",
    "    - низкий риск: заёмщики, которые в настоящий момент уже не состоят в семейных отношениях: в разводе или являются вдовцом/вдовой.\n",
    "    \n",
    "    3.3. зависимость между уровнем дохода и возвратом кредита в срок\n",
    "    - высокий риск: заёмщики с уровнем дохода от 50 до 200 тыс. руб. (группа С).\n",
    "    - низкий риск: заёмщики с уровнем дохода от 200 тыс. до 1 млн. руб. (группа B)\n",
    "    - риск не определён: ввиду недостаточности данных по группам A (> 1 млн), D (> 30 <= 50 тыс) и E (<= 30 тыс) получаем высокую погрешность, которая не позволяет сделать однозначные выводы.\n",
    "    \n",
    "    3.4. влияние разных целей кредита на его возврат в срок\n",
    "    - высокий риск: заёмщики с целью проведения операций с автомобилем\n",
    "    - низкий риск: заёмщики с целью проведения операций с недвижимостью\n",
    "    \n",
    "Приведённые выше оценки рисков позволяют получить портреты идеального заёмщика и противоположного ему.    "
   ]
  },
  {
   "cell_type": "markdown",
   "id": "1ab75d1c",
   "metadata": {
    "deletable": false,
    "id": "1ab75d1c"
   },
   "source": [
    " "
   ]
  }
 ],
 "metadata": {
  "ExecuteTimeLog": [
   {
    "duration": 52,
    "start_time": "2023-03-06T10:44:40.899Z"
   },
   {
    "duration": 6,
    "start_time": "2023-03-06T10:44:53.321Z"
   },
   {
    "duration": 6,
    "start_time": "2023-03-06T10:45:56.146Z"
   },
   {
    "duration": 6,
    "start_time": "2023-03-06T10:46:04.598Z"
   },
   {
    "duration": 467,
    "start_time": "2023-03-06T10:46:19.909Z"
   },
   {
    "duration": 21,
    "start_time": "2023-03-06T10:46:20.378Z"
   },
   {
    "duration": 14,
    "start_time": "2023-03-06T10:46:20.401Z"
   },
   {
    "duration": 31,
    "start_time": "2023-03-06T10:46:20.417Z"
   },
   {
    "duration": 37,
    "start_time": "2023-03-06T10:46:20.450Z"
   },
   {
    "duration": 4,
    "start_time": "2023-03-06T10:46:20.488Z"
   },
   {
    "duration": 15,
    "start_time": "2023-03-06T10:46:20.493Z"
   },
   {
    "duration": 4,
    "start_time": "2023-03-06T10:46:20.510Z"
   },
   {
    "duration": 28,
    "start_time": "2023-03-06T10:46:20.516Z"
   },
   {
    "duration": 6,
    "start_time": "2023-03-06T10:46:20.547Z"
   },
   {
    "duration": 33,
    "start_time": "2023-03-06T10:46:20.555Z"
   },
   {
    "duration": 9,
    "start_time": "2023-03-06T10:46:20.590Z"
   },
   {
    "duration": 6,
    "start_time": "2023-03-06T10:46:20.600Z"
   },
   {
    "duration": 36,
    "start_time": "2023-03-06T10:46:20.608Z"
   },
   {
    "duration": 19,
    "start_time": "2023-03-06T10:46:20.646Z"
   },
   {
    "duration": 15,
    "start_time": "2023-03-06T10:46:20.666Z"
   },
   {
    "duration": 3,
    "start_time": "2023-03-06T10:46:20.683Z"
   },
   {
    "duration": 18,
    "start_time": "2023-03-06T10:46:20.687Z"
   },
   {
    "duration": 10,
    "start_time": "2023-03-06T10:46:20.706Z"
   },
   {
    "duration": 18,
    "start_time": "2023-03-06T10:46:20.718Z"
   },
   {
    "duration": 18,
    "start_time": "2023-03-06T10:46:20.746Z"
   },
   {
    "duration": 4,
    "start_time": "2023-03-06T10:46:20.765Z"
   },
   {
    "duration": 7,
    "start_time": "2023-03-06T10:46:20.771Z"
   },
   {
    "duration": 4,
    "start_time": "2023-03-06T10:46:20.781Z"
   },
   {
    "duration": 6,
    "start_time": "2023-03-06T10:46:20.786Z"
   },
   {
    "duration": 3,
    "start_time": "2023-03-06T10:46:34.539Z"
   },
   {
    "duration": 5,
    "start_time": "2023-03-06T10:46:56.015Z"
   },
   {
    "duration": 68,
    "start_time": "2023-03-06T10:47:58.504Z"
   },
   {
    "duration": 4,
    "start_time": "2023-03-06T10:49:25.102Z"
   },
   {
    "duration": 6,
    "start_time": "2023-03-06T10:49:40.648Z"
   },
   {
    "duration": 18,
    "start_time": "2023-03-06T10:50:34.331Z"
   },
   {
    "duration": 11,
    "start_time": "2023-03-06T10:52:15.313Z"
   },
   {
    "duration": 17,
    "start_time": "2023-03-06T10:53:47.047Z"
   },
   {
    "duration": 12,
    "start_time": "2023-03-06T10:55:15.590Z"
   },
   {
    "duration": 12,
    "start_time": "2023-03-06T10:55:34.847Z"
   },
   {
    "duration": 9,
    "start_time": "2023-03-06T10:55:43.816Z"
   },
   {
    "duration": 17,
    "start_time": "2023-03-06T10:57:47.206Z"
   },
   {
    "duration": 12,
    "start_time": "2023-03-06T10:58:17.751Z"
   },
   {
    "duration": 19,
    "start_time": "2023-03-06T10:59:05.747Z"
   },
   {
    "duration": 19,
    "start_time": "2023-03-06T10:59:51.258Z"
   },
   {
    "duration": 19,
    "start_time": "2023-03-06T11:02:44.492Z"
   },
   {
    "duration": 18,
    "start_time": "2023-03-06T11:03:11.658Z"
   },
   {
    "duration": 21,
    "start_time": "2023-03-06T11:03:33.826Z"
   },
   {
    "duration": 92,
    "start_time": "2023-03-06T11:07:50.286Z"
   },
   {
    "duration": 71,
    "start_time": "2023-03-06T11:08:09.827Z"
   },
   {
    "duration": 20,
    "start_time": "2023-03-06T11:11:47.358Z"
   },
   {
    "duration": 23,
    "start_time": "2023-03-06T11:12:56.907Z"
   },
   {
    "duration": 608,
    "start_time": "2023-03-06T11:15:26.551Z"
   },
   {
    "duration": 169,
    "start_time": "2023-03-06T11:16:28.598Z"
   },
   {
    "duration": 148,
    "start_time": "2023-03-06T11:17:36.899Z"
   },
   {
    "duration": 163,
    "start_time": "2023-03-06T11:18:33.198Z"
   },
   {
    "duration": 34,
    "start_time": "2023-03-06T11:19:28.886Z"
   },
   {
    "duration": 173,
    "start_time": "2023-03-06T11:19:48.010Z"
   },
   {
    "duration": 169,
    "start_time": "2023-03-06T11:20:37.187Z"
   },
   {
    "duration": 164,
    "start_time": "2023-03-06T11:20:56.106Z"
   },
   {
    "duration": 186,
    "start_time": "2023-03-06T11:25:46.359Z"
   },
   {
    "duration": 146,
    "start_time": "2023-03-06T11:26:08.958Z"
   },
   {
    "duration": 101,
    "start_time": "2023-03-06T11:31:41.329Z"
   },
   {
    "duration": 6,
    "start_time": "2023-03-06T11:31:54.957Z"
   },
   {
    "duration": 71,
    "start_time": "2023-03-06T11:32:06.159Z"
   },
   {
    "duration": 1030,
    "start_time": "2023-03-06T11:32:26.102Z"
   },
   {
    "duration": 153,
    "start_time": "2023-03-06T11:34:37.994Z"
   },
   {
    "duration": 142,
    "start_time": "2023-03-06T11:35:39.494Z"
   },
   {
    "duration": 130,
    "start_time": "2023-03-06T11:53:19.167Z"
   },
   {
    "duration": 575,
    "start_time": "2023-03-06T11:54:06.023Z"
   },
   {
    "duration": 27,
    "start_time": "2023-03-06T11:54:06.601Z"
   },
   {
    "duration": 31,
    "start_time": "2023-03-06T11:54:06.633Z"
   },
   {
    "duration": 19,
    "start_time": "2023-03-06T11:54:06.667Z"
   },
   {
    "duration": 68,
    "start_time": "2023-03-06T11:54:06.688Z"
   },
   {
    "duration": 4,
    "start_time": "2023-03-06T11:54:06.763Z"
   },
   {
    "duration": 12,
    "start_time": "2023-03-06T11:54:06.769Z"
   },
   {
    "duration": 5,
    "start_time": "2023-03-06T11:54:06.783Z"
   },
   {
    "duration": 14,
    "start_time": "2023-03-06T11:54:06.790Z"
   },
   {
    "duration": 5,
    "start_time": "2023-03-06T11:54:06.805Z"
   },
   {
    "duration": 61,
    "start_time": "2023-03-06T11:54:06.811Z"
   },
   {
    "duration": 12,
    "start_time": "2023-03-06T11:54:06.875Z"
   },
   {
    "duration": 7,
    "start_time": "2023-03-06T11:54:06.889Z"
   },
   {
    "duration": 15,
    "start_time": "2023-03-06T11:54:06.899Z"
   },
   {
    "duration": 46,
    "start_time": "2023-03-06T11:54:06.916Z"
   },
   {
    "duration": 22,
    "start_time": "2023-03-06T11:54:06.965Z"
   },
   {
    "duration": 5,
    "start_time": "2023-03-06T11:54:06.988Z"
   },
   {
    "duration": 16,
    "start_time": "2023-03-06T11:54:06.994Z"
   },
   {
    "duration": 30,
    "start_time": "2023-03-06T11:54:07.012Z"
   },
   {
    "duration": 13,
    "start_time": "2023-03-06T11:54:07.047Z"
   },
   {
    "duration": 14,
    "start_time": "2023-03-06T11:54:07.062Z"
   },
   {
    "duration": 428,
    "start_time": "2023-03-06T11:54:07.077Z"
   },
   {
    "duration": 2,
    "start_time": "2023-03-06T11:54:07.507Z"
   },
   {
    "duration": 9,
    "start_time": "2023-03-06T11:54:07.511Z"
   },
   {
    "duration": 16,
    "start_time": "2023-03-06T11:54:07.522Z"
   },
   {
    "duration": 166,
    "start_time": "2023-03-06T11:54:41.141Z"
   },
   {
    "duration": 165,
    "start_time": "2023-03-06T11:55:21.700Z"
   },
   {
    "duration": 177,
    "start_time": "2023-03-06T11:56:01.126Z"
   },
   {
    "duration": 161,
    "start_time": "2023-03-06T12:06:24.805Z"
   },
   {
    "duration": 215,
    "start_time": "2023-03-06T12:09:24.228Z"
   },
   {
    "duration": 166,
    "start_time": "2023-03-06T12:17:42.696Z"
   },
   {
    "duration": 167,
    "start_time": "2023-03-06T12:17:52.903Z"
   },
   {
    "duration": 52,
    "start_time": "2023-03-06T15:34:03.826Z"
   },
   {
    "duration": 6,
    "start_time": "2023-03-06T15:34:32.419Z"
   },
   {
    "duration": 700,
    "start_time": "2023-03-06T15:34:40.119Z"
   },
   {
    "duration": 31,
    "start_time": "2023-03-06T15:34:40.822Z"
   },
   {
    "duration": 34,
    "start_time": "2023-03-06T15:34:40.857Z"
   },
   {
    "duration": 16,
    "start_time": "2023-03-06T15:34:40.895Z"
   },
   {
    "duration": 42,
    "start_time": "2023-03-06T15:34:40.914Z"
   },
   {
    "duration": 4,
    "start_time": "2023-03-06T15:34:40.958Z"
   },
   {
    "duration": 15,
    "start_time": "2023-03-06T15:34:40.964Z"
   },
   {
    "duration": 5,
    "start_time": "2023-03-06T15:34:41.002Z"
   },
   {
    "duration": 11,
    "start_time": "2023-03-06T15:34:41.009Z"
   },
   {
    "duration": 6,
    "start_time": "2023-03-06T15:34:41.023Z"
   },
   {
    "duration": 35,
    "start_time": "2023-03-06T15:34:41.030Z"
   },
   {
    "duration": 44,
    "start_time": "2023-03-06T15:34:41.067Z"
   },
   {
    "duration": 3,
    "start_time": "2023-03-06T15:34:41.113Z"
   },
   {
    "duration": 13,
    "start_time": "2023-03-06T15:34:41.118Z"
   },
   {
    "duration": 22,
    "start_time": "2023-03-06T15:34:41.133Z"
   },
   {
    "duration": 54,
    "start_time": "2023-03-06T15:34:41.156Z"
   },
   {
    "duration": 4,
    "start_time": "2023-03-06T15:34:41.212Z"
   },
   {
    "duration": 13,
    "start_time": "2023-03-06T15:34:41.217Z"
   },
   {
    "duration": 8,
    "start_time": "2023-03-06T15:34:41.232Z"
   },
   {
    "duration": 4,
    "start_time": "2023-03-06T15:34:41.242Z"
   },
   {
    "duration": 11,
    "start_time": "2023-03-06T15:34:41.247Z"
   },
   {
    "duration": 602,
    "start_time": "2023-03-06T15:34:41.260Z"
   },
   {
    "duration": 2,
    "start_time": "2023-03-06T15:34:41.865Z"
   },
   {
    "duration": 8,
    "start_time": "2023-03-06T15:34:41.869Z"
   },
   {
    "duration": 13,
    "start_time": "2023-03-06T15:34:41.878Z"
   },
   {
    "duration": 7,
    "start_time": "2023-03-06T15:40:17.445Z"
   },
   {
    "duration": 194,
    "start_time": "2023-03-06T15:48:10.474Z"
   },
   {
    "duration": 183,
    "start_time": "2023-03-06T15:50:24.005Z"
   },
   {
    "duration": 52,
    "start_time": "2023-03-06T15:51:37.122Z"
   },
   {
    "duration": 145,
    "start_time": "2023-03-06T15:51:59.915Z"
   },
   {
    "duration": 58,
    "start_time": "2023-03-06T15:53:56.696Z"
   },
   {
    "duration": 40,
    "start_time": "2023-03-06T15:54:04.300Z"
   },
   {
    "duration": 57,
    "start_time": "2023-03-06T15:54:09.767Z"
   },
   {
    "duration": 490,
    "start_time": "2023-03-06T15:54:45.856Z"
   },
   {
    "duration": 25,
    "start_time": "2023-03-06T15:54:46.348Z"
   },
   {
    "duration": 33,
    "start_time": "2023-03-06T15:54:46.375Z"
   },
   {
    "duration": 12,
    "start_time": "2023-03-06T15:54:46.410Z"
   },
   {
    "duration": 45,
    "start_time": "2023-03-06T15:54:46.424Z"
   },
   {
    "duration": 5,
    "start_time": "2023-03-06T15:54:46.471Z"
   },
   {
    "duration": 49,
    "start_time": "2023-03-06T15:54:46.478Z"
   },
   {
    "duration": 14,
    "start_time": "2023-03-06T15:54:46.529Z"
   },
   {
    "duration": 15,
    "start_time": "2023-03-06T15:54:46.545Z"
   },
   {
    "duration": 10,
    "start_time": "2023-03-06T15:54:46.562Z"
   },
   {
    "duration": 41,
    "start_time": "2023-03-06T15:54:46.574Z"
   },
   {
    "duration": 11,
    "start_time": "2023-03-06T15:54:46.617Z"
   },
   {
    "duration": 5,
    "start_time": "2023-03-06T15:54:46.630Z"
   },
   {
    "duration": 12,
    "start_time": "2023-03-06T15:54:46.639Z"
   },
   {
    "duration": 26,
    "start_time": "2023-03-06T15:54:46.652Z"
   },
   {
    "duration": 31,
    "start_time": "2023-03-06T15:54:46.701Z"
   },
   {
    "duration": 5,
    "start_time": "2023-03-06T15:54:46.734Z"
   },
   {
    "duration": 25,
    "start_time": "2023-03-06T15:54:46.742Z"
   },
   {
    "duration": 13,
    "start_time": "2023-03-06T15:54:46.769Z"
   },
   {
    "duration": 25,
    "start_time": "2023-03-06T15:54:46.784Z"
   },
   {
    "duration": 25,
    "start_time": "2023-03-06T15:54:46.814Z"
   },
   {
    "duration": 490,
    "start_time": "2023-03-06T15:54:46.841Z"
   },
   {
    "duration": 4,
    "start_time": "2023-03-06T15:54:47.333Z"
   },
   {
    "duration": 19,
    "start_time": "2023-03-06T15:54:47.339Z"
   },
   {
    "duration": 11,
    "start_time": "2023-03-06T15:54:47.360Z"
   },
   {
    "duration": 53,
    "start_time": "2023-03-06T15:57:15.914Z"
   },
   {
    "duration": 54,
    "start_time": "2023-03-06T15:57:39.443Z"
   },
   {
    "duration": 76,
    "start_time": "2023-03-06T15:57:56.473Z"
   },
   {
    "duration": 60,
    "start_time": "2023-03-06T15:58:02.578Z"
   },
   {
    "duration": 145,
    "start_time": "2023-03-06T15:58:11.425Z"
   },
   {
    "duration": 198,
    "start_time": "2023-03-06T16:05:18.172Z"
   },
   {
    "duration": 195,
    "start_time": "2023-03-06T16:13:38.927Z"
   },
   {
    "duration": 161,
    "start_time": "2023-03-06T16:16:19.901Z"
   },
   {
    "duration": 209,
    "start_time": "2023-03-06T16:17:29.246Z"
   },
   {
    "duration": 142,
    "start_time": "2023-03-06T16:17:52.944Z"
   },
   {
    "duration": 147,
    "start_time": "2023-03-06T16:17:57.533Z"
   },
   {
    "duration": 152,
    "start_time": "2023-03-06T16:19:07.780Z"
   },
   {
    "duration": 157,
    "start_time": "2023-03-06T16:20:20.571Z"
   },
   {
    "duration": 176,
    "start_time": "2023-03-06T16:20:51.952Z"
   },
   {
    "duration": 163,
    "start_time": "2023-03-06T16:21:21.420Z"
   },
   {
    "duration": 60,
    "start_time": "2023-03-06T16:30:58.776Z"
   },
   {
    "duration": 47,
    "start_time": "2023-03-06T16:31:22.296Z"
   },
   {
    "duration": 53,
    "start_time": "2023-03-06T16:31:33.280Z"
   },
   {
    "duration": 56,
    "start_time": "2023-03-06T16:31:48.632Z"
   },
   {
    "duration": 150,
    "start_time": "2023-03-06T16:31:59.297Z"
   },
   {
    "duration": 147,
    "start_time": "2023-03-06T16:32:25.237Z"
   },
   {
    "duration": 481,
    "start_time": "2023-03-06T16:32:47.499Z"
   },
   {
    "duration": 24,
    "start_time": "2023-03-06T16:32:47.982Z"
   },
   {
    "duration": 28,
    "start_time": "2023-03-06T16:32:48.008Z"
   },
   {
    "duration": 9,
    "start_time": "2023-03-06T16:32:48.040Z"
   },
   {
    "duration": 51,
    "start_time": "2023-03-06T16:32:48.051Z"
   },
   {
    "duration": 5,
    "start_time": "2023-03-06T16:32:48.104Z"
   },
   {
    "duration": 11,
    "start_time": "2023-03-06T16:32:48.112Z"
   },
   {
    "duration": 7,
    "start_time": "2023-03-06T16:32:48.124Z"
   },
   {
    "duration": 11,
    "start_time": "2023-03-06T16:32:48.133Z"
   },
   {
    "duration": 6,
    "start_time": "2023-03-06T16:32:48.149Z"
   },
   {
    "duration": 67,
    "start_time": "2023-03-06T16:32:48.157Z"
   },
   {
    "duration": 11,
    "start_time": "2023-03-06T16:32:48.226Z"
   },
   {
    "duration": 7,
    "start_time": "2023-03-06T16:32:48.239Z"
   },
   {
    "duration": 14,
    "start_time": "2023-03-06T16:32:48.248Z"
   },
   {
    "duration": 39,
    "start_time": "2023-03-06T16:32:48.264Z"
   },
   {
    "duration": 18,
    "start_time": "2023-03-06T16:32:48.306Z"
   },
   {
    "duration": 4,
    "start_time": "2023-03-06T16:32:48.326Z"
   },
   {
    "duration": 12,
    "start_time": "2023-03-06T16:32:48.332Z"
   },
   {
    "duration": 6,
    "start_time": "2023-03-06T16:32:48.346Z"
   },
   {
    "duration": 7,
    "start_time": "2023-03-06T16:32:48.354Z"
   },
   {
    "duration": 39,
    "start_time": "2023-03-06T16:32:48.363Z"
   },
   {
    "duration": 390,
    "start_time": "2023-03-06T16:32:48.404Z"
   },
   {
    "duration": 196,
    "start_time": "2023-03-06T16:32:48.796Z"
   },
   {
    "duration": 175,
    "start_time": "2023-03-06T16:32:48.994Z"
   },
   {
    "duration": 3,
    "start_time": "2023-03-06T16:32:49.170Z"
   },
   {
    "duration": 9,
    "start_time": "2023-03-06T16:32:49.174Z"
   },
   {
    "duration": 42,
    "start_time": "2023-03-06T16:35:38.578Z"
   },
   {
    "duration": 51,
    "start_time": "2023-03-06T16:35:52.619Z"
   },
   {
    "duration": 51,
    "start_time": "2023-03-06T16:36:15.769Z"
   },
   {
    "duration": 46,
    "start_time": "2023-03-06T16:36:30.997Z"
   },
   {
    "duration": 3,
    "start_time": "2023-03-06T16:38:15.154Z"
   },
   {
    "duration": 7,
    "start_time": "2023-03-06T16:38:29.466Z"
   },
   {
    "duration": 151,
    "start_time": "2023-03-06T16:42:17.346Z"
   },
   {
    "duration": 149,
    "start_time": "2023-03-06T16:44:09.203Z"
   },
   {
    "duration": 192,
    "start_time": "2023-03-06T16:45:41.945Z"
   },
   {
    "duration": 139,
    "start_time": "2023-03-06T16:45:58.762Z"
   },
   {
    "duration": 8,
    "start_time": "2023-03-06T16:47:38.075Z"
   },
   {
    "duration": 131,
    "start_time": "2023-03-06T16:48:00.412Z"
   },
   {
    "duration": 136,
    "start_time": "2023-03-06T16:49:32.186Z"
   },
   {
    "duration": 152,
    "start_time": "2023-03-06T16:49:44.706Z"
   },
   {
    "duration": 14,
    "start_time": "2023-03-06T16:50:50.537Z"
   },
   {
    "duration": 12,
    "start_time": "2023-03-06T16:52:15.435Z"
   },
   {
    "duration": 7,
    "start_time": "2023-03-06T16:52:51.325Z"
   },
   {
    "duration": 6,
    "start_time": "2023-03-06T16:53:11.415Z"
   },
   {
    "duration": 8,
    "start_time": "2023-03-06T16:57:00.752Z"
   },
   {
    "duration": 19,
    "start_time": "2023-03-06T16:58:47.728Z"
   },
   {
    "duration": 61,
    "start_time": "2023-03-07T07:47:23.302Z"
   },
   {
    "duration": 750,
    "start_time": "2023-03-07T07:47:40.158Z"
   },
   {
    "duration": 39,
    "start_time": "2023-03-07T07:47:40.910Z"
   },
   {
    "duration": 24,
    "start_time": "2023-03-07T07:47:40.953Z"
   },
   {
    "duration": 8,
    "start_time": "2023-03-07T07:47:40.978Z"
   },
   {
    "duration": 30,
    "start_time": "2023-03-07T07:47:40.988Z"
   },
   {
    "duration": 3,
    "start_time": "2023-03-07T07:47:41.019Z"
   },
   {
    "duration": 22,
    "start_time": "2023-03-07T07:47:41.024Z"
   },
   {
    "duration": 18,
    "start_time": "2023-03-07T07:47:41.048Z"
   },
   {
    "duration": 10,
    "start_time": "2023-03-07T07:47:41.068Z"
   },
   {
    "duration": 4,
    "start_time": "2023-03-07T07:47:41.081Z"
   },
   {
    "duration": 36,
    "start_time": "2023-03-07T07:47:41.086Z"
   },
   {
    "duration": 22,
    "start_time": "2023-03-07T07:47:41.123Z"
   },
   {
    "duration": 16,
    "start_time": "2023-03-07T07:47:41.149Z"
   },
   {
    "duration": 14,
    "start_time": "2023-03-07T07:47:41.166Z"
   },
   {
    "duration": 20,
    "start_time": "2023-03-07T07:47:41.182Z"
   },
   {
    "duration": 16,
    "start_time": "2023-03-07T07:47:41.204Z"
   },
   {
    "duration": 3,
    "start_time": "2023-03-07T07:47:41.222Z"
   },
   {
    "duration": 41,
    "start_time": "2023-03-07T07:47:41.227Z"
   },
   {
    "duration": 9,
    "start_time": "2023-03-07T07:47:41.275Z"
   },
   {
    "duration": 10,
    "start_time": "2023-03-07T07:47:41.285Z"
   },
   {
    "duration": 18,
    "start_time": "2023-03-07T07:47:41.297Z"
   },
   {
    "duration": 30,
    "start_time": "2023-03-07T07:47:41.317Z"
   },
   {
    "duration": 588,
    "start_time": "2023-03-07T07:47:41.353Z"
   },
   {
    "duration": 25,
    "start_time": "2023-03-07T07:47:41.949Z"
   },
   {
    "duration": 3,
    "start_time": "2023-03-07T07:47:41.976Z"
   },
   {
    "duration": 6,
    "start_time": "2023-03-07T07:47:41.980Z"
   },
   {
    "duration": 8,
    "start_time": "2023-03-07T07:49:15.456Z"
   },
   {
    "duration": 6,
    "start_time": "2023-03-07T07:49:17.282Z"
   },
   {
    "duration": 176,
    "start_time": "2023-03-07T07:49:22.621Z"
   },
   {
    "duration": 6,
    "start_time": "2023-03-07T07:49:29.982Z"
   },
   {
    "duration": 5,
    "start_time": "2023-03-07T07:51:27.504Z"
   },
   {
    "duration": 6,
    "start_time": "2023-03-07T07:51:29.882Z"
   },
   {
    "duration": 90,
    "start_time": "2023-03-07T07:55:32.589Z"
   },
   {
    "duration": 10,
    "start_time": "2023-03-07T07:56:31.799Z"
   },
   {
    "duration": 6,
    "start_time": "2023-03-07T07:58:39.780Z"
   },
   {
    "duration": 6,
    "start_time": "2023-03-07T07:58:57.867Z"
   },
   {
    "duration": 12,
    "start_time": "2023-03-07T08:00:04.928Z"
   },
   {
    "duration": 7,
    "start_time": "2023-03-07T08:00:05.784Z"
   },
   {
    "duration": 6,
    "start_time": "2023-03-07T08:00:20.116Z"
   },
   {
    "duration": 13,
    "start_time": "2023-03-07T08:09:49.994Z"
   },
   {
    "duration": 458,
    "start_time": "2023-03-07T08:10:19.892Z"
   },
   {
    "duration": 27,
    "start_time": "2023-03-07T08:10:20.358Z"
   },
   {
    "duration": 13,
    "start_time": "2023-03-07T08:10:20.387Z"
   },
   {
    "duration": 15,
    "start_time": "2023-03-07T08:10:20.401Z"
   },
   {
    "duration": 83,
    "start_time": "2023-03-07T08:10:20.418Z"
   },
   {
    "duration": 3,
    "start_time": "2023-03-07T08:10:20.503Z"
   },
   {
    "duration": 20,
    "start_time": "2023-03-07T08:10:20.507Z"
   },
   {
    "duration": 6,
    "start_time": "2023-03-07T08:10:20.528Z"
   },
   {
    "duration": 46,
    "start_time": "2023-03-07T08:10:20.535Z"
   },
   {
    "duration": 19,
    "start_time": "2023-03-07T08:10:20.583Z"
   },
   {
    "duration": 34,
    "start_time": "2023-03-07T08:10:20.603Z"
   },
   {
    "duration": 25,
    "start_time": "2023-03-07T08:10:20.639Z"
   },
   {
    "duration": 23,
    "start_time": "2023-03-07T08:10:20.668Z"
   },
   {
    "duration": 20,
    "start_time": "2023-03-07T08:10:20.694Z"
   },
   {
    "duration": 43,
    "start_time": "2023-03-07T08:10:20.716Z"
   },
   {
    "duration": 38,
    "start_time": "2023-03-07T08:10:20.761Z"
   },
   {
    "duration": 4,
    "start_time": "2023-03-07T08:10:20.800Z"
   },
   {
    "duration": 25,
    "start_time": "2023-03-07T08:10:20.805Z"
   },
   {
    "duration": 40,
    "start_time": "2023-03-07T08:10:20.844Z"
   },
   {
    "duration": 7,
    "start_time": "2023-03-07T08:10:20.886Z"
   },
   {
    "duration": 17,
    "start_time": "2023-03-07T08:10:20.895Z"
   },
   {
    "duration": 38,
    "start_time": "2023-03-07T08:10:20.913Z"
   },
   {
    "duration": 32,
    "start_time": "2023-03-07T08:10:20.956Z"
   },
   {
    "duration": 25,
    "start_time": "2023-03-07T08:10:20.990Z"
   },
   {
    "duration": 50,
    "start_time": "2023-03-07T08:10:21.017Z"
   },
   {
    "duration": 97,
    "start_time": "2023-03-07T08:10:21.069Z"
   },
   {
    "duration": 0,
    "start_time": "2023-03-07T08:10:21.168Z"
   },
   {
    "duration": 14,
    "start_time": "2023-03-07T08:10:59.541Z"
   },
   {
    "duration": 9,
    "start_time": "2023-03-07T08:24:48.195Z"
   },
   {
    "duration": 595,
    "start_time": "2023-03-07T08:48:57.995Z"
   },
   {
    "duration": 25,
    "start_time": "2023-03-07T08:48:58.602Z"
   },
   {
    "duration": 33,
    "start_time": "2023-03-07T08:48:58.629Z"
   },
   {
    "duration": 46,
    "start_time": "2023-03-07T08:48:58.668Z"
   },
   {
    "duration": 55,
    "start_time": "2023-03-07T08:48:58.717Z"
   },
   {
    "duration": 6,
    "start_time": "2023-03-07T08:48:58.775Z"
   },
   {
    "duration": 44,
    "start_time": "2023-03-07T08:48:58.783Z"
   },
   {
    "duration": 28,
    "start_time": "2023-03-07T08:48:58.828Z"
   },
   {
    "duration": 64,
    "start_time": "2023-03-07T08:48:58.859Z"
   },
   {
    "duration": 8,
    "start_time": "2023-03-07T08:48:58.927Z"
   },
   {
    "duration": 111,
    "start_time": "2023-03-07T08:48:58.936Z"
   },
   {
    "duration": 19,
    "start_time": "2023-03-07T08:48:59.051Z"
   },
   {
    "duration": 42,
    "start_time": "2023-03-07T08:48:59.072Z"
   },
   {
    "duration": 95,
    "start_time": "2023-03-07T08:48:59.116Z"
   },
   {
    "duration": 44,
    "start_time": "2023-03-07T08:48:59.213Z"
   },
   {
    "duration": 29,
    "start_time": "2023-03-07T08:48:59.260Z"
   },
   {
    "duration": 16,
    "start_time": "2023-03-07T08:48:59.299Z"
   },
   {
    "duration": 19,
    "start_time": "2023-03-07T08:48:59.318Z"
   },
   {
    "duration": 57,
    "start_time": "2023-03-07T08:48:59.339Z"
   },
   {
    "duration": 11,
    "start_time": "2023-03-07T08:48:59.399Z"
   },
   {
    "duration": 13,
    "start_time": "2023-03-07T08:48:59.413Z"
   },
   {
    "duration": 62,
    "start_time": "2023-03-07T08:48:59.429Z"
   },
   {
    "duration": 19,
    "start_time": "2023-03-07T08:48:59.493Z"
   },
   {
    "duration": 15,
    "start_time": "2023-03-07T08:48:59.514Z"
   },
   {
    "duration": 58,
    "start_time": "2023-03-07T08:48:59.532Z"
   },
   {
    "duration": 20,
    "start_time": "2023-03-07T08:48:59.596Z"
   },
   {
    "duration": 7,
    "start_time": "2023-03-07T08:48:59.618Z"
   },
   {
    "duration": 535,
    "start_time": "2023-03-07T10:06:08.612Z"
   },
   {
    "duration": 33,
    "start_time": "2023-03-07T10:06:09.152Z"
   },
   {
    "duration": 14,
    "start_time": "2023-03-07T10:06:09.186Z"
   },
   {
    "duration": 10,
    "start_time": "2023-03-07T10:06:09.203Z"
   },
   {
    "duration": 49,
    "start_time": "2023-03-07T10:06:09.215Z"
   },
   {
    "duration": 3,
    "start_time": "2023-03-07T10:06:09.267Z"
   },
   {
    "duration": 15,
    "start_time": "2023-03-07T10:06:09.273Z"
   },
   {
    "duration": 4,
    "start_time": "2023-03-07T10:06:09.290Z"
   },
   {
    "duration": 10,
    "start_time": "2023-03-07T10:06:09.295Z"
   },
   {
    "duration": 4,
    "start_time": "2023-03-07T10:06:09.310Z"
   },
   {
    "duration": 58,
    "start_time": "2023-03-07T10:06:09.316Z"
   },
   {
    "duration": 11,
    "start_time": "2023-03-07T10:06:09.375Z"
   },
   {
    "duration": 3,
    "start_time": "2023-03-07T10:06:09.387Z"
   },
   {
    "duration": 11,
    "start_time": "2023-03-07T10:06:09.392Z"
   },
   {
    "duration": 37,
    "start_time": "2023-03-07T10:06:09.405Z"
   },
   {
    "duration": 22,
    "start_time": "2023-03-07T10:06:09.444Z"
   },
   {
    "duration": 9,
    "start_time": "2023-03-07T10:06:09.472Z"
   },
   {
    "duration": 12,
    "start_time": "2023-03-07T10:06:09.482Z"
   },
   {
    "duration": 6,
    "start_time": "2023-03-07T10:06:09.495Z"
   },
   {
    "duration": 11,
    "start_time": "2023-03-07T10:06:09.503Z"
   },
   {
    "duration": 10,
    "start_time": "2023-03-07T10:06:09.515Z"
   },
   {
    "duration": 10,
    "start_time": "2023-03-07T10:06:09.527Z"
   },
   {
    "duration": 49,
    "start_time": "2023-03-07T10:06:09.539Z"
   },
   {
    "duration": 12,
    "start_time": "2023-03-07T10:06:09.590Z"
   },
   {
    "duration": 7,
    "start_time": "2023-03-07T10:06:09.604Z"
   },
   {
    "duration": 11,
    "start_time": "2023-03-07T10:06:09.613Z"
   },
   {
    "duration": 15,
    "start_time": "2023-03-07T10:06:09.626Z"
   },
   {
    "duration": 482,
    "start_time": "2023-03-07T10:08:18.962Z"
   },
   {
    "duration": 33,
    "start_time": "2023-03-07T10:08:19.446Z"
   },
   {
    "duration": 15,
    "start_time": "2023-03-07T10:08:19.482Z"
   },
   {
    "duration": 23,
    "start_time": "2023-03-07T10:08:19.499Z"
   },
   {
    "duration": 78,
    "start_time": "2023-03-07T10:08:19.524Z"
   },
   {
    "duration": 3,
    "start_time": "2023-03-07T10:08:19.604Z"
   },
   {
    "duration": 13,
    "start_time": "2023-03-07T10:08:19.609Z"
   },
   {
    "duration": 5,
    "start_time": "2023-03-07T10:08:19.624Z"
   },
   {
    "duration": 59,
    "start_time": "2023-03-07T10:08:19.630Z"
   },
   {
    "duration": 8,
    "start_time": "2023-03-07T10:08:19.691Z"
   },
   {
    "duration": 39,
    "start_time": "2023-03-07T10:08:19.700Z"
   },
   {
    "duration": 12,
    "start_time": "2023-03-07T10:08:19.741Z"
   },
   {
    "duration": 35,
    "start_time": "2023-03-07T10:08:19.755Z"
   },
   {
    "duration": 15,
    "start_time": "2023-03-07T10:08:19.791Z"
   },
   {
    "duration": 76,
    "start_time": "2023-03-07T10:08:19.808Z"
   },
   {
    "duration": 18,
    "start_time": "2023-03-07T10:08:19.886Z"
   },
   {
    "duration": 3,
    "start_time": "2023-03-07T10:08:19.905Z"
   },
   {
    "duration": 19,
    "start_time": "2023-03-07T10:08:19.910Z"
   },
   {
    "duration": 53,
    "start_time": "2023-03-07T10:08:19.931Z"
   },
   {
    "duration": 16,
    "start_time": "2023-03-07T10:08:19.985Z"
   },
   {
    "duration": 13,
    "start_time": "2023-03-07T10:08:20.003Z"
   },
   {
    "duration": 49,
    "start_time": "2023-03-07T10:08:20.018Z"
   },
   {
    "duration": 21,
    "start_time": "2023-03-07T10:08:20.069Z"
   },
   {
    "duration": 19,
    "start_time": "2023-03-07T10:08:20.092Z"
   },
   {
    "duration": 66,
    "start_time": "2023-03-07T10:08:20.113Z"
   },
   {
    "duration": 32,
    "start_time": "2023-03-07T10:08:20.181Z"
   },
   {
    "duration": 59,
    "start_time": "2023-03-07T10:08:20.214Z"
   },
   {
    "duration": 472,
    "start_time": "2023-03-07T16:41:34.674Z"
   },
   {
    "duration": 26,
    "start_time": "2023-03-07T16:41:35.148Z"
   },
   {
    "duration": 15,
    "start_time": "2023-03-07T16:41:35.175Z"
   },
   {
    "duration": 24,
    "start_time": "2023-03-07T16:41:35.191Z"
   },
   {
    "duration": 32,
    "start_time": "2023-03-07T16:41:35.218Z"
   },
   {
    "duration": 4,
    "start_time": "2023-03-07T16:41:35.252Z"
   },
   {
    "duration": 18,
    "start_time": "2023-03-07T16:41:35.258Z"
   },
   {
    "duration": 8,
    "start_time": "2023-03-07T16:41:35.278Z"
   },
   {
    "duration": 27,
    "start_time": "2023-03-07T16:41:35.287Z"
   },
   {
    "duration": 5,
    "start_time": "2023-03-07T16:41:35.316Z"
   },
   {
    "duration": 44,
    "start_time": "2023-03-07T16:41:35.322Z"
   },
   {
    "duration": 10,
    "start_time": "2023-03-07T16:41:35.368Z"
   },
   {
    "duration": 3,
    "start_time": "2023-03-07T16:41:35.380Z"
   },
   {
    "duration": 39,
    "start_time": "2023-03-07T16:41:35.387Z"
   },
   {
    "duration": 33,
    "start_time": "2023-03-07T16:41:35.428Z"
   },
   {
    "duration": 20,
    "start_time": "2023-03-07T16:41:35.463Z"
   },
   {
    "duration": 3,
    "start_time": "2023-03-07T16:41:35.485Z"
   },
   {
    "duration": 25,
    "start_time": "2023-03-07T16:41:35.490Z"
   },
   {
    "duration": 8,
    "start_time": "2023-03-07T16:41:35.517Z"
   },
   {
    "duration": 4,
    "start_time": "2023-03-07T16:41:35.527Z"
   },
   {
    "duration": 14,
    "start_time": "2023-03-07T16:41:35.533Z"
   },
   {
    "duration": 9,
    "start_time": "2023-03-07T16:41:35.549Z"
   },
   {
    "duration": 7,
    "start_time": "2023-03-07T16:41:35.559Z"
   },
   {
    "duration": 47,
    "start_time": "2023-03-07T16:41:35.568Z"
   },
   {
    "duration": 16,
    "start_time": "2023-03-07T16:41:35.617Z"
   },
   {
    "duration": 7,
    "start_time": "2023-03-07T16:41:35.635Z"
   },
   {
    "duration": 8,
    "start_time": "2023-03-07T16:41:35.644Z"
   },
   {
    "duration": 486,
    "start_time": "2023-03-07T16:52:19.126Z"
   },
   {
    "duration": 25,
    "start_time": "2023-03-07T16:52:19.614Z"
   },
   {
    "duration": 16,
    "start_time": "2023-03-07T16:52:19.641Z"
   },
   {
    "duration": 11,
    "start_time": "2023-03-07T16:52:19.659Z"
   },
   {
    "duration": 66,
    "start_time": "2023-03-07T16:52:19.672Z"
   },
   {
    "duration": 4,
    "start_time": "2023-03-07T16:52:19.740Z"
   },
   {
    "duration": 9,
    "start_time": "2023-03-07T16:52:19.745Z"
   },
   {
    "duration": 4,
    "start_time": "2023-03-07T16:52:19.756Z"
   },
   {
    "duration": 9,
    "start_time": "2023-03-07T16:52:19.762Z"
   },
   {
    "duration": 6,
    "start_time": "2023-03-07T16:52:19.773Z"
   },
   {
    "duration": 34,
    "start_time": "2023-03-07T16:52:19.811Z"
   },
   {
    "duration": 12,
    "start_time": "2023-03-07T16:52:19.847Z"
   },
   {
    "duration": 4,
    "start_time": "2023-03-07T16:52:19.861Z"
   },
   {
    "duration": 43,
    "start_time": "2023-03-07T16:52:19.869Z"
   },
   {
    "duration": 21,
    "start_time": "2023-03-07T16:52:19.914Z"
   },
   {
    "duration": 17,
    "start_time": "2023-03-07T16:52:19.936Z"
   },
   {
    "duration": 3,
    "start_time": "2023-03-07T16:52:19.955Z"
   },
   {
    "duration": 11,
    "start_time": "2023-03-07T16:52:19.960Z"
   },
   {
    "duration": 5,
    "start_time": "2023-03-07T16:52:19.973Z"
   },
   {
    "duration": 34,
    "start_time": "2023-03-07T16:52:19.979Z"
   },
   {
    "duration": 28,
    "start_time": "2023-03-07T16:52:20.015Z"
   },
   {
    "duration": 602,
    "start_time": "2023-03-07T16:52:20.045Z"
   },
   {
    "duration": 5,
    "start_time": "2023-03-07T16:52:20.649Z"
   },
   {
    "duration": 58,
    "start_time": "2023-03-07T16:52:20.655Z"
   },
   {
    "duration": 15,
    "start_time": "2023-03-07T16:52:20.715Z"
   },
   {
    "duration": 23,
    "start_time": "2023-03-07T16:52:20.732Z"
   },
   {
    "duration": 29,
    "start_time": "2023-03-07T16:52:20.757Z"
   },
   {
    "duration": 12,
    "start_time": "2023-03-07T16:52:20.788Z"
   },
   {
    "duration": 627,
    "start_time": "2023-03-07T17:41:08.827Z"
   },
   {
    "duration": 734,
    "start_time": "2023-03-07T17:41:15.708Z"
   },
   {
    "duration": 22,
    "start_time": "2023-03-07T17:41:16.444Z"
   },
   {
    "duration": 14,
    "start_time": "2023-03-07T17:41:16.467Z"
   },
   {
    "duration": 9,
    "start_time": "2023-03-07T17:41:16.483Z"
   },
   {
    "duration": 44,
    "start_time": "2023-03-07T17:41:16.494Z"
   },
   {
    "duration": 3,
    "start_time": "2023-03-07T17:41:16.540Z"
   },
   {
    "duration": 13,
    "start_time": "2023-03-07T17:41:16.544Z"
   },
   {
    "duration": 4,
    "start_time": "2023-03-07T17:41:16.558Z"
   },
   {
    "duration": 11,
    "start_time": "2023-03-07T17:41:16.565Z"
   },
   {
    "duration": 4,
    "start_time": "2023-03-07T17:41:16.578Z"
   },
   {
    "duration": 48,
    "start_time": "2023-03-07T17:41:16.583Z"
   },
   {
    "duration": 10,
    "start_time": "2023-03-07T17:41:16.632Z"
   },
   {
    "duration": 5,
    "start_time": "2023-03-07T17:41:16.643Z"
   },
   {
    "duration": 12,
    "start_time": "2023-03-07T17:41:16.649Z"
   },
   {
    "duration": 19,
    "start_time": "2023-03-07T17:41:16.662Z"
   },
   {
    "duration": 16,
    "start_time": "2023-03-07T17:41:16.682Z"
   },
   {
    "duration": 32,
    "start_time": "2023-03-07T17:41:16.699Z"
   },
   {
    "duration": 10,
    "start_time": "2023-03-07T17:41:16.733Z"
   },
   {
    "duration": 13,
    "start_time": "2023-03-07T17:41:16.745Z"
   },
   {
    "duration": 3,
    "start_time": "2023-03-07T17:41:16.760Z"
   },
   {
    "duration": 12,
    "start_time": "2023-03-07T17:41:16.765Z"
   },
   {
    "duration": 515,
    "start_time": "2023-03-07T17:41:16.779Z"
   },
   {
    "duration": 6,
    "start_time": "2023-03-07T17:41:17.296Z"
   },
   {
    "duration": 19,
    "start_time": "2023-03-07T17:41:17.303Z"
   },
   {
    "duration": 19,
    "start_time": "2023-03-07T17:41:17.323Z"
   },
   {
    "duration": 16,
    "start_time": "2023-03-07T17:41:17.343Z"
   },
   {
    "duration": 14,
    "start_time": "2023-03-07T17:41:17.361Z"
   },
   {
    "duration": 5,
    "start_time": "2023-03-07T17:41:17.379Z"
   },
   {
    "duration": 28,
    "start_time": "2023-03-07T17:43:38.214Z"
   },
   {
    "duration": 27,
    "start_time": "2023-03-07T17:44:01.982Z"
   },
   {
    "duration": 26,
    "start_time": "2023-03-07T17:44:09.902Z"
   },
   {
    "duration": 78,
    "start_time": "2023-03-07T17:44:58.937Z"
   },
   {
    "duration": 75,
    "start_time": "2023-03-07T17:52:00.686Z"
   },
   {
    "duration": 69,
    "start_time": "2023-03-07T17:52:16.785Z"
   },
   {
    "duration": 8,
    "start_time": "2023-03-07T18:08:25.653Z"
   },
   {
    "duration": 6,
    "start_time": "2023-03-07T18:08:57.617Z"
   },
   {
    "duration": 8,
    "start_time": "2023-03-07T18:09:46.089Z"
   },
   {
    "duration": 8,
    "start_time": "2023-03-07T18:09:55.295Z"
   },
   {
    "duration": 592,
    "start_time": "2023-03-09T08:28:11.593Z"
   },
   {
    "duration": 23,
    "start_time": "2023-03-09T08:28:12.186Z"
   },
   {
    "duration": 29,
    "start_time": "2023-03-09T08:28:12.211Z"
   },
   {
    "duration": 16,
    "start_time": "2023-03-09T08:28:12.243Z"
   },
   {
    "duration": 70,
    "start_time": "2023-03-09T08:28:12.261Z"
   },
   {
    "duration": 4,
    "start_time": "2023-03-09T08:28:12.334Z"
   },
   {
    "duration": 15,
    "start_time": "2023-03-09T08:28:12.340Z"
   },
   {
    "duration": 9,
    "start_time": "2023-03-09T08:28:12.357Z"
   },
   {
    "duration": 33,
    "start_time": "2023-03-09T08:28:12.367Z"
   },
   {
    "duration": 14,
    "start_time": "2023-03-09T08:28:12.405Z"
   },
   {
    "duration": 45,
    "start_time": "2023-03-09T08:28:12.420Z"
   },
   {
    "duration": 10,
    "start_time": "2023-03-09T08:28:12.467Z"
   },
   {
    "duration": 7,
    "start_time": "2023-03-09T08:28:12.478Z"
   },
   {
    "duration": 31,
    "start_time": "2023-03-09T08:28:12.486Z"
   },
   {
    "duration": 29,
    "start_time": "2023-03-09T08:28:12.521Z"
   },
   {
    "duration": 26,
    "start_time": "2023-03-09T08:28:12.552Z"
   },
   {
    "duration": 3,
    "start_time": "2023-03-09T08:28:12.581Z"
   },
   {
    "duration": 42,
    "start_time": "2023-03-09T08:28:12.586Z"
   },
   {
    "duration": 9,
    "start_time": "2023-03-09T08:28:12.630Z"
   },
   {
    "duration": 5,
    "start_time": "2023-03-09T08:28:12.641Z"
   },
   {
    "duration": 21,
    "start_time": "2023-03-09T08:28:12.648Z"
   },
   {
    "duration": 617,
    "start_time": "2023-03-09T08:28:12.671Z"
   },
   {
    "duration": 5,
    "start_time": "2023-03-09T08:28:13.289Z"
   },
   {
    "duration": 12,
    "start_time": "2023-03-09T08:28:13.295Z"
   },
   {
    "duration": 16,
    "start_time": "2023-03-09T08:28:13.312Z"
   },
   {
    "duration": 12,
    "start_time": "2023-03-09T08:28:13.331Z"
   },
   {
    "duration": 8,
    "start_time": "2023-03-09T08:28:13.345Z"
   },
   {
    "duration": 8,
    "start_time": "2023-03-09T08:28:13.356Z"
   },
   {
    "duration": 510,
    "start_time": "2023-03-09T09:19:30.324Z"
   },
   {
    "duration": 23,
    "start_time": "2023-03-09T09:19:30.836Z"
   },
   {
    "duration": 59,
    "start_time": "2023-03-09T09:19:30.860Z"
   },
   {
    "duration": 58,
    "start_time": "2023-03-09T09:19:30.921Z"
   },
   {
    "duration": 57,
    "start_time": "2023-03-09T09:19:30.981Z"
   },
   {
    "duration": 41,
    "start_time": "2023-03-09T09:19:31.040Z"
   },
   {
    "duration": 47,
    "start_time": "2023-03-09T09:19:31.084Z"
   },
   {
    "duration": 86,
    "start_time": "2023-03-09T09:19:31.133Z"
   },
   {
    "duration": 62,
    "start_time": "2023-03-09T09:19:31.221Z"
   },
   {
    "duration": 53,
    "start_time": "2023-03-09T09:19:31.285Z"
   },
   {
    "duration": 101,
    "start_time": "2023-03-09T09:19:31.340Z"
   },
   {
    "duration": 9,
    "start_time": "2023-03-09T09:19:31.443Z"
   },
   {
    "duration": 17,
    "start_time": "2023-03-09T09:19:31.454Z"
   },
   {
    "duration": 33,
    "start_time": "2023-03-09T09:19:31.474Z"
   },
   {
    "duration": 80,
    "start_time": "2023-03-09T09:19:31.508Z"
   },
   {
    "duration": 27,
    "start_time": "2023-03-09T09:19:31.589Z"
   },
   {
    "duration": 5,
    "start_time": "2023-03-09T09:19:31.619Z"
   },
   {
    "duration": 39,
    "start_time": "2023-03-09T09:19:31.625Z"
   },
   {
    "duration": 36,
    "start_time": "2023-03-09T09:19:31.666Z"
   },
   {
    "duration": 27,
    "start_time": "2023-03-09T09:19:31.703Z"
   },
   {
    "duration": 25,
    "start_time": "2023-03-09T09:19:31.732Z"
   },
   {
    "duration": 534,
    "start_time": "2023-03-09T09:19:31.759Z"
   },
   {
    "duration": 7,
    "start_time": "2023-03-09T09:19:32.295Z"
   },
   {
    "duration": 11,
    "start_time": "2023-03-09T09:19:32.304Z"
   },
   {
    "duration": 6,
    "start_time": "2023-03-09T09:19:32.317Z"
   },
   {
    "duration": 78,
    "start_time": "2023-03-09T09:21:29.305Z"
   },
   {
    "duration": 76,
    "start_time": "2023-03-09T09:23:20.424Z"
   },
   {
    "duration": 75,
    "start_time": "2023-03-09T09:24:28.844Z"
   },
   {
    "duration": 82,
    "start_time": "2023-03-09T09:25:33.549Z"
   },
   {
    "duration": 84,
    "start_time": "2023-03-09T09:26:36.585Z"
   },
   {
    "duration": 75,
    "start_time": "2023-03-09T09:26:58.301Z"
   },
   {
    "duration": 98,
    "start_time": "2023-03-09T09:28:33.971Z"
   },
   {
    "duration": 458,
    "start_time": "2023-03-09T09:44:50.058Z"
   },
   {
    "duration": 25,
    "start_time": "2023-03-09T09:44:50.518Z"
   },
   {
    "duration": 17,
    "start_time": "2023-03-09T09:44:50.545Z"
   },
   {
    "duration": 28,
    "start_time": "2023-03-09T09:44:50.564Z"
   },
   {
    "duration": 46,
    "start_time": "2023-03-09T09:44:50.594Z"
   },
   {
    "duration": 3,
    "start_time": "2023-03-09T09:44:50.642Z"
   },
   {
    "duration": 26,
    "start_time": "2023-03-09T09:44:50.646Z"
   },
   {
    "duration": 20,
    "start_time": "2023-03-09T09:44:50.674Z"
   },
   {
    "duration": 29,
    "start_time": "2023-03-09T09:44:50.695Z"
   },
   {
    "duration": 7,
    "start_time": "2023-03-09T09:44:50.727Z"
   },
   {
    "duration": 51,
    "start_time": "2023-03-09T09:44:50.735Z"
   },
   {
    "duration": 17,
    "start_time": "2023-03-09T09:44:50.788Z"
   },
   {
    "duration": 15,
    "start_time": "2023-03-09T09:44:50.807Z"
   },
   {
    "duration": 38,
    "start_time": "2023-03-09T09:44:50.824Z"
   },
   {
    "duration": 35,
    "start_time": "2023-03-09T09:44:50.864Z"
   },
   {
    "duration": 24,
    "start_time": "2023-03-09T09:44:50.901Z"
   },
   {
    "duration": 4,
    "start_time": "2023-03-09T09:44:50.927Z"
   },
   {
    "duration": 34,
    "start_time": "2023-03-09T09:44:50.933Z"
   },
   {
    "duration": 8,
    "start_time": "2023-03-09T09:44:50.969Z"
   },
   {
    "duration": 14,
    "start_time": "2023-03-09T09:44:50.979Z"
   },
   {
    "duration": 12,
    "start_time": "2023-03-09T09:44:50.995Z"
   },
   {
    "duration": 576,
    "start_time": "2023-03-09T09:44:51.009Z"
   },
   {
    "duration": 143,
    "start_time": "2023-03-09T09:44:51.587Z"
   },
   {
    "duration": 96,
    "start_time": "2023-03-09T09:44:51.734Z"
   },
   {
    "duration": 95,
    "start_time": "2023-03-09T09:44:51.832Z"
   },
   {
    "duration": 100,
    "start_time": "2023-03-09T09:44:51.929Z"
   },
   {
    "duration": 71,
    "start_time": "2023-03-09T09:46:51.580Z"
   },
   {
    "duration": 455,
    "start_time": "2023-03-09T10:00:29.071Z"
   },
   {
    "duration": 26,
    "start_time": "2023-03-09T10:00:29.529Z"
   },
   {
    "duration": 23,
    "start_time": "2023-03-09T10:00:29.557Z"
   },
   {
    "duration": 11,
    "start_time": "2023-03-09T10:00:29.582Z"
   },
   {
    "duration": 49,
    "start_time": "2023-03-09T10:00:29.596Z"
   },
   {
    "duration": 4,
    "start_time": "2023-03-09T10:00:29.646Z"
   },
   {
    "duration": 17,
    "start_time": "2023-03-09T10:00:29.651Z"
   },
   {
    "duration": 5,
    "start_time": "2023-03-09T10:00:29.669Z"
   },
   {
    "duration": 8,
    "start_time": "2023-03-09T10:00:29.676Z"
   },
   {
    "duration": 4,
    "start_time": "2023-03-09T10:00:29.686Z"
   },
   {
    "duration": 56,
    "start_time": "2023-03-09T10:00:29.692Z"
   },
   {
    "duration": 10,
    "start_time": "2023-03-09T10:00:29.750Z"
   },
   {
    "duration": 8,
    "start_time": "2023-03-09T10:00:29.762Z"
   },
   {
    "duration": 14,
    "start_time": "2023-03-09T10:00:29.773Z"
   },
   {
    "duration": 47,
    "start_time": "2023-03-09T10:00:29.788Z"
   },
   {
    "duration": 18,
    "start_time": "2023-03-09T10:00:29.837Z"
   },
   {
    "duration": 5,
    "start_time": "2023-03-09T10:00:29.857Z"
   },
   {
    "duration": 15,
    "start_time": "2023-03-09T10:00:29.864Z"
   },
   {
    "duration": 40,
    "start_time": "2023-03-09T10:00:29.881Z"
   },
   {
    "duration": 5,
    "start_time": "2023-03-09T10:00:29.922Z"
   },
   {
    "duration": 12,
    "start_time": "2023-03-09T10:00:29.933Z"
   },
   {
    "duration": 584,
    "start_time": "2023-03-09T10:00:29.947Z"
   },
   {
    "duration": 126,
    "start_time": "2023-03-09T10:00:30.533Z"
   },
   {
    "duration": 117,
    "start_time": "2023-03-09T10:00:30.661Z"
   },
   {
    "duration": 96,
    "start_time": "2023-03-09T10:00:30.779Z"
   },
   {
    "duration": 96,
    "start_time": "2023-03-09T10:00:30.877Z"
   },
   {
    "duration": 570,
    "start_time": "2023-03-09T10:04:34.011Z"
   },
   {
    "duration": 24,
    "start_time": "2023-03-09T10:04:34.583Z"
   },
   {
    "duration": 24,
    "start_time": "2023-03-09T10:04:34.609Z"
   },
   {
    "duration": 10,
    "start_time": "2023-03-09T10:04:34.634Z"
   },
   {
    "duration": 35,
    "start_time": "2023-03-09T10:04:34.647Z"
   },
   {
    "duration": 3,
    "start_time": "2023-03-09T10:04:34.684Z"
   },
   {
    "duration": 31,
    "start_time": "2023-03-09T10:04:34.689Z"
   },
   {
    "duration": 8,
    "start_time": "2023-03-09T10:04:34.721Z"
   },
   {
    "duration": 9,
    "start_time": "2023-03-09T10:04:34.731Z"
   },
   {
    "duration": 4,
    "start_time": "2023-03-09T10:04:34.741Z"
   },
   {
    "duration": 41,
    "start_time": "2023-03-09T10:04:34.747Z"
   },
   {
    "duration": 28,
    "start_time": "2023-03-09T10:04:34.790Z"
   },
   {
    "duration": 7,
    "start_time": "2023-03-09T10:04:34.823Z"
   },
   {
    "duration": 13,
    "start_time": "2023-03-09T10:04:34.834Z"
   },
   {
    "duration": 22,
    "start_time": "2023-03-09T10:04:34.848Z"
   },
   {
    "duration": 18,
    "start_time": "2023-03-09T10:04:34.872Z"
   },
   {
    "duration": 21,
    "start_time": "2023-03-09T10:04:34.892Z"
   },
   {
    "duration": 18,
    "start_time": "2023-03-09T10:04:34.915Z"
   },
   {
    "duration": 8,
    "start_time": "2023-03-09T10:04:34.934Z"
   },
   {
    "duration": 4,
    "start_time": "2023-03-09T10:04:34.944Z"
   },
   {
    "duration": 16,
    "start_time": "2023-03-09T10:04:34.949Z"
   },
   {
    "duration": 636,
    "start_time": "2023-03-09T10:04:34.966Z"
   },
   {
    "duration": 135,
    "start_time": "2023-03-09T10:04:35.604Z"
   },
   {
    "duration": 126,
    "start_time": "2023-03-09T10:04:35.741Z"
   },
   {
    "duration": 103,
    "start_time": "2023-03-09T10:04:35.869Z"
   },
   {
    "duration": 84,
    "start_time": "2023-03-09T10:04:35.973Z"
   },
   {
    "duration": 481,
    "start_time": "2023-03-09T11:10:46.278Z"
   },
   {
    "duration": 23,
    "start_time": "2023-03-09T11:10:46.761Z"
   },
   {
    "duration": 31,
    "start_time": "2023-03-09T11:10:46.785Z"
   },
   {
    "duration": 13,
    "start_time": "2023-03-09T11:10:46.818Z"
   },
   {
    "duration": 37,
    "start_time": "2023-03-09T11:10:46.832Z"
   },
   {
    "duration": 4,
    "start_time": "2023-03-09T11:10:46.871Z"
   },
   {
    "duration": 10,
    "start_time": "2023-03-09T11:10:46.876Z"
   },
   {
    "duration": 4,
    "start_time": "2023-03-09T11:10:46.888Z"
   },
   {
    "duration": 10,
    "start_time": "2023-03-09T11:10:46.917Z"
   },
   {
    "duration": 4,
    "start_time": "2023-03-09T11:10:46.930Z"
   },
   {
    "duration": 34,
    "start_time": "2023-03-09T11:10:46.936Z"
   },
   {
    "duration": 10,
    "start_time": "2023-03-09T11:10:46.971Z"
   },
   {
    "duration": 4,
    "start_time": "2023-03-09T11:10:46.982Z"
   },
   {
    "duration": 39,
    "start_time": "2023-03-09T11:10:46.987Z"
   },
   {
    "duration": 20,
    "start_time": "2023-03-09T11:10:47.027Z"
   },
   {
    "duration": 18,
    "start_time": "2023-03-09T11:10:47.049Z"
   },
   {
    "duration": 4,
    "start_time": "2023-03-09T11:10:47.069Z"
   },
   {
    "duration": 16,
    "start_time": "2023-03-09T11:10:47.075Z"
   },
   {
    "duration": 7,
    "start_time": "2023-03-09T11:10:47.121Z"
   },
   {
    "duration": 4,
    "start_time": "2023-03-09T11:10:47.134Z"
   },
   {
    "duration": 10,
    "start_time": "2023-03-09T11:10:47.140Z"
   },
   {
    "duration": 554,
    "start_time": "2023-03-09T11:10:47.152Z"
   },
   {
    "duration": 132,
    "start_time": "2023-03-09T11:10:47.707Z"
   },
   {
    "duration": 112,
    "start_time": "2023-03-09T11:10:47.841Z"
   },
   {
    "duration": 105,
    "start_time": "2023-03-09T11:10:47.955Z"
   },
   {
    "duration": 97,
    "start_time": "2023-03-09T11:10:48.062Z"
   },
   {
    "duration": 73,
    "start_time": "2023-03-09T13:18:15.294Z"
   },
   {
    "duration": 498,
    "start_time": "2023-03-09T13:54:03.008Z"
   },
   {
    "duration": 23,
    "start_time": "2023-03-09T13:54:03.508Z"
   },
   {
    "duration": 16,
    "start_time": "2023-03-09T13:54:03.533Z"
   },
   {
    "duration": 10,
    "start_time": "2023-03-09T13:54:03.552Z"
   },
   {
    "duration": 65,
    "start_time": "2023-03-09T13:54:03.563Z"
   },
   {
    "duration": 4,
    "start_time": "2023-03-09T13:54:03.629Z"
   },
   {
    "duration": 17,
    "start_time": "2023-03-09T13:54:03.635Z"
   },
   {
    "duration": 15,
    "start_time": "2023-03-09T13:54:03.654Z"
   },
   {
    "duration": 11,
    "start_time": "2023-03-09T13:54:03.671Z"
   },
   {
    "duration": 5,
    "start_time": "2023-03-09T13:54:03.701Z"
   },
   {
    "duration": 43,
    "start_time": "2023-03-09T13:54:03.707Z"
   },
   {
    "duration": 11,
    "start_time": "2023-03-09T13:54:03.752Z"
   },
   {
    "duration": 5,
    "start_time": "2023-03-09T13:54:03.765Z"
   },
   {
    "duration": 33,
    "start_time": "2023-03-09T13:54:03.771Z"
   },
   {
    "duration": 20,
    "start_time": "2023-03-09T13:54:03.806Z"
   },
   {
    "duration": 22,
    "start_time": "2023-03-09T13:54:03.828Z"
   },
   {
    "duration": 3,
    "start_time": "2023-03-09T13:54:03.852Z"
   },
   {
    "duration": 56,
    "start_time": "2023-03-09T13:54:03.856Z"
   },
   {
    "duration": 44,
    "start_time": "2023-03-09T13:54:03.913Z"
   },
   {
    "duration": 48,
    "start_time": "2023-03-09T13:54:03.959Z"
   },
   {
    "duration": 20,
    "start_time": "2023-03-09T13:54:04.009Z"
   },
   {
    "duration": 714,
    "start_time": "2023-03-09T13:54:04.032Z"
   },
   {
    "duration": 196,
    "start_time": "2023-03-09T13:54:04.748Z"
   },
   {
    "duration": 132,
    "start_time": "2023-03-09T13:54:04.946Z"
   },
   {
    "duration": 88,
    "start_time": "2023-03-09T13:54:05.080Z"
   },
   {
    "duration": 100,
    "start_time": "2023-03-09T13:54:05.170Z"
   },
   {
    "duration": 1212,
    "start_time": "2023-03-09T14:05:56.329Z"
   },
   {
    "duration": 497,
    "start_time": "2023-03-09T14:06:12.058Z"
   },
   {
    "duration": 23,
    "start_time": "2023-03-09T14:06:12.557Z"
   },
   {
    "duration": 19,
    "start_time": "2023-03-09T14:06:12.582Z"
   },
   {
    "duration": 27,
    "start_time": "2023-03-09T14:06:12.603Z"
   },
   {
    "duration": 51,
    "start_time": "2023-03-09T14:06:12.631Z"
   },
   {
    "duration": 3,
    "start_time": "2023-03-09T14:06:12.684Z"
   },
   {
    "duration": 28,
    "start_time": "2023-03-09T14:06:12.689Z"
   },
   {
    "duration": 14,
    "start_time": "2023-03-09T14:06:12.719Z"
   },
   {
    "duration": 29,
    "start_time": "2023-03-09T14:06:12.734Z"
   },
   {
    "duration": 17,
    "start_time": "2023-03-09T14:06:12.766Z"
   },
   {
    "duration": 61,
    "start_time": "2023-03-09T14:06:12.784Z"
   },
   {
    "duration": 9,
    "start_time": "2023-03-09T14:06:12.847Z"
   },
   {
    "duration": 18,
    "start_time": "2023-03-09T14:06:12.858Z"
   },
   {
    "duration": 26,
    "start_time": "2023-03-09T14:06:12.878Z"
   },
   {
    "duration": 35,
    "start_time": "2023-03-09T14:06:12.906Z"
   },
   {
    "duration": 17,
    "start_time": "2023-03-09T14:06:12.943Z"
   },
   {
    "duration": 15,
    "start_time": "2023-03-09T14:06:12.962Z"
   },
   {
    "duration": 50,
    "start_time": "2023-03-09T14:06:12.978Z"
   },
   {
    "duration": 22,
    "start_time": "2023-03-09T14:06:13.030Z"
   },
   {
    "duration": 17,
    "start_time": "2023-03-09T14:06:13.054Z"
   },
   {
    "duration": 30,
    "start_time": "2023-03-09T14:06:13.072Z"
   },
   {
    "duration": 612,
    "start_time": "2023-03-09T14:06:13.104Z"
   },
   {
    "duration": 115,
    "start_time": "2023-03-09T14:06:13.718Z"
   },
   {
    "duration": 1269,
    "start_time": "2023-03-09T14:06:13.835Z"
   },
   {
    "duration": 95,
    "start_time": "2023-03-09T14:06:15.106Z"
   },
   {
    "duration": 89,
    "start_time": "2023-03-09T14:06:15.203Z"
   },
   {
    "duration": 81,
    "start_time": "2023-03-09T14:06:15.294Z"
   },
   {
    "duration": 508,
    "start_time": "2023-03-09T16:19:43.714Z"
   },
   {
    "duration": 25,
    "start_time": "2023-03-09T16:19:44.224Z"
   },
   {
    "duration": 38,
    "start_time": "2023-03-09T16:19:44.250Z"
   },
   {
    "duration": 8,
    "start_time": "2023-03-09T16:19:44.290Z"
   },
   {
    "duration": 36,
    "start_time": "2023-03-09T16:19:44.301Z"
   },
   {
    "duration": 3,
    "start_time": "2023-03-09T16:19:44.339Z"
   },
   {
    "duration": 9,
    "start_time": "2023-03-09T16:19:44.346Z"
   },
   {
    "duration": 10,
    "start_time": "2023-03-09T16:19:44.356Z"
   },
   {
    "duration": 14,
    "start_time": "2023-03-09T16:19:44.367Z"
   },
   {
    "duration": 4,
    "start_time": "2023-03-09T16:19:44.383Z"
   },
   {
    "duration": 42,
    "start_time": "2023-03-09T16:19:44.388Z"
   },
   {
    "duration": 21,
    "start_time": "2023-03-09T16:19:44.432Z"
   },
   {
    "duration": 21,
    "start_time": "2023-03-09T16:19:44.459Z"
   },
   {
    "duration": 14,
    "start_time": "2023-03-09T16:19:44.483Z"
   },
   {
    "duration": 23,
    "start_time": "2023-03-09T16:19:44.499Z"
   },
   {
    "duration": 18,
    "start_time": "2023-03-09T16:19:44.523Z"
   },
   {
    "duration": 11,
    "start_time": "2023-03-09T16:19:44.544Z"
   },
   {
    "duration": 20,
    "start_time": "2023-03-09T16:19:44.562Z"
   },
   {
    "duration": 10,
    "start_time": "2023-03-09T16:19:44.584Z"
   },
   {
    "duration": 5,
    "start_time": "2023-03-09T16:19:44.595Z"
   },
   {
    "duration": 12,
    "start_time": "2023-03-09T16:19:44.601Z"
   },
   {
    "duration": 580,
    "start_time": "2023-03-09T16:19:44.615Z"
   },
   {
    "duration": 169,
    "start_time": "2023-03-09T16:19:45.197Z"
   },
   {
    "duration": 1507,
    "start_time": "2023-03-09T16:19:45.368Z"
   },
   {
    "duration": 110,
    "start_time": "2023-03-09T16:19:46.877Z"
   },
   {
    "duration": 86,
    "start_time": "2023-03-09T16:19:46.988Z"
   },
   {
    "duration": 95,
    "start_time": "2023-03-09T16:19:47.076Z"
   },
   {
    "duration": 425,
    "start_time": "2023-03-09T16:40:13.783Z"
   },
   {
    "duration": 21,
    "start_time": "2023-03-09T16:40:14.210Z"
   },
   {
    "duration": 16,
    "start_time": "2023-03-09T16:40:14.232Z"
   },
   {
    "duration": 17,
    "start_time": "2023-03-09T16:40:14.250Z"
   },
   {
    "duration": 31,
    "start_time": "2023-03-09T16:40:14.269Z"
   },
   {
    "duration": 3,
    "start_time": "2023-03-09T16:40:14.301Z"
   },
   {
    "duration": 9,
    "start_time": "2023-03-09T16:40:14.306Z"
   },
   {
    "duration": 4,
    "start_time": "2023-03-09T16:40:14.317Z"
   },
   {
    "duration": 32,
    "start_time": "2023-03-09T16:40:14.323Z"
   },
   {
    "duration": 6,
    "start_time": "2023-03-09T16:40:14.361Z"
   },
   {
    "duration": 43,
    "start_time": "2023-03-09T16:40:14.368Z"
   },
   {
    "duration": 9,
    "start_time": "2023-03-09T16:40:14.413Z"
   },
   {
    "duration": 5,
    "start_time": "2023-03-09T16:40:14.424Z"
   },
   {
    "duration": 24,
    "start_time": "2023-03-09T16:40:14.430Z"
   },
   {
    "duration": 21,
    "start_time": "2023-03-09T16:40:14.456Z"
   },
   {
    "duration": 15,
    "start_time": "2023-03-09T16:40:14.478Z"
   },
   {
    "duration": 3,
    "start_time": "2023-03-09T16:40:14.494Z"
   },
   {
    "duration": 13,
    "start_time": "2023-03-09T16:40:14.499Z"
   },
   {
    "duration": 9,
    "start_time": "2023-03-09T16:40:14.513Z"
   },
   {
    "duration": 23,
    "start_time": "2023-03-09T16:40:14.524Z"
   },
   {
    "duration": 16,
    "start_time": "2023-03-09T16:40:14.552Z"
   },
   {
    "duration": 487,
    "start_time": "2023-03-09T16:40:14.570Z"
   },
   {
    "duration": 108,
    "start_time": "2023-03-09T16:40:15.059Z"
   },
   {
    "duration": 1087,
    "start_time": "2023-03-09T16:40:15.169Z"
   },
   {
    "duration": 65,
    "start_time": "2023-03-09T16:40:16.258Z"
   },
   {
    "duration": 74,
    "start_time": "2023-03-09T16:40:16.325Z"
   },
   {
    "duration": 90,
    "start_time": "2023-03-09T16:40:16.401Z"
   },
   {
    "duration": 376,
    "start_time": "2023-03-09T16:54:46.607Z"
   },
   {
    "duration": 314,
    "start_time": "2023-03-09T17:22:30.059Z"
   },
   {
    "duration": 291,
    "start_time": "2023-03-09T17:23:35.521Z"
   },
   {
    "duration": 1040,
    "start_time": "2023-03-09T18:59:27.391Z"
   },
   {
    "duration": 24,
    "start_time": "2023-03-09T18:59:28.433Z"
   },
   {
    "duration": 19,
    "start_time": "2023-03-09T18:59:28.459Z"
   },
   {
    "duration": 12,
    "start_time": "2023-03-09T18:59:28.480Z"
   },
   {
    "duration": 36,
    "start_time": "2023-03-09T18:59:28.493Z"
   },
   {
    "duration": 27,
    "start_time": "2023-03-09T18:59:28.531Z"
   },
   {
    "duration": 8,
    "start_time": "2023-03-09T18:59:28.560Z"
   },
   {
    "duration": 4,
    "start_time": "2023-03-09T18:59:28.570Z"
   },
   {
    "duration": 9,
    "start_time": "2023-03-09T18:59:28.576Z"
   },
   {
    "duration": 5,
    "start_time": "2023-03-09T18:59:28.587Z"
   },
   {
    "duration": 67,
    "start_time": "2023-03-09T18:59:28.593Z"
   },
   {
    "duration": 10,
    "start_time": "2023-03-09T18:59:28.662Z"
   },
   {
    "duration": 5,
    "start_time": "2023-03-09T18:59:28.673Z"
   },
   {
    "duration": 14,
    "start_time": "2023-03-09T18:59:28.680Z"
   },
   {
    "duration": 24,
    "start_time": "2023-03-09T18:59:28.696Z"
   },
   {
    "duration": 53,
    "start_time": "2023-03-09T18:59:28.722Z"
   },
   {
    "duration": 5,
    "start_time": "2023-03-09T18:59:28.777Z"
   },
   {
    "duration": 22,
    "start_time": "2023-03-09T18:59:28.784Z"
   },
   {
    "duration": 12,
    "start_time": "2023-03-09T18:59:28.808Z"
   },
   {
    "duration": 10,
    "start_time": "2023-03-09T18:59:28.822Z"
   },
   {
    "duration": 32,
    "start_time": "2023-03-09T18:59:28.834Z"
   },
   {
    "duration": 754,
    "start_time": "2023-03-09T18:59:28.869Z"
   },
   {
    "duration": 159,
    "start_time": "2023-03-09T18:59:29.626Z"
   },
   {
    "duration": 1347,
    "start_time": "2023-03-09T18:59:29.788Z"
   },
   {
    "duration": 85,
    "start_time": "2023-03-09T18:59:31.137Z"
   },
   {
    "duration": 108,
    "start_time": "2023-03-09T18:59:31.224Z"
   },
   {
    "duration": 355,
    "start_time": "2023-03-09T18:59:31.335Z"
   },
   {
    "duration": 92,
    "start_time": "2023-03-09T18:59:31.694Z"
   },
   {
    "duration": 61,
    "start_time": "2023-03-23T19:48:07.823Z"
   },
   {
    "duration": 551,
    "start_time": "2023-03-23T19:48:15.882Z"
   },
   {
    "duration": 25,
    "start_time": "2023-03-23T19:48:16.435Z"
   },
   {
    "duration": 16,
    "start_time": "2023-03-23T19:48:16.462Z"
   },
   {
    "duration": 13,
    "start_time": "2023-03-23T19:48:16.481Z"
   },
   {
    "duration": 34,
    "start_time": "2023-03-23T19:48:16.495Z"
   },
   {
    "duration": 4,
    "start_time": "2023-03-23T19:48:16.531Z"
   },
   {
    "duration": 21,
    "start_time": "2023-03-23T19:48:16.537Z"
   },
   {
    "duration": 4,
    "start_time": "2023-03-23T19:48:16.560Z"
   },
   {
    "duration": 28,
    "start_time": "2023-03-23T19:48:16.566Z"
   },
   {
    "duration": 4,
    "start_time": "2023-03-23T19:48:16.597Z"
   },
   {
    "duration": 48,
    "start_time": "2023-03-23T19:48:16.602Z"
   },
   {
    "duration": 10,
    "start_time": "2023-03-23T19:48:16.652Z"
   },
   {
    "duration": 6,
    "start_time": "2023-03-23T19:48:16.664Z"
   },
   {
    "duration": 12,
    "start_time": "2023-03-23T19:48:16.689Z"
   },
   {
    "duration": 21,
    "start_time": "2023-03-23T19:48:16.702Z"
   },
   {
    "duration": 17,
    "start_time": "2023-03-23T19:48:16.724Z"
   },
   {
    "duration": 4,
    "start_time": "2023-03-23T19:48:16.742Z"
   },
   {
    "duration": 16,
    "start_time": "2023-03-23T19:48:16.747Z"
   },
   {
    "duration": 27,
    "start_time": "2023-03-23T19:48:16.764Z"
   },
   {
    "duration": 10,
    "start_time": "2023-03-23T19:48:16.793Z"
   },
   {
    "duration": 10,
    "start_time": "2023-03-23T19:48:16.805Z"
   },
   {
    "duration": 575,
    "start_time": "2023-03-23T19:48:16.816Z"
   },
   {
    "duration": 134,
    "start_time": "2023-03-23T19:48:17.393Z"
   },
   {
    "duration": 1468,
    "start_time": "2023-03-23T19:48:17.529Z"
   },
   {
    "duration": 94,
    "start_time": "2023-03-23T19:48:18.999Z"
   },
   {
    "duration": 75,
    "start_time": "2023-03-23T19:48:19.095Z"
   },
   {
    "duration": 369,
    "start_time": "2023-03-23T19:48:19.171Z"
   },
   {
    "duration": 91,
    "start_time": "2023-03-23T19:48:19.544Z"
   }
  ],
  "celltoolbar": "Edit Metadata",
  "colab": {
   "provenance": []
  },
  "kernelspec": {
   "display_name": "Python 3 (ipykernel)",
   "language": "python",
   "name": "python3"
  },
  "language_info": {
   "codemirror_mode": {
    "name": "ipython",
    "version": 3
   },
   "file_extension": ".py",
   "mimetype": "text/x-python",
   "name": "python",
   "nbconvert_exporter": "python",
   "pygments_lexer": "ipython3",
   "version": "3.10.9"
  },
  "toc": {
   "base_numbering": 1,
   "nav_menu": {},
   "number_sections": true,
   "sideBar": true,
   "skip_h1_title": true,
   "title_cell": "Table of Contents",
   "title_sidebar": "Contents",
   "toc_cell": false,
   "toc_position": {},
   "toc_section_display": true,
   "toc_window_display": true
  }
 },
 "nbformat": 4,
 "nbformat_minor": 5
}
